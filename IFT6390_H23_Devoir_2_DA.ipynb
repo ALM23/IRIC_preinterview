{
  "nbformat": 4,
  "nbformat_minor": 0,
  "metadata": {
    "colab": {
      "provenance": [],
      "include_colab_link": true
    },
    "kernelspec": {
      "name": "python3",
      "display_name": "Python 3"
    },
    "language_info": {
      "name": "python"
    }
  },
  "cells": [
    {
      "cell_type": "markdown",
      "metadata": {
        "id": "view-in-github",
        "colab_type": "text"
      },
      "source": [
        "<a href=\"https://colab.research.google.com/github/ALM23/IRIC_preinterview/blob/main/IFT6390_H23_Devoir_2_DA.ipynb\" target=\"_parent\"><img src=\"https://colab.research.google.com/assets/colab-badge.svg\" alt=\"Open In Colab\"/></a>"
      ]
    },
    {
      "cell_type": "markdown",
      "source": [
        "# ADequation: l'adéquation des connaissances en AD avec la pratique\n",
        "\n",
        "Nous allons développer dans ce devoir un outil de différentiation automatique qui reproduit l'essence des outils plus sophistiqués comme Autograd et JAX. Nous allons y parvenir à l'aide d'un \"traceur\" qui nous permettra de constuire un graphe de calcul de manière dynamique. Nous allons ensuite pouvoir utiliser ce graph de calcul pour implémenter l'accumulation arrière de manière récursive.   "
      ],
      "metadata": {
        "id": "qEBz86OOmogH"
      }
    },
    {
      "cell_type": "code",
      "source": [
        "import functools\n",
        "import numpy as onp\n",
        "import networkx as nx\n",
        "import matplotlib.pyplot as plt\n",
        "\n",
        "import jax\n",
        "import jax.numpy as jnp"
      ],
      "metadata": {
        "id": "3IXiVtoQNVH3"
      },
      "execution_count": null,
      "outputs": []
    },
    {
      "cell_type": "code",
      "source": [
        "%config InlineBackend.figure_format = 'svg'"
      ],
      "metadata": {
        "id": "UxPiXU9bQvKI"
      },
      "execution_count": null,
      "outputs": []
    },
    {
      "cell_type": "markdown",
      "source": [
        "# Visualisation\n",
        "\n",
        "Le code suivant sert à des fins de visualisation. Vous n'avez rien à implémenter vous-même ici. \n",
        "\n",
        "La fonction ``draw_computation_graph`` dessine le graphe de calcul à l'aide de la bibliothèque NetworkX et Matplotlib, et sauvegarde l'image dans un fichier PDF. La fonction ``convert_to_networkx`` convertit le graphe de calcul construit lors du traçage en partant du dernier nœud, et en visitant le graphe d'origine récursivement tout en ajoutant simultanément les nœuds et arêtes dans un graphe NetworkX."
      ],
      "metadata": {
        "id": "kQDCqh5lT1WJ"
      }
    },
    {
      "cell_type": "code",
      "source": [
        "def draw_computation_graph(graph, scale=20.):\n",
        "  pos = nx.multipartite_layout(graph, subset_key=\"layer\", scale=scale)\n",
        "  options = {\"edgecolors\": \"tab:gray\", \"node_size\": 3000, \"alpha\": 0.9, \"node_color\":\"tab:red\", \"font_color\":\"tan\", \"font_size\": 12}\n",
        "  fig, ax = plt.subplots(figsize=(5,4))\n",
        "  ax.set_ylim(-10, 10)\n",
        "  nx.draw(graph, ax=ax, pos=pos, connectionstyle='arc3, rad = 0.5', with_labels=True, **options)\n",
        "  ax.set_title(\"Computation Graph\")\n",
        "  fig.tight_layout()\n",
        "  fig.savefig('graph.pdf')\n",
        "\n",
        "def convert_to_networkx(node):\n",
        "  def add_node(graph, node):\n",
        "    if isinstance(node, onp.ndarray):\n",
        "      node = Node(value=node) # because numpy.ndarray is not hashable\n",
        "    graph.add_node(node)\n",
        "    if hasattr(node, 'parents'):\n",
        "      for p in node.parents:\n",
        "        if isinstance(p, onp.ndarray):\n",
        "          p = Node(value=p) # hashing\n",
        "        graph.add_edge(p, node)\n",
        "        graph = add_node(graph, p)\n",
        "    return graph\n",
        "      \n",
        "  graph = nx.MultiDiGraph()\n",
        "  graph = add_node(graph, node)\n",
        "\n",
        "  for layer, nodes in enumerate(reversed(list(nx.topological_generations(graph)))):\n",
        "    for node in nodes:\n",
        "      graph.nodes[node][\"layer\"] = layer\n",
        "  return graph"
      ],
      "metadata": {
        "id": "TCJCOxmgT189"
      },
      "execution_count": null,
      "outputs": []
    },
    {
      "cell_type": "markdown",
      "source": [
        "# Partie 1: traçage du code\n",
        "\n",
        "Cette classe est utilisée pour représenter les nœuds dans le graphe de calcul de la différentiation automatique en mode inverse. Les parents sont les nœuds qui ont contribué à la valeur actuelle de ce nœud, la valeur est la valeur calculée pour ce nœud, et la fonction est la fonction qui a été utilisée pour calculer cette valeur. Le code suivant est un composant clé de notre implémentation et permet de construire le graphe de calcul dynamiquement. "
      ],
      "metadata": {
        "id": "SpJH2MkyQww_"
      }
    },
    {
      "cell_type": "code",
      "source": [
        "class Node:\n",
        "  def __init__(self, parents=[], value=None, func=None):\n",
        "    self.parents = parents\n",
        "    self.value = value\n",
        "    self.func = func\n",
        "\n",
        "  def __add__(self, other_node):\n",
        "    return ad.add(self, other_node)\n",
        "\n",
        "  def __sub__(self, other_node):\n",
        "    return ad.subtract(self, other_node)\n",
        "\n",
        "  def __mul__(self, other_node):\n",
        "    return ad.multiply(self, other_node)\n",
        "\n",
        "  def __pow__(self, other_node):\n",
        "    return ad.power(self, other_node)\n",
        "    \n",
        "  def __str__(self):\n",
        "    label = str(self.value) if self.func is None else str(self.func.__name__)\n",
        "    return label\n",
        "\n",
        "  def __repr__(self):\n",
        "    return '<Node value=' + repr(self.value) + ', parents=' + repr(self.parents) + ', func=' + repr(self.func) + '>'"
      ],
      "metadata": {
        "id": "jyDxkfEdNTnX"
      },
      "execution_count": null,
      "outputs": []
    },
    {
      "cell_type": "markdown",
      "source": [
        "La fonction ``unbox`` prend une liste d'arguments et renvoie une nouvelle liste où chaque argument est remplacé par sa valeur s'il s'agit d'un objet ``Node``, ou laissé inchangé s'il ne l'est pas. Ce code sert donc à extraire les arguments enveloppés précédemment et de manipuler les objets d'origines directement. Nous allons utiliser cette fonction à chaque fois qu'une fonction tracée (décorée) est appelée pour développer (``unbox``) les arguments avant de les passer à la fonction d'origine (qui ne sait pas comment manipuler le type ``Node`` défini dans notre code). "
      ],
      "metadata": {
        "id": "zuLPVPXaQ_Do"
      }
    },
    {
      "cell_type": "code",
      "source": [
        "def unbox(args):\n",
        "  # À IMPLÉMENTER\n",
        "  pass"
      ],
      "metadata": {
        "id": "1uUECEnORQ9e"
      },
      "execution_count": null,
      "outputs": []
    },
    {
      "cell_type": "markdown",
      "source": [
        "La fonction ``trace`` prend une fonction ``func`` et une list de fonction ``vjp`` pour chaque argument. Elle renvoie une nouvelle fonction ``traced`` qui enveloppe ``func`` et renvoie un objet ``Node`` contenant la valeur calculée, les arguments d'origine et la fonction d'origine en tant qu'attributs. Lorsque le décorateur ``trace`` est appliqué sur une fonction primitive enveloppée, le dictionnaire  ``primitives`` est mis à jour avec ``func`` (clé) et son ``vjp``  correspondant (comme valeur pour la clé). Puisque nous allons supporter des primitives prenant plusieurs arguments, l'argument ``vjp`` doit être une liste de fonctions pour calculer la dérivée partielle de chaque argument."
      ],
      "metadata": {
        "id": "RzWJMYuvRSsm"
      }
    },
    {
      "cell_type": "markdown",
      "source": [
        "## Définition des vjps\n",
        "\n",
        "Nous pouvons maintenant définir un ensemble de primitives que nous souhaitons supporter dans notre système de différentiation automatique. Chaque fonction est décorée avec la fonction ``trace``, qui permet de tracer la fonction et d'ensuite appliquer la fonction de produit vecteur-Jacobien (vjp) correspondante lors de l'accumulation arrière. Nous stockons nos vjps dans un classe ``Adequation`` de manière à pouvoir dynamiquement changer l'espace de noms entre notre propre système de différentiation automatique et celui de JAX, pour des fins de vérifications. \n",
        "\n",
        "Définissez maintenant vous-même le vjp correspondant à la fonction ``numpy.dot``. Pour y arriver, notons que cette fonction est mathématiquement parlant, une fonction binaire de la forme $f(a, b) = a^\\top b$ si $a$ et $b$ sont des vecteurs ou $f(A, B) = A B$ si $A$ et $B$ sont des matrices. "
      ],
      "metadata": {
        "id": "_19TNIBTR6VM"
      }
    },
    {
      "cell_type": "code",
      "source": [
        "class Adequation():\n",
        "\n",
        "  primitives = {}\n",
        "\n",
        "  def trace(self, func, vjp):\n",
        "    @functools.wraps(func)\n",
        "    def traced(*args):\n",
        "      # À IMPLÉMENTER\n",
        "      pass \n",
        "    # À IMPLÉMENTER\n",
        "    return traced\n",
        "\n",
        "  def __init__(self):\n",
        "    self.add = self.trace(onp.add, vjp=(lambda g, ans, x, y: g, \n",
        "                              lambda g, ans, x, y: g))\n",
        "    self.subtract = self.trace(onp.subtract, vjp=(lambda g, ans, x, y: g, \n",
        "                                        lambda g, ans, x, y: -g))\n",
        "    self.multiply = self.trace(onp.multiply, vjp=(lambda g, ans, x, y: y*g, \n",
        "                                        lambda g, ans, x, y: x*g))\n",
        "    self.negative = self.trace(onp.negative, vjp=(lambda g, ans, x: -g,))\n",
        "    self.exp = self.trace(onp.exp, vjp=(lambda g, ans, x: ans * g,))\n",
        "    self.sin = self.trace(onp.sin, vjp=(lambda g, ans, x: g*onp.cos(x),))\n",
        "    self.cos = self.trace(onp.cos, vjp=(lambda g, ans, x: -g*onp.sin(x),))\n",
        "    self.power = self.trace(onp.power, \n",
        "                       vjp=(lambda g, ans, x, y : g * y * x ** onp.where(y, y - 1, 1.),\n",
        "                            lambda g, ans, x, y : g * onp.log(onp.where(x, x, 1.)) * ans))\n",
        "\n",
        "    self.dot = self.trace(onp.dot, vjp=(lambda g, ans, a, b: onp.dot(g, onp.transpose(b)), lambda g, ans, a, b: onp.dot(onp.transpose(a), g)))"
      ],
      "metadata": {
        "id": "ZkcZPzCRNfzk"
      },
      "execution_count": null,
      "outputs": []
    },
    {
      "cell_type": "markdown",
      "source": [
        "Passons maintenant à l'espace de nom de notre implémentation:"
      ],
      "metadata": {
        "id": "MfXuuBcsQed2"
      }
    },
    {
      "cell_type": "code",
      "source": [
        "ad = Adequation()"
      ],
      "metadata": {
        "id": "q4LMSVkaSjFV"
      },
      "execution_count": null,
      "outputs": []
    },
    {
      "cell_type": "markdown",
      "source": [
        "## Exemples\n",
        "\n",
        "Nous supportons la construction de graphe de calcul opérant autant sur des scalaires que des ``numpy.ndarray``\n",
        "\n"
      ],
      "metadata": {
        "id": "r8bUTBwzUNo3"
      }
    },
    {
      "cell_type": "code",
      "source": [
        "def f(x):\n",
        "  return ad.add(ad.cos(ad.sin(x)), x)\n",
        "end_node = f(Node(value=onp.array([1., 2.])))\n",
        "draw_computation_graph(convert_to_networkx(end_node))"
      ],
      "metadata": {
        "colab": {
          "base_uri": "https://localhost:8080/",
          "height": 394
        },
        "id": "B3m-Rv_KUuHW",
        "outputId": "997eb15b-e73f-4a34-b60d-0e206ffc3b7c"
      },
      "execution_count": null,
      "outputs": [
        {
          "output_type": "display_data",
          "data": {
            "text/plain": [
              "<Figure size 360x288 with 1 Axes>"
            ],
            "image/svg+xml": "<?xml version=\"1.0\" encoding=\"utf-8\" standalone=\"no\"?>\n<!DOCTYPE svg PUBLIC \"-//W3C//DTD SVG 1.1//EN\"\n  \"http://www.w3.org/Graphics/SVG/1.1/DTD/svg11.dtd\">\n<!-- Created with matplotlib (https://matplotlib.org/) -->\n<svg height=\"279.918125pt\" version=\"1.1\" viewBox=\"0 0 352.8 279.918125\" width=\"352.8pt\" xmlns=\"http://www.w3.org/2000/svg\" xmlns:xlink=\"http://www.w3.org/1999/xlink\">\n <defs>\n  <style type=\"text/css\">\n*{stroke-linecap:butt;stroke-linejoin:round;}\n  </style>\n </defs>\n <g id=\"figure_1\">\n  <g id=\"patch_1\">\n   <path d=\"M 0 279.918125 \nL 352.8 279.918125 \nL 352.8 0 \nL 0 0 \nz\n\" style=\"fill:#ffffff;\"/>\n  </g>\n  <g id=\"axes_1\">\n   <g id=\"patch_2\">\n    <path clip-path=\"url(#p42dce0b26c)\" d=\"M 108.055899 130.851964 \nQ 83.177743 117.573187 59.285931 130.324595 \n\" style=\"fill:none;stroke:#000000;stroke-linecap:round;stroke-opacity:0.9;\"/>\n    <path clip-path=\"url(#p42dce0b26c)\" d=\"M 63.756484 130.205621 \nL 59.285931 130.324595 \nL 61.873084 126.676768 \nL 63.756484 130.205621 \nz\n\" style=\"fill-opacity:0.9;stroke:#000000;stroke-linecap:round;stroke-opacity:0.9;\"/>\n   </g>\n   <g id=\"patch_3\">\n    <path clip-path=\"url(#p42dce0b26c)\" d=\"M 201.279039 130.851964 \nQ 176.400883 117.573187 152.509071 130.324595 \n\" style=\"fill:none;stroke:#000000;stroke-linecap:round;stroke-opacity:0.9;\"/>\n    <path clip-path=\"url(#p42dce0b26c)\" d=\"M 156.979625 130.205621 \nL 152.509071 130.324595 \nL 155.096224 126.676768 \nL 156.979625 130.205621 \nz\n\" style=\"fill-opacity:0.9;stroke:#000000;stroke-linecap:round;stroke-opacity:0.9;\"/>\n   </g>\n   <g id=\"patch_4\">\n    <path clip-path=\"url(#p42dce0b26c)\" d=\"M 294.50218 130.851964 \nQ 269.624024 117.573187 245.732212 130.324595 \n\" style=\"fill:none;stroke:#000000;stroke-linecap:round;stroke-opacity:0.9;\"/>\n    <path clip-path=\"url(#p42dce0b26c)\" d=\"M 250.202765 130.205621 \nL 245.732212 130.324595 \nL 248.319365 126.676768 \nL 250.202765 130.205621 \nz\n\" style=\"fill-opacity:0.9;stroke:#000000;stroke-linecap:round;stroke-opacity:0.9;\"/>\n   </g>\n   <g id=\"patch_5\">\n    <path clip-path=\"url(#p42dce0b26c)\" d=\"M 296.162916 128.886877 \nQ 176.400655 26.315223 57.487559 128.158487 \n\" style=\"fill:none;stroke:#000000;stroke-linecap:round;stroke-opacity:0.9;\"/>\n    <path clip-path=\"url(#p42dce0b26c)\" d=\"M 61.8266 127.075566 \nL 57.487559 128.158487 \nL 59.224646 124.037501 \nL 61.8266 127.075566 \nz\n\" style=\"fill-opacity:0.9;stroke:#000000;stroke-linecap:round;stroke-opacity:0.9;\"/>\n   </g>\n   <g id=\"PathCollection_1\">\n    <defs>\n     <path d=\"M 0 27.386128 \nC 7.262886 27.386128 14.229281 24.500553 19.364917 19.364917 \nC 24.500553 14.229281 27.386128 7.262886 27.386128 0 \nC 27.386128 -7.262886 24.500553 -14.229281 19.364917 -19.364917 \nC 14.229281 -24.500553 7.262886 -27.386128 0 -27.386128 \nC -7.262886 -27.386128 -14.229281 -24.500553 -19.364917 -19.364917 \nC -24.500553 -14.229281 -27.386128 -7.262886 -27.386128 0 \nC -27.386128 7.262886 -24.500553 14.229281 -19.364917 19.364917 \nC -14.229281 24.500553 -7.262886 27.386128 0 27.386128 \nz\n\" id=\"mce6e6f6d1b\" style=\"stroke:#7f7f7f;stroke-opacity:0.9;\"/>\n    </defs>\n    <g clip-path=\"url(#p42dce0b26c)\">\n     <use style=\"fill:#d62728;fill-opacity:0.9;stroke:#7f7f7f;stroke-opacity:0.9;\" x=\"36.565289\" xlink:href=\"#mce6e6f6d1b\" y=\"147.518125\"/>\n     <use style=\"fill:#d62728;fill-opacity:0.9;stroke:#7f7f7f;stroke-opacity:0.9;\" x=\"129.78843\" xlink:href=\"#mce6e6f6d1b\" y=\"147.518125\"/>\n     <use style=\"fill:#d62728;fill-opacity:0.9;stroke:#7f7f7f;stroke-opacity:0.9;\" x=\"223.01157\" xlink:href=\"#mce6e6f6d1b\" y=\"147.518125\"/>\n     <use style=\"fill:#d62728;fill-opacity:0.9;stroke:#7f7f7f;stroke-opacity:0.9;\" x=\"316.234711\" xlink:href=\"#mce6e6f6d1b\" y=\"147.518125\"/>\n    </g>\n   </g>\n   <g id=\"text_1\">\n    <g clip-path=\"url(#p42dce0b26c)\">\n     <!-- add -->\n     <defs>\n      <path d=\"M 34.28125 27.484375 \nQ 23.390625 27.484375 19.1875 25 \nQ 14.984375 22.515625 14.984375 16.5 \nQ 14.984375 11.71875 18.140625 8.90625 \nQ 21.296875 6.109375 26.703125 6.109375 \nQ 34.1875 6.109375 38.703125 11.40625 \nQ 43.21875 16.703125 43.21875 25.484375 \nL 43.21875 27.484375 \nz\nM 52.203125 31.203125 \nL 52.203125 0 \nL 43.21875 0 \nL 43.21875 8.296875 \nQ 40.140625 3.328125 35.546875 0.953125 \nQ 30.953125 -1.421875 24.3125 -1.421875 \nQ 15.921875 -1.421875 10.953125 3.296875 \nQ 6 8.015625 6 15.921875 \nQ 6 25.140625 12.171875 29.828125 \nQ 18.359375 34.515625 30.609375 34.515625 \nL 43.21875 34.515625 \nL 43.21875 35.40625 \nQ 43.21875 41.609375 39.140625 45 \nQ 35.0625 48.390625 27.6875 48.390625 \nQ 23 48.390625 18.546875 47.265625 \nQ 14.109375 46.140625 10.015625 43.890625 \nL 10.015625 52.203125 \nQ 14.9375 54.109375 19.578125 55.046875 \nQ 24.21875 56 28.609375 56 \nQ 40.484375 56 46.34375 49.84375 \nQ 52.203125 43.703125 52.203125 31.203125 \nz\n\" id=\"DejaVuSans-97\"/>\n      <path d=\"M 45.40625 46.390625 \nL 45.40625 75.984375 \nL 54.390625 75.984375 \nL 54.390625 0 \nL 45.40625 0 \nL 45.40625 8.203125 \nQ 42.578125 3.328125 38.25 0.953125 \nQ 33.9375 -1.421875 27.875 -1.421875 \nQ 17.96875 -1.421875 11.734375 6.484375 \nQ 5.515625 14.40625 5.515625 27.296875 \nQ 5.515625 40.1875 11.734375 48.09375 \nQ 17.96875 56 27.875 56 \nQ 33.9375 56 38.25 53.625 \nQ 42.578125 51.265625 45.40625 46.390625 \nz\nM 14.796875 27.296875 \nQ 14.796875 17.390625 18.875 11.75 \nQ 22.953125 6.109375 30.078125 6.109375 \nQ 37.203125 6.109375 41.296875 11.75 \nQ 45.40625 17.390625 45.40625 27.296875 \nQ 45.40625 37.203125 41.296875 42.84375 \nQ 37.203125 48.484375 30.078125 48.484375 \nQ 22.953125 48.484375 18.875 42.84375 \nQ 14.796875 37.203125 14.796875 27.296875 \nz\n\" id=\"DejaVuSans-100\"/>\n     </defs>\n     <g style=\"fill:#d2b48c;opacity:0.9;\" transform=\"translate(25.270289 150.829375)scale(0.12 -0.12)\">\n      <use xlink:href=\"#DejaVuSans-97\"/>\n      <use x=\"61.279297\" xlink:href=\"#DejaVuSans-100\"/>\n      <use x=\"124.755859\" xlink:href=\"#DejaVuSans-100\"/>\n     </g>\n    </g>\n   </g>\n   <g id=\"text_2\">\n    <g clip-path=\"url(#p42dce0b26c)\">\n     <!-- cos -->\n     <defs>\n      <path d=\"M 48.78125 52.59375 \nL 48.78125 44.1875 \nQ 44.96875 46.296875 41.140625 47.34375 \nQ 37.3125 48.390625 33.40625 48.390625 \nQ 24.65625 48.390625 19.8125 42.84375 \nQ 14.984375 37.3125 14.984375 27.296875 \nQ 14.984375 17.28125 19.8125 11.734375 \nQ 24.65625 6.203125 33.40625 6.203125 \nQ 37.3125 6.203125 41.140625 7.25 \nQ 44.96875 8.296875 48.78125 10.40625 \nL 48.78125 2.09375 \nQ 45.015625 0.34375 40.984375 -0.53125 \nQ 36.96875 -1.421875 32.421875 -1.421875 \nQ 20.0625 -1.421875 12.78125 6.34375 \nQ 5.515625 14.109375 5.515625 27.296875 \nQ 5.515625 40.671875 12.859375 48.328125 \nQ 20.21875 56 33.015625 56 \nQ 37.15625 56 41.109375 55.140625 \nQ 45.0625 54.296875 48.78125 52.59375 \nz\n\" id=\"DejaVuSans-99\"/>\n      <path d=\"M 30.609375 48.390625 \nQ 23.390625 48.390625 19.1875 42.75 \nQ 14.984375 37.109375 14.984375 27.296875 \nQ 14.984375 17.484375 19.15625 11.84375 \nQ 23.34375 6.203125 30.609375 6.203125 \nQ 37.796875 6.203125 41.984375 11.859375 \nQ 46.1875 17.53125 46.1875 27.296875 \nQ 46.1875 37.015625 41.984375 42.703125 \nQ 37.796875 48.390625 30.609375 48.390625 \nz\nM 30.609375 56 \nQ 42.328125 56 49.015625 48.375 \nQ 55.71875 40.765625 55.71875 27.296875 \nQ 55.71875 13.875 49.015625 6.21875 \nQ 42.328125 -1.421875 30.609375 -1.421875 \nQ 18.84375 -1.421875 12.171875 6.21875 \nQ 5.515625 13.875 5.515625 27.296875 \nQ 5.515625 40.765625 12.171875 48.375 \nQ 18.84375 56 30.609375 56 \nz\n\" id=\"DejaVuSans-111\"/>\n      <path d=\"M 44.28125 53.078125 \nL 44.28125 44.578125 \nQ 40.484375 46.53125 36.375 47.5 \nQ 32.28125 48.484375 27.875 48.484375 \nQ 21.1875 48.484375 17.84375 46.4375 \nQ 14.5 44.390625 14.5 40.28125 \nQ 14.5 37.15625 16.890625 35.375 \nQ 19.28125 33.59375 26.515625 31.984375 \nL 29.59375 31.296875 \nQ 39.15625 29.25 43.1875 25.515625 \nQ 47.21875 21.78125 47.21875 15.09375 \nQ 47.21875 7.46875 41.1875 3.015625 \nQ 35.15625 -1.421875 24.609375 -1.421875 \nQ 20.21875 -1.421875 15.453125 -0.5625 \nQ 10.6875 0.296875 5.421875 2 \nL 5.421875 11.28125 \nQ 10.40625 8.6875 15.234375 7.390625 \nQ 20.0625 6.109375 24.8125 6.109375 \nQ 31.15625 6.109375 34.5625 8.28125 \nQ 37.984375 10.453125 37.984375 14.40625 \nQ 37.984375 18.0625 35.515625 20.015625 \nQ 33.0625 21.96875 24.703125 23.78125 \nL 21.578125 24.515625 \nQ 13.234375 26.265625 9.515625 29.90625 \nQ 5.8125 33.546875 5.8125 39.890625 \nQ 5.8125 47.609375 11.28125 51.796875 \nQ 16.75 56 26.8125 56 \nQ 31.78125 56 36.171875 55.265625 \nQ 40.578125 54.546875 44.28125 53.078125 \nz\n\" id=\"DejaVuSans-115\"/>\n     </defs>\n     <g style=\"fill:#d2b48c;opacity:0.9;\" transform=\"translate(119.692492 150.829375)scale(0.12 -0.12)\">\n      <use xlink:href=\"#DejaVuSans-99\"/>\n      <use x=\"54.980469\" xlink:href=\"#DejaVuSans-111\"/>\n      <use x=\"116.162109\" xlink:href=\"#DejaVuSans-115\"/>\n     </g>\n    </g>\n   </g>\n   <g id=\"text_3\">\n    <g clip-path=\"url(#p42dce0b26c)\">\n     <!-- sin -->\n     <defs>\n      <path d=\"M 9.421875 54.6875 \nL 18.40625 54.6875 \nL 18.40625 0 \nL 9.421875 0 \nz\nM 9.421875 75.984375 \nL 18.40625 75.984375 \nL 18.40625 64.59375 \nL 9.421875 64.59375 \nz\n\" id=\"DejaVuSans-105\"/>\n      <path d=\"M 54.890625 33.015625 \nL 54.890625 0 \nL 45.90625 0 \nL 45.90625 32.71875 \nQ 45.90625 40.484375 42.875 44.328125 \nQ 39.84375 48.1875 33.796875 48.1875 \nQ 26.515625 48.1875 22.3125 43.546875 \nQ 18.109375 38.921875 18.109375 30.90625 \nL 18.109375 0 \nL 9.078125 0 \nL 9.078125 54.6875 \nL 18.109375 54.6875 \nL 18.109375 46.1875 \nQ 21.34375 51.125 25.703125 53.5625 \nQ 30.078125 56 35.796875 56 \nQ 45.21875 56 50.046875 50.171875 \nQ 54.890625 44.34375 54.890625 33.015625 \nz\n\" id=\"DejaVuSans-110\"/>\n     </defs>\n     <g style=\"fill:#d2b48c;opacity:0.9;\" transform=\"translate(214.41657 150.829375)scale(0.12 -0.12)\">\n      <use xlink:href=\"#DejaVuSans-115\"/>\n      <use x=\"52.099609\" xlink:href=\"#DejaVuSans-105\"/>\n      <use x=\"79.882812\" xlink:href=\"#DejaVuSans-110\"/>\n     </g>\n    </g>\n   </g>\n   <g id=\"text_4\">\n    <g clip-path=\"url(#p42dce0b26c)\">\n     <!-- [1. 2.] -->\n     <defs>\n      <path d=\"M 8.59375 75.984375 \nL 29.296875 75.984375 \nL 29.296875 69 \nL 17.578125 69 \nL 17.578125 -6.203125 \nL 29.296875 -6.203125 \nL 29.296875 -13.1875 \nL 8.59375 -13.1875 \nz\n\" id=\"DejaVuSans-91\"/>\n      <path d=\"M 12.40625 8.296875 \nL 28.515625 8.296875 \nL 28.515625 63.921875 \nL 10.984375 60.40625 \nL 10.984375 69.390625 \nL 28.421875 72.90625 \nL 38.28125 72.90625 \nL 38.28125 8.296875 \nL 54.390625 8.296875 \nL 54.390625 0 \nL 12.40625 0 \nz\n\" id=\"DejaVuSans-49\"/>\n      <path d=\"M 10.6875 12.40625 \nL 21 12.40625 \nL 21 0 \nL 10.6875 0 \nz\n\" id=\"DejaVuSans-46\"/>\n      <path id=\"DejaVuSans-32\"/>\n      <path d=\"M 19.1875 8.296875 \nL 53.609375 8.296875 \nL 53.609375 0 \nL 7.328125 0 \nL 7.328125 8.296875 \nQ 12.9375 14.109375 22.625 23.890625 \nQ 32.328125 33.6875 34.8125 36.53125 \nQ 39.546875 41.84375 41.421875 45.53125 \nQ 43.3125 49.21875 43.3125 52.78125 \nQ 43.3125 58.59375 39.234375 62.25 \nQ 35.15625 65.921875 28.609375 65.921875 \nQ 23.96875 65.921875 18.8125 64.3125 \nQ 13.671875 62.703125 7.8125 59.421875 \nL 7.8125 69.390625 \nQ 13.765625 71.78125 18.9375 73 \nQ 24.125 74.21875 28.421875 74.21875 \nQ 39.75 74.21875 46.484375 68.546875 \nQ 53.21875 62.890625 53.21875 53.421875 \nQ 53.21875 48.921875 51.53125 44.890625 \nQ 49.859375 40.875 45.40625 35.40625 \nQ 44.1875 33.984375 37.640625 27.21875 \nQ 31.109375 20.453125 19.1875 8.296875 \nz\n\" id=\"DejaVuSans-50\"/>\n      <path d=\"M 30.421875 75.984375 \nL 30.421875 -13.1875 \nL 9.71875 -13.1875 \nL 9.71875 -6.203125 \nL 21.390625 -6.203125 \nL 21.390625 69 \nL 9.71875 69 \nL 9.71875 75.984375 \nz\n\" id=\"DejaVuSans-93\"/>\n     </defs>\n     <g style=\"fill:#d2b48c;opacity:0.9;\" transform=\"translate(298.197211 150.829375)scale(0.12 -0.12)\">\n      <use xlink:href=\"#DejaVuSans-91\"/>\n      <use x=\"39.013672\" xlink:href=\"#DejaVuSans-49\"/>\n      <use x=\"102.636719\" xlink:href=\"#DejaVuSans-46\"/>\n      <use x=\"134.423828\" xlink:href=\"#DejaVuSans-32\"/>\n      <use x=\"166.210938\" xlink:href=\"#DejaVuSans-50\"/>\n      <use x=\"229.833984\" xlink:href=\"#DejaVuSans-46\"/>\n      <use x=\"261.621094\" xlink:href=\"#DejaVuSans-93\"/>\n     </g>\n    </g>\n   </g>\n   <g id=\"text_5\">\n    <!-- Computation Graph -->\n    <defs>\n     <path d=\"M 64.40625 67.28125 \nL 64.40625 56.890625 \nQ 59.421875 61.53125 53.78125 63.8125 \nQ 48.140625 66.109375 41.796875 66.109375 \nQ 29.296875 66.109375 22.65625 58.46875 \nQ 16.015625 50.828125 16.015625 36.375 \nQ 16.015625 21.96875 22.65625 14.328125 \nQ 29.296875 6.6875 41.796875 6.6875 \nQ 48.140625 6.6875 53.78125 8.984375 \nQ 59.421875 11.28125 64.40625 15.921875 \nL 64.40625 5.609375 \nQ 59.234375 2.09375 53.4375 0.328125 \nQ 47.65625 -1.421875 41.21875 -1.421875 \nQ 24.65625 -1.421875 15.125 8.703125 \nQ 5.609375 18.84375 5.609375 36.375 \nQ 5.609375 53.953125 15.125 64.078125 \nQ 24.65625 74.21875 41.21875 74.21875 \nQ 47.75 74.21875 53.53125 72.484375 \nQ 59.328125 70.75 64.40625 67.28125 \nz\n\" id=\"DejaVuSans-67\"/>\n     <path d=\"M 52 44.1875 \nQ 55.375 50.25 60.0625 53.125 \nQ 64.75 56 71.09375 56 \nQ 79.640625 56 84.28125 50.015625 \nQ 88.921875 44.046875 88.921875 33.015625 \nL 88.921875 0 \nL 79.890625 0 \nL 79.890625 32.71875 \nQ 79.890625 40.578125 77.09375 44.375 \nQ 74.3125 48.1875 68.609375 48.1875 \nQ 61.625 48.1875 57.5625 43.546875 \nQ 53.515625 38.921875 53.515625 30.90625 \nL 53.515625 0 \nL 44.484375 0 \nL 44.484375 32.71875 \nQ 44.484375 40.625 41.703125 44.40625 \nQ 38.921875 48.1875 33.109375 48.1875 \nQ 26.21875 48.1875 22.15625 43.53125 \nQ 18.109375 38.875 18.109375 30.90625 \nL 18.109375 0 \nL 9.078125 0 \nL 9.078125 54.6875 \nL 18.109375 54.6875 \nL 18.109375 46.1875 \nQ 21.1875 51.21875 25.484375 53.609375 \nQ 29.78125 56 35.6875 56 \nQ 41.65625 56 45.828125 52.96875 \nQ 50 49.953125 52 44.1875 \nz\n\" id=\"DejaVuSans-109\"/>\n     <path d=\"M 18.109375 8.203125 \nL 18.109375 -20.796875 \nL 9.078125 -20.796875 \nL 9.078125 54.6875 \nL 18.109375 54.6875 \nL 18.109375 46.390625 \nQ 20.953125 51.265625 25.265625 53.625 \nQ 29.59375 56 35.59375 56 \nQ 45.5625 56 51.78125 48.09375 \nQ 58.015625 40.1875 58.015625 27.296875 \nQ 58.015625 14.40625 51.78125 6.484375 \nQ 45.5625 -1.421875 35.59375 -1.421875 \nQ 29.59375 -1.421875 25.265625 0.953125 \nQ 20.953125 3.328125 18.109375 8.203125 \nz\nM 48.6875 27.296875 \nQ 48.6875 37.203125 44.609375 42.84375 \nQ 40.53125 48.484375 33.40625 48.484375 \nQ 26.265625 48.484375 22.1875 42.84375 \nQ 18.109375 37.203125 18.109375 27.296875 \nQ 18.109375 17.390625 22.1875 11.75 \nQ 26.265625 6.109375 33.40625 6.109375 \nQ 40.53125 6.109375 44.609375 11.75 \nQ 48.6875 17.390625 48.6875 27.296875 \nz\n\" id=\"DejaVuSans-112\"/>\n     <path d=\"M 8.5 21.578125 \nL 8.5 54.6875 \nL 17.484375 54.6875 \nL 17.484375 21.921875 \nQ 17.484375 14.15625 20.5 10.265625 \nQ 23.53125 6.390625 29.59375 6.390625 \nQ 36.859375 6.390625 41.078125 11.03125 \nQ 45.3125 15.671875 45.3125 23.6875 \nL 45.3125 54.6875 \nL 54.296875 54.6875 \nL 54.296875 0 \nL 45.3125 0 \nL 45.3125 8.40625 \nQ 42.046875 3.421875 37.71875 1 \nQ 33.40625 -1.421875 27.6875 -1.421875 \nQ 18.265625 -1.421875 13.375 4.4375 \nQ 8.5 10.296875 8.5 21.578125 \nz\nM 31.109375 56 \nz\n\" id=\"DejaVuSans-117\"/>\n     <path d=\"M 18.3125 70.21875 \nL 18.3125 54.6875 \nL 36.8125 54.6875 \nL 36.8125 47.703125 \nL 18.3125 47.703125 \nL 18.3125 18.015625 \nQ 18.3125 11.328125 20.140625 9.421875 \nQ 21.96875 7.515625 27.59375 7.515625 \nL 36.8125 7.515625 \nL 36.8125 0 \nL 27.59375 0 \nQ 17.1875 0 13.234375 3.875 \nQ 9.28125 7.765625 9.28125 18.015625 \nL 9.28125 47.703125 \nL 2.6875 47.703125 \nL 2.6875 54.6875 \nL 9.28125 54.6875 \nL 9.28125 70.21875 \nz\n\" id=\"DejaVuSans-116\"/>\n     <path d=\"M 59.515625 10.40625 \nL 59.515625 29.984375 \nL 43.40625 29.984375 \nL 43.40625 38.09375 \nL 69.28125 38.09375 \nL 69.28125 6.78125 \nQ 63.578125 2.734375 56.6875 0.65625 \nQ 49.8125 -1.421875 42 -1.421875 \nQ 24.90625 -1.421875 15.25 8.5625 \nQ 5.609375 18.5625 5.609375 36.375 \nQ 5.609375 54.25 15.25 64.234375 \nQ 24.90625 74.21875 42 74.21875 \nQ 49.125 74.21875 55.546875 72.453125 \nQ 61.96875 70.703125 67.390625 67.28125 \nL 67.390625 56.78125 \nQ 61.921875 61.421875 55.765625 63.765625 \nQ 49.609375 66.109375 42.828125 66.109375 \nQ 29.4375 66.109375 22.71875 58.640625 \nQ 16.015625 51.171875 16.015625 36.375 \nQ 16.015625 21.625 22.71875 14.15625 \nQ 29.4375 6.6875 42.828125 6.6875 \nQ 48.046875 6.6875 52.140625 7.59375 \nQ 56.25 8.5 59.515625 10.40625 \nz\n\" id=\"DejaVuSans-71\"/>\n     <path d=\"M 41.109375 46.296875 \nQ 39.59375 47.171875 37.8125 47.578125 \nQ 36.03125 48 33.890625 48 \nQ 26.265625 48 22.1875 43.046875 \nQ 18.109375 38.09375 18.109375 28.8125 \nL 18.109375 0 \nL 9.078125 0 \nL 9.078125 54.6875 \nL 18.109375 54.6875 \nL 18.109375 46.1875 \nQ 20.953125 51.171875 25.484375 53.578125 \nQ 30.03125 56 36.53125 56 \nQ 37.453125 56 38.578125 55.875 \nQ 39.703125 55.765625 41.0625 55.515625 \nz\n\" id=\"DejaVuSans-114\"/>\n     <path d=\"M 54.890625 33.015625 \nL 54.890625 0 \nL 45.90625 0 \nL 45.90625 32.71875 \nQ 45.90625 40.484375 42.875 44.328125 \nQ 39.84375 48.1875 33.796875 48.1875 \nQ 26.515625 48.1875 22.3125 43.546875 \nQ 18.109375 38.921875 18.109375 30.90625 \nL 18.109375 0 \nL 9.078125 0 \nL 9.078125 75.984375 \nL 18.109375 75.984375 \nL 18.109375 46.1875 \nQ 21.34375 51.125 25.703125 53.5625 \nQ 30.078125 56 35.796875 56 \nQ 45.21875 56 50.046875 50.171875 \nQ 54.890625 44.34375 54.890625 33.015625 \nz\n\" id=\"DejaVuSans-104\"/>\n    </defs>\n    <g transform=\"translate(117.250312 16.318125)scale(0.12 -0.12)\">\n     <use xlink:href=\"#DejaVuSans-67\"/>\n     <use x=\"69.824219\" xlink:href=\"#DejaVuSans-111\"/>\n     <use x=\"131.005859\" xlink:href=\"#DejaVuSans-109\"/>\n     <use x=\"228.417969\" xlink:href=\"#DejaVuSans-112\"/>\n     <use x=\"291.894531\" xlink:href=\"#DejaVuSans-117\"/>\n     <use x=\"355.273438\" xlink:href=\"#DejaVuSans-116\"/>\n     <use x=\"394.482422\" xlink:href=\"#DejaVuSans-97\"/>\n     <use x=\"455.761719\" xlink:href=\"#DejaVuSans-116\"/>\n     <use x=\"494.970703\" xlink:href=\"#DejaVuSans-105\"/>\n     <use x=\"522.753906\" xlink:href=\"#DejaVuSans-111\"/>\n     <use x=\"583.935547\" xlink:href=\"#DejaVuSans-110\"/>\n     <use x=\"647.314453\" xlink:href=\"#DejaVuSans-32\"/>\n     <use x=\"679.101562\" xlink:href=\"#DejaVuSans-71\"/>\n     <use x=\"756.591797\" xlink:href=\"#DejaVuSans-114\"/>\n     <use x=\"797.705078\" xlink:href=\"#DejaVuSans-97\"/>\n     <use x=\"858.984375\" xlink:href=\"#DejaVuSans-112\"/>\n     <use x=\"922.460938\" xlink:href=\"#DejaVuSans-104\"/>\n    </g>\n   </g>\n  </g>\n </g>\n <defs>\n  <clipPath id=\"p42dce0b26c\">\n   <rect height=\"250.4\" width=\"338.4\" x=\"7.2\" y=\"22.318125\"/>\n  </clipPath>\n </defs>\n</svg>\n"
          },
          "metadata": {}
        }
      ]
    },
    {
      "cell_type": "markdown",
      "source": [
        "À des fins esthétiques, nous pouvons également surcharger les opérateurs $+$, $-$, $*$ et $**$ en python pour appeler nos fonctions enveloppées correspondantes. Note: la classe ``Node`` utilise l'espace de nom ``ad``."
      ],
      "metadata": {
        "id": "rMTcXQi7Lsaa"
      }
    },
    {
      "cell_type": "code",
      "source": [
        "def f(x):\n",
        "  x1 = x + 1\n",
        "  x2 = ad.negative(x1)\n",
        "  x3 = ad.add(x1, x2)\n",
        "  x4 = x3**2.\n",
        "  return x * x4\n",
        "end_node = f(Node(value=2.))\n",
        "draw_computation_graph(convert_to_networkx(end_node))"
      ],
      "metadata": {
        "colab": {
          "base_uri": "https://localhost:8080/",
          "height": 394
        },
        "id": "ad4yXajNa5iW",
        "outputId": "57fbbd80-4f1b-4b92-d058-8ab040579ac8"
      },
      "execution_count": null,
      "outputs": [
        {
          "output_type": "display_data",
          "data": {
            "text/plain": [
              "<Figure size 360x288 with 1 Axes>"
            ],
            "image/svg+xml": "<?xml version=\"1.0\" encoding=\"utf-8\" standalone=\"no\"?>\n<!DOCTYPE svg PUBLIC \"-//W3C//DTD SVG 1.1//EN\"\n  \"http://www.w3.org/Graphics/SVG/1.1/DTD/svg11.dtd\">\n<!-- Created with matplotlib (https://matplotlib.org/) -->\n<svg height=\"279.918125pt\" version=\"1.1\" viewBox=\"0 0 352.8 279.918125\" width=\"352.8pt\" xmlns=\"http://www.w3.org/2000/svg\" xmlns:xlink=\"http://www.w3.org/1999/xlink\">\n <defs>\n  <style type=\"text/css\">\n*{stroke-linecap:butt;stroke-linejoin:round;}\n  </style>\n </defs>\n <g id=\"figure_1\">\n  <g id=\"patch_1\">\n   <path d=\"M 0 279.918125 \nL 352.8 279.918125 \nL 352.8 0 \nL 0 0 \nz\n\" style=\"fill:#ffffff;\"/>\n  </g>\n  <g id=\"axes_1\">\n   <g id=\"patch_2\">\n    <path clip-path=\"url(#p6ae780e2c7)\" d=\"M 291.824682 54.9692 \nQ 141.476147 -14.438923 51.306786 123.121001 \n\" style=\"fill:none;stroke:#000000;stroke-linecap:round;stroke-opacity:0.9;\"/>\n    <path clip-path=\"url(#p6ae780e2c7)\" d=\"M 55.172315 120.872072 \nL 51.306786 123.121001 \nL 51.82696 118.67922 \nL 55.172315 120.872072 \nz\n\" style=\"fill-opacity:0.9;stroke:#000000;stroke-linecap:round;stroke-opacity:0.9;\"/>\n   </g>\n   <g id=\"patch_3\">\n    <path clip-path=\"url(#p6ae780e2c7)\" d=\"M 290.068517 75.473776 \nQ 262.002298 89.120156 258.980696 119.058344 \n\" style=\"fill:none;stroke:#000000;stroke-linecap:round;stroke-opacity:0.9;\"/>\n    <path clip-path=\"url(#p6ae780e2c7)\" d=\"M 261.372258 115.279398 \nL 258.980696 119.058344 \nL 257.392477 114.877726 \nL 261.372258 115.279398 \nz\n\" style=\"fill-opacity:0.9;stroke:#000000;stroke-linecap:round;stroke-opacity:0.9;\"/>\n   </g>\n   <g id=\"patch_4\">\n    <path clip-path=\"url(#p6ae780e2c7)\" d=\"M 290.068517 75.473776 \nQ 262.002298 89.120156 258.980696 119.058344 \n\" style=\"fill:none;stroke:#000000;stroke-linecap:round;stroke-opacity:0.9;\"/>\n    <path clip-path=\"url(#p6ae780e2c7)\" d=\"M 261.372258 115.279398 \nL 258.980696 119.058344 \nL 257.392477 114.877726 \nL 261.372258 115.279398 \nz\n\" style=\"fill-opacity:0.9;stroke:#000000;stroke-linecap:round;stroke-opacity:0.9;\"/>\n   </g>\n   <g id=\"patch_5\">\n    <path clip-path=\"url(#p6ae780e2c7)\" d=\"M 68.762095 133.854527 \nQ 64.531155 133.214618 61.405664 133.687574 \n\" style=\"fill:none;stroke:#000000;stroke-linecap:round;stroke-opacity:0.9;\"/>\n    <path clip-path=\"url(#p6ae780e2c7)\" d=\"M 65.659876 135.066586 \nL 61.405664 133.687574 \nL 65.061401 131.111611 \nL 65.659876 135.066586 \nz\n\" style=\"fill-opacity:0.9;stroke:#000000;stroke-linecap:round;stroke-opacity:0.9;\"/>\n   </g>\n   <g id=\"patch_6\">\n    <path clip-path=\"url(#p6ae780e2c7)\" d=\"M 124.695979 133.854527 \nQ 120.465039 133.214618 117.339548 133.687574 \n\" style=\"fill:none;stroke:#000000;stroke-linecap:round;stroke-opacity:0.9;\"/>\n    <path clip-path=\"url(#p6ae780e2c7)\" d=\"M 121.593761 135.066586 \nL 117.339548 133.687574 \nL 120.995286 131.111611 \nL 121.593761 135.066586 \nz\n\" style=\"fill-opacity:0.9;stroke:#000000;stroke-linecap:round;stroke-opacity:0.9;\"/>\n   </g>\n   <g id=\"patch_7\">\n    <path clip-path=\"url(#p6ae780e2c7)\" d=\"M 239.014952 130.282465 \nQ 204.365332 108.818903 170.666143 129.695665 \n\" style=\"fill:none;stroke:#000000;stroke-linecap:round;stroke-opacity:0.9;\"/>\n    <path clip-path=\"url(#p6ae780e2c7)\" d=\"M 175.119779 129.289309 \nL 170.666143 129.695665 \nL 173.013241 125.888942 \nL 175.119779 129.289309 \nz\n\" style=\"fill-opacity:0.9;stroke:#000000;stroke-linecap:round;stroke-opacity:0.9;\"/>\n   </g>\n   <g id=\"patch_8\">\n    <path clip-path=\"url(#p6ae780e2c7)\" d=\"M 236.563748 133.854527 \nQ 232.332808 133.214618 229.207317 133.687574 \n\" style=\"fill:none;stroke:#000000;stroke-linecap:round;stroke-opacity:0.9;\"/>\n    <path clip-path=\"url(#p6ae780e2c7)\" d=\"M 233.461529 135.066586 \nL 229.207317 133.687574 \nL 232.863054 131.111611 \nL 233.461529 135.066586 \nz\n\" style=\"fill-opacity:0.9;stroke:#000000;stroke-linecap:round;stroke-opacity:0.9;\"/>\n   </g>\n   <g id=\"patch_9\">\n    <path clip-path=\"url(#p6ae780e2c7)\" d=\"M 292.497632 133.854527 \nQ 288.266692 133.214618 285.141201 133.687574 \n\" style=\"fill:none;stroke:#000000;stroke-linecap:round;stroke-opacity:0.9;\"/>\n    <path clip-path=\"url(#p6ae780e2c7)\" d=\"M 289.395414 135.066586 \nL 285.141201 133.687574 \nL 288.796938 131.111611 \nL 289.395414 135.066586 \nz\n\" style=\"fill-opacity:0.9;stroke:#000000;stroke-linecap:round;stroke-opacity:0.9;\"/>\n   </g>\n   <g id=\"patch_10\">\n    <path clip-path=\"url(#p6ae780e2c7)\" d=\"M 292.497632 133.854527 \nQ 288.266692 133.214618 285.141201 133.687574 \n\" style=\"fill:none;stroke:#000000;stroke-linecap:round;stroke-opacity:0.9;\"/>\n    <path clip-path=\"url(#p6ae780e2c7)\" d=\"M 289.395414 135.066586 \nL 285.141201 133.687574 \nL 288.796938 131.111611 \nL 289.395414 135.066586 \nz\n\" style=\"fill-opacity:0.9;stroke:#000000;stroke-linecap:round;stroke-opacity:0.9;\"/>\n   </g>\n   <g id=\"patch_11\">\n    <path clip-path=\"url(#p6ae780e2c7)\" d=\"M 180.629863 133.854527 \nQ 176.398923 133.214618 173.273432 133.687574 \n\" style=\"fill:none;stroke:#000000;stroke-linecap:round;stroke-opacity:0.9;\"/>\n    <path clip-path=\"url(#p6ae780e2c7)\" d=\"M 177.527645 135.066586 \nL 173.273432 133.687574 \nL 176.92917 131.111611 \nL 177.527645 135.066586 \nz\n\" style=\"fill-opacity:0.9;stroke:#000000;stroke-linecap:round;stroke-opacity:0.9;\"/>\n   </g>\n   <g id=\"patch_12\">\n    <path clip-path=\"url(#p6ae780e2c7)\" d=\"M 303.44809 203.432429 \nQ 238.199013 93.117434 118.803035 136.544469 \n\" style=\"fill:none;stroke:#000000;stroke-linecap:round;stroke-opacity:0.9;\"/>\n    <path clip-path=\"url(#p6ae780e2c7)\" d=\"M 123.245734 137.056745 \nL 118.803035 136.544469 \nL 121.878475 133.297676 \nL 123.245734 137.056745 \nz\n\" style=\"fill-opacity:0.9;stroke:#000000;stroke-linecap:round;stroke-opacity:0.9;\"/>\n   </g>\n   <g id=\"PathCollection_1\">\n    <defs>\n     <path d=\"M 0 27.386128 \nC 7.262886 27.386128 14.229281 24.500553 19.364917 19.364917 \nC 24.500553 14.229281 27.386128 7.262886 27.386128 0 \nC 27.386128 -7.262886 24.500553 -14.229281 19.364917 -19.364917 \nC 14.229281 -24.500553 7.262886 -27.386128 0 -27.386128 \nC -7.262886 -27.386128 -14.229281 -24.500553 -19.364917 -19.364917 \nC -24.500553 -14.229281 -27.386128 -7.262886 -27.386128 0 \nC -27.386128 7.262886 -24.500553 14.229281 -19.364917 19.364917 \nC -14.229281 24.500553 -7.262886 27.386128 0 27.386128 \nz\n\" id=\"mc79a3a8632\" style=\"stroke:#7f7f7f;stroke-opacity:0.9;\"/>\n    </defs>\n    <g clip-path=\"url(#p6ae780e2c7)\">\n     <use style=\"fill:#d62728;fill-opacity:0.9;stroke:#7f7f7f;stroke-opacity:0.9;\" x=\"36.565289\" xlink:href=\"#mc79a3a8632\" y=\"147.518125\"/>\n     <use style=\"fill:#d62728;fill-opacity:0.9;stroke:#7f7f7f;stroke-opacity:0.9;\" x=\"316.234711\" xlink:href=\"#mc79a3a8632\" y=\"67.390125\"/>\n     <use style=\"fill:#d62728;fill-opacity:0.9;stroke:#7f7f7f;stroke-opacity:0.9;\" x=\"92.499174\" xlink:href=\"#mc79a3a8632\" y=\"147.518125\"/>\n     <use style=\"fill:#d62728;fill-opacity:0.9;stroke:#7f7f7f;stroke-opacity:0.9;\" x=\"148.433058\" xlink:href=\"#mc79a3a8632\" y=\"147.518125\"/>\n     <use style=\"fill:#d62728;fill-opacity:0.9;stroke:#7f7f7f;stroke-opacity:0.9;\" x=\"260.300826\" xlink:href=\"#mc79a3a8632\" y=\"147.518125\"/>\n     <use style=\"fill:#d62728;fill-opacity:0.9;stroke:#7f7f7f;stroke-opacity:0.9;\" x=\"316.234711\" xlink:href=\"#mc79a3a8632\" y=\"147.518125\"/>\n     <use style=\"fill:#d62728;fill-opacity:0.9;stroke:#7f7f7f;stroke-opacity:0.9;\" x=\"204.366942\" xlink:href=\"#mc79a3a8632\" y=\"147.518125\"/>\n     <use style=\"fill:#d62728;fill-opacity:0.9;stroke:#7f7f7f;stroke-opacity:0.9;\" x=\"316.234711\" xlink:href=\"#mc79a3a8632\" y=\"227.646125\"/>\n    </g>\n   </g>\n   <g id=\"text_1\">\n    <g clip-path=\"url(#p6ae780e2c7)\">\n     <!-- multiply -->\n     <defs>\n      <path d=\"M 52 44.1875 \nQ 55.375 50.25 60.0625 53.125 \nQ 64.75 56 71.09375 56 \nQ 79.640625 56 84.28125 50.015625 \nQ 88.921875 44.046875 88.921875 33.015625 \nL 88.921875 0 \nL 79.890625 0 \nL 79.890625 32.71875 \nQ 79.890625 40.578125 77.09375 44.375 \nQ 74.3125 48.1875 68.609375 48.1875 \nQ 61.625 48.1875 57.5625 43.546875 \nQ 53.515625 38.921875 53.515625 30.90625 \nL 53.515625 0 \nL 44.484375 0 \nL 44.484375 32.71875 \nQ 44.484375 40.625 41.703125 44.40625 \nQ 38.921875 48.1875 33.109375 48.1875 \nQ 26.21875 48.1875 22.15625 43.53125 \nQ 18.109375 38.875 18.109375 30.90625 \nL 18.109375 0 \nL 9.078125 0 \nL 9.078125 54.6875 \nL 18.109375 54.6875 \nL 18.109375 46.1875 \nQ 21.1875 51.21875 25.484375 53.609375 \nQ 29.78125 56 35.6875 56 \nQ 41.65625 56 45.828125 52.96875 \nQ 50 49.953125 52 44.1875 \nz\n\" id=\"DejaVuSans-109\"/>\n      <path d=\"M 8.5 21.578125 \nL 8.5 54.6875 \nL 17.484375 54.6875 \nL 17.484375 21.921875 \nQ 17.484375 14.15625 20.5 10.265625 \nQ 23.53125 6.390625 29.59375 6.390625 \nQ 36.859375 6.390625 41.078125 11.03125 \nQ 45.3125 15.671875 45.3125 23.6875 \nL 45.3125 54.6875 \nL 54.296875 54.6875 \nL 54.296875 0 \nL 45.3125 0 \nL 45.3125 8.40625 \nQ 42.046875 3.421875 37.71875 1 \nQ 33.40625 -1.421875 27.6875 -1.421875 \nQ 18.265625 -1.421875 13.375 4.4375 \nQ 8.5 10.296875 8.5 21.578125 \nz\nM 31.109375 56 \nz\n\" id=\"DejaVuSans-117\"/>\n      <path d=\"M 9.421875 75.984375 \nL 18.40625 75.984375 \nL 18.40625 0 \nL 9.421875 0 \nz\n\" id=\"DejaVuSans-108\"/>\n      <path d=\"M 18.3125 70.21875 \nL 18.3125 54.6875 \nL 36.8125 54.6875 \nL 36.8125 47.703125 \nL 18.3125 47.703125 \nL 18.3125 18.015625 \nQ 18.3125 11.328125 20.140625 9.421875 \nQ 21.96875 7.515625 27.59375 7.515625 \nL 36.8125 7.515625 \nL 36.8125 0 \nL 27.59375 0 \nQ 17.1875 0 13.234375 3.875 \nQ 9.28125 7.765625 9.28125 18.015625 \nL 9.28125 47.703125 \nL 2.6875 47.703125 \nL 2.6875 54.6875 \nL 9.28125 54.6875 \nL 9.28125 70.21875 \nz\n\" id=\"DejaVuSans-116\"/>\n      <path d=\"M 9.421875 54.6875 \nL 18.40625 54.6875 \nL 18.40625 0 \nL 9.421875 0 \nz\nM 9.421875 75.984375 \nL 18.40625 75.984375 \nL 18.40625 64.59375 \nL 9.421875 64.59375 \nz\n\" id=\"DejaVuSans-105\"/>\n      <path d=\"M 18.109375 8.203125 \nL 18.109375 -20.796875 \nL 9.078125 -20.796875 \nL 9.078125 54.6875 \nL 18.109375 54.6875 \nL 18.109375 46.390625 \nQ 20.953125 51.265625 25.265625 53.625 \nQ 29.59375 56 35.59375 56 \nQ 45.5625 56 51.78125 48.09375 \nQ 58.015625 40.1875 58.015625 27.296875 \nQ 58.015625 14.40625 51.78125 6.484375 \nQ 45.5625 -1.421875 35.59375 -1.421875 \nQ 29.59375 -1.421875 25.265625 0.953125 \nQ 20.953125 3.328125 18.109375 8.203125 \nz\nM 48.6875 27.296875 \nQ 48.6875 37.203125 44.609375 42.84375 \nQ 40.53125 48.484375 33.40625 48.484375 \nQ 26.265625 48.484375 22.1875 42.84375 \nQ 18.109375 37.203125 18.109375 27.296875 \nQ 18.109375 17.390625 22.1875 11.75 \nQ 26.265625 6.109375 33.40625 6.109375 \nQ 40.53125 6.109375 44.609375 11.75 \nQ 48.6875 17.390625 48.6875 27.296875 \nz\n\" id=\"DejaVuSans-112\"/>\n      <path d=\"M 32.171875 -5.078125 \nQ 28.375 -14.84375 24.75 -17.8125 \nQ 21.140625 -20.796875 15.09375 -20.796875 \nL 7.90625 -20.796875 \nL 7.90625 -13.28125 \nL 13.1875 -13.28125 \nQ 16.890625 -13.28125 18.9375 -11.515625 \nQ 21 -9.765625 23.484375 -3.21875 \nL 25.09375 0.875 \nL 2.984375 54.6875 \nL 12.5 54.6875 \nL 29.59375 11.921875 \nL 46.6875 54.6875 \nL 56.203125 54.6875 \nz\n\" id=\"DejaVuSans-121\"/>\n     </defs>\n     <g style=\"fill:#d2b48c;opacity:0.9;\" transform=\"translate(12.205289 150.829375)scale(0.12 -0.12)\">\n      <use xlink:href=\"#DejaVuSans-109\"/>\n      <use x=\"97.412109\" xlink:href=\"#DejaVuSans-117\"/>\n      <use x=\"160.791016\" xlink:href=\"#DejaVuSans-108\"/>\n      <use x=\"188.574219\" xlink:href=\"#DejaVuSans-116\"/>\n      <use x=\"227.783203\" xlink:href=\"#DejaVuSans-105\"/>\n      <use x=\"255.566406\" xlink:href=\"#DejaVuSans-112\"/>\n      <use x=\"319.042969\" xlink:href=\"#DejaVuSans-108\"/>\n      <use x=\"346.826172\" xlink:href=\"#DejaVuSans-121\"/>\n     </g>\n    </g>\n   </g>\n   <g id=\"text_2\">\n    <g clip-path=\"url(#p6ae780e2c7)\">\n     <!-- 2.0 -->\n     <defs>\n      <path d=\"M 19.1875 8.296875 \nL 53.609375 8.296875 \nL 53.609375 0 \nL 7.328125 0 \nL 7.328125 8.296875 \nQ 12.9375 14.109375 22.625 23.890625 \nQ 32.328125 33.6875 34.8125 36.53125 \nQ 39.546875 41.84375 41.421875 45.53125 \nQ 43.3125 49.21875 43.3125 52.78125 \nQ 43.3125 58.59375 39.234375 62.25 \nQ 35.15625 65.921875 28.609375 65.921875 \nQ 23.96875 65.921875 18.8125 64.3125 \nQ 13.671875 62.703125 7.8125 59.421875 \nL 7.8125 69.390625 \nQ 13.765625 71.78125 18.9375 73 \nQ 24.125 74.21875 28.421875 74.21875 \nQ 39.75 74.21875 46.484375 68.546875 \nQ 53.21875 62.890625 53.21875 53.421875 \nQ 53.21875 48.921875 51.53125 44.890625 \nQ 49.859375 40.875 45.40625 35.40625 \nQ 44.1875 33.984375 37.640625 27.21875 \nQ 31.109375 20.453125 19.1875 8.296875 \nz\n\" id=\"DejaVuSans-50\"/>\n      <path d=\"M 10.6875 12.40625 \nL 21 12.40625 \nL 21 0 \nL 10.6875 0 \nz\n\" id=\"DejaVuSans-46\"/>\n      <path d=\"M 31.78125 66.40625 \nQ 24.171875 66.40625 20.328125 58.90625 \nQ 16.5 51.421875 16.5 36.375 \nQ 16.5 21.390625 20.328125 13.890625 \nQ 24.171875 6.390625 31.78125 6.390625 \nQ 39.453125 6.390625 43.28125 13.890625 \nQ 47.125 21.390625 47.125 36.375 \nQ 47.125 51.421875 43.28125 58.90625 \nQ 39.453125 66.40625 31.78125 66.40625 \nz\nM 31.78125 74.21875 \nQ 44.046875 74.21875 50.515625 64.515625 \nQ 56.984375 54.828125 56.984375 36.375 \nQ 56.984375 17.96875 50.515625 8.265625 \nQ 44.046875 -1.421875 31.78125 -1.421875 \nQ 19.53125 -1.421875 13.0625 8.265625 \nQ 6.59375 17.96875 6.59375 36.375 \nQ 6.59375 54.828125 13.0625 64.515625 \nQ 19.53125 74.21875 31.78125 74.21875 \nz\n\" id=\"DejaVuSans-48\"/>\n     </defs>\n     <g style=\"fill:#d2b48c;opacity:0.9;\" transform=\"translate(306.692836 70.701375)scale(0.12 -0.12)\">\n      <use xlink:href=\"#DejaVuSans-50\"/>\n      <use x=\"63.623047\" xlink:href=\"#DejaVuSans-46\"/>\n      <use x=\"95.410156\" xlink:href=\"#DejaVuSans-48\"/>\n     </g>\n    </g>\n   </g>\n   <g id=\"text_3\">\n    <g clip-path=\"url(#p6ae780e2c7)\">\n     <!-- power -->\n     <defs>\n      <path d=\"M 30.609375 48.390625 \nQ 23.390625 48.390625 19.1875 42.75 \nQ 14.984375 37.109375 14.984375 27.296875 \nQ 14.984375 17.484375 19.15625 11.84375 \nQ 23.34375 6.203125 30.609375 6.203125 \nQ 37.796875 6.203125 41.984375 11.859375 \nQ 46.1875 17.53125 46.1875 27.296875 \nQ 46.1875 37.015625 41.984375 42.703125 \nQ 37.796875 48.390625 30.609375 48.390625 \nz\nM 30.609375 56 \nQ 42.328125 56 49.015625 48.375 \nQ 55.71875 40.765625 55.71875 27.296875 \nQ 55.71875 13.875 49.015625 6.21875 \nQ 42.328125 -1.421875 30.609375 -1.421875 \nQ 18.84375 -1.421875 12.171875 6.21875 \nQ 5.515625 13.875 5.515625 27.296875 \nQ 5.515625 40.765625 12.171875 48.375 \nQ 18.84375 56 30.609375 56 \nz\n\" id=\"DejaVuSans-111\"/>\n      <path d=\"M 4.203125 54.6875 \nL 13.1875 54.6875 \nL 24.421875 12.015625 \nL 35.59375 54.6875 \nL 46.1875 54.6875 \nL 57.421875 12.015625 \nL 68.609375 54.6875 \nL 77.59375 54.6875 \nL 63.28125 0 \nL 52.6875 0 \nL 40.921875 44.828125 \nL 29.109375 0 \nL 18.5 0 \nz\n\" id=\"DejaVuSans-119\"/>\n      <path d=\"M 56.203125 29.59375 \nL 56.203125 25.203125 \nL 14.890625 25.203125 \nQ 15.484375 15.921875 20.484375 11.0625 \nQ 25.484375 6.203125 34.421875 6.203125 \nQ 39.59375 6.203125 44.453125 7.46875 \nQ 49.3125 8.734375 54.109375 11.28125 \nL 54.109375 2.78125 \nQ 49.265625 0.734375 44.1875 -0.34375 \nQ 39.109375 -1.421875 33.890625 -1.421875 \nQ 20.796875 -1.421875 13.15625 6.1875 \nQ 5.515625 13.8125 5.515625 26.8125 \nQ 5.515625 40.234375 12.765625 48.109375 \nQ 20.015625 56 32.328125 56 \nQ 43.359375 56 49.78125 48.890625 \nQ 56.203125 41.796875 56.203125 29.59375 \nz\nM 47.21875 32.234375 \nQ 47.125 39.59375 43.09375 43.984375 \nQ 39.0625 48.390625 32.421875 48.390625 \nQ 24.90625 48.390625 20.390625 44.140625 \nQ 15.875 39.890625 15.1875 32.171875 \nz\n\" id=\"DejaVuSans-101\"/>\n      <path d=\"M 41.109375 46.296875 \nQ 39.59375 47.171875 37.8125 47.578125 \nQ 36.03125 48 33.890625 48 \nQ 26.265625 48 22.1875 43.046875 \nQ 18.109375 38.09375 18.109375 28.8125 \nL 18.109375 0 \nL 9.078125 0 \nL 9.078125 54.6875 \nL 18.109375 54.6875 \nL 18.109375 46.1875 \nQ 20.953125 51.171875 25.484375 53.578125 \nQ 30.03125 56 36.53125 56 \nQ 37.453125 56 38.578125 55.875 \nQ 39.703125 55.765625 41.0625 55.515625 \nz\n\" id=\"DejaVuSans-114\"/>\n     </defs>\n     <g style=\"fill:#d2b48c;opacity:0.9;\" transform=\"translate(73.953549 150.829375)scale(0.12 -0.12)\">\n      <use xlink:href=\"#DejaVuSans-112\"/>\n      <use x=\"63.476562\" xlink:href=\"#DejaVuSans-111\"/>\n      <use x=\"124.658203\" xlink:href=\"#DejaVuSans-119\"/>\n      <use x=\"206.445312\" xlink:href=\"#DejaVuSans-101\"/>\n      <use x=\"267.96875\" xlink:href=\"#DejaVuSans-114\"/>\n     </g>\n    </g>\n   </g>\n   <g id=\"text_4\">\n    <g clip-path=\"url(#p6ae780e2c7)\">\n     <!-- add -->\n     <defs>\n      <path d=\"M 34.28125 27.484375 \nQ 23.390625 27.484375 19.1875 25 \nQ 14.984375 22.515625 14.984375 16.5 \nQ 14.984375 11.71875 18.140625 8.90625 \nQ 21.296875 6.109375 26.703125 6.109375 \nQ 34.1875 6.109375 38.703125 11.40625 \nQ 43.21875 16.703125 43.21875 25.484375 \nL 43.21875 27.484375 \nz\nM 52.203125 31.203125 \nL 52.203125 0 \nL 43.21875 0 \nL 43.21875 8.296875 \nQ 40.140625 3.328125 35.546875 0.953125 \nQ 30.953125 -1.421875 24.3125 -1.421875 \nQ 15.921875 -1.421875 10.953125 3.296875 \nQ 6 8.015625 6 15.921875 \nQ 6 25.140625 12.171875 29.828125 \nQ 18.359375 34.515625 30.609375 34.515625 \nL 43.21875 34.515625 \nL 43.21875 35.40625 \nQ 43.21875 41.609375 39.140625 45 \nQ 35.0625 48.390625 27.6875 48.390625 \nQ 23 48.390625 18.546875 47.265625 \nQ 14.109375 46.140625 10.015625 43.890625 \nL 10.015625 52.203125 \nQ 14.9375 54.109375 19.578125 55.046875 \nQ 24.21875 56 28.609375 56 \nQ 40.484375 56 46.34375 49.84375 \nQ 52.203125 43.703125 52.203125 31.203125 \nz\n\" id=\"DejaVuSans-97\"/>\n      <path d=\"M 45.40625 46.390625 \nL 45.40625 75.984375 \nL 54.390625 75.984375 \nL 54.390625 0 \nL 45.40625 0 \nL 45.40625 8.203125 \nQ 42.578125 3.328125 38.25 0.953125 \nQ 33.9375 -1.421875 27.875 -1.421875 \nQ 17.96875 -1.421875 11.734375 6.484375 \nQ 5.515625 14.40625 5.515625 27.296875 \nQ 5.515625 40.1875 11.734375 48.09375 \nQ 17.96875 56 27.875 56 \nQ 33.9375 56 38.25 53.625 \nQ 42.578125 51.265625 45.40625 46.390625 \nz\nM 14.796875 27.296875 \nQ 14.796875 17.390625 18.875 11.75 \nQ 22.953125 6.109375 30.078125 6.109375 \nQ 37.203125 6.109375 41.296875 11.75 \nQ 45.40625 17.390625 45.40625 27.296875 \nQ 45.40625 37.203125 41.296875 42.84375 \nQ 37.203125 48.484375 30.078125 48.484375 \nQ 22.953125 48.484375 18.875 42.84375 \nQ 14.796875 37.203125 14.796875 27.296875 \nz\n\" id=\"DejaVuSans-100\"/>\n     </defs>\n     <g style=\"fill:#d2b48c;opacity:0.9;\" transform=\"translate(137.138058 150.829375)scale(0.12 -0.12)\">\n      <use xlink:href=\"#DejaVuSans-97\"/>\n      <use x=\"61.279297\" xlink:href=\"#DejaVuSans-100\"/>\n      <use x=\"124.755859\" xlink:href=\"#DejaVuSans-100\"/>\n     </g>\n    </g>\n   </g>\n   <g id=\"text_5\">\n    <g clip-path=\"url(#p6ae780e2c7)\">\n     <!-- add -->\n     <g style=\"fill:#d2b48c;opacity:0.9;\" transform=\"translate(249.005826 150.829375)scale(0.12 -0.12)\">\n      <use xlink:href=\"#DejaVuSans-97\"/>\n      <use x=\"61.279297\" xlink:href=\"#DejaVuSans-100\"/>\n      <use x=\"124.755859\" xlink:href=\"#DejaVuSans-100\"/>\n     </g>\n    </g>\n   </g>\n   <g id=\"text_6\">\n    <g clip-path=\"url(#p6ae780e2c7)\">\n     <!-- 1 -->\n     <defs>\n      <path d=\"M 12.40625 8.296875 \nL 28.515625 8.296875 \nL 28.515625 63.921875 \nL 10.984375 60.40625 \nL 10.984375 69.390625 \nL 28.421875 72.90625 \nL 38.28125 72.90625 \nL 38.28125 8.296875 \nL 54.390625 8.296875 \nL 54.390625 0 \nL 12.40625 0 \nz\n\" id=\"DejaVuSans-49\"/>\n     </defs>\n     <g style=\"fill:#d2b48c;opacity:0.9;\" transform=\"translate(312.417211 150.829375)scale(0.12 -0.12)\">\n      <use xlink:href=\"#DejaVuSans-49\"/>\n     </g>\n    </g>\n   </g>\n   <g id=\"text_7\">\n    <g clip-path=\"url(#p6ae780e2c7)\">\n     <!-- negative -->\n     <defs>\n      <path d=\"M 54.890625 33.015625 \nL 54.890625 0 \nL 45.90625 0 \nL 45.90625 32.71875 \nQ 45.90625 40.484375 42.875 44.328125 \nQ 39.84375 48.1875 33.796875 48.1875 \nQ 26.515625 48.1875 22.3125 43.546875 \nQ 18.109375 38.921875 18.109375 30.90625 \nL 18.109375 0 \nL 9.078125 0 \nL 9.078125 54.6875 \nL 18.109375 54.6875 \nL 18.109375 46.1875 \nQ 21.34375 51.125 25.703125 53.5625 \nQ 30.078125 56 35.796875 56 \nQ 45.21875 56 50.046875 50.171875 \nQ 54.890625 44.34375 54.890625 33.015625 \nz\n\" id=\"DejaVuSans-110\"/>\n      <path d=\"M 45.40625 27.984375 \nQ 45.40625 37.75 41.375 43.109375 \nQ 37.359375 48.484375 30.078125 48.484375 \nQ 22.859375 48.484375 18.828125 43.109375 \nQ 14.796875 37.75 14.796875 27.984375 \nQ 14.796875 18.265625 18.828125 12.890625 \nQ 22.859375 7.515625 30.078125 7.515625 \nQ 37.359375 7.515625 41.375 12.890625 \nQ 45.40625 18.265625 45.40625 27.984375 \nz\nM 54.390625 6.78125 \nQ 54.390625 -7.171875 48.1875 -13.984375 \nQ 42 -20.796875 29.203125 -20.796875 \nQ 24.46875 -20.796875 20.265625 -20.09375 \nQ 16.0625 -19.390625 12.109375 -17.921875 \nL 12.109375 -9.1875 \nQ 16.0625 -11.328125 19.921875 -12.34375 \nQ 23.78125 -13.375 27.78125 -13.375 \nQ 36.625 -13.375 41.015625 -8.765625 \nQ 45.40625 -4.15625 45.40625 5.171875 \nL 45.40625 9.625 \nQ 42.625 4.78125 38.28125 2.390625 \nQ 33.9375 0 27.875 0 \nQ 17.828125 0 11.671875 7.65625 \nQ 5.515625 15.328125 5.515625 27.984375 \nQ 5.515625 40.671875 11.671875 48.328125 \nQ 17.828125 56 27.875 56 \nQ 33.9375 56 38.28125 53.609375 \nQ 42.625 51.21875 45.40625 46.390625 \nL 45.40625 54.6875 \nL 54.390625 54.6875 \nz\n\" id=\"DejaVuSans-103\"/>\n      <path d=\"M 2.984375 54.6875 \nL 12.5 54.6875 \nL 29.59375 8.796875 \nL 46.6875 54.6875 \nL 56.203125 54.6875 \nL 35.6875 0 \nL 23.484375 0 \nz\n\" id=\"DejaVuSans-118\"/>\n     </defs>\n     <g style=\"fill:#d2b48c;opacity:0.9;\" transform=\"translate(178.124442 150.829375)scale(0.12 -0.12)\">\n      <use xlink:href=\"#DejaVuSans-110\"/>\n      <use x=\"63.378906\" xlink:href=\"#DejaVuSans-101\"/>\n      <use x=\"124.902344\" xlink:href=\"#DejaVuSans-103\"/>\n      <use x=\"188.378906\" xlink:href=\"#DejaVuSans-97\"/>\n      <use x=\"249.658203\" xlink:href=\"#DejaVuSans-116\"/>\n      <use x=\"288.867188\" xlink:href=\"#DejaVuSans-105\"/>\n      <use x=\"316.650391\" xlink:href=\"#DejaVuSans-118\"/>\n      <use x=\"375.830078\" xlink:href=\"#DejaVuSans-101\"/>\n     </g>\n    </g>\n   </g>\n   <g id=\"text_8\">\n    <g clip-path=\"url(#p6ae780e2c7)\">\n     <!-- 2.0 -->\n     <g style=\"fill:#d2b48c;opacity:0.9;\" transform=\"translate(306.692836 230.957375)scale(0.12 -0.12)\">\n      <use xlink:href=\"#DejaVuSans-50\"/>\n      <use x=\"63.623047\" xlink:href=\"#DejaVuSans-46\"/>\n      <use x=\"95.410156\" xlink:href=\"#DejaVuSans-48\"/>\n     </g>\n    </g>\n   </g>\n   <g id=\"text_9\">\n    <!-- Computation Graph -->\n    <defs>\n     <path d=\"M 64.40625 67.28125 \nL 64.40625 56.890625 \nQ 59.421875 61.53125 53.78125 63.8125 \nQ 48.140625 66.109375 41.796875 66.109375 \nQ 29.296875 66.109375 22.65625 58.46875 \nQ 16.015625 50.828125 16.015625 36.375 \nQ 16.015625 21.96875 22.65625 14.328125 \nQ 29.296875 6.6875 41.796875 6.6875 \nQ 48.140625 6.6875 53.78125 8.984375 \nQ 59.421875 11.28125 64.40625 15.921875 \nL 64.40625 5.609375 \nQ 59.234375 2.09375 53.4375 0.328125 \nQ 47.65625 -1.421875 41.21875 -1.421875 \nQ 24.65625 -1.421875 15.125 8.703125 \nQ 5.609375 18.84375 5.609375 36.375 \nQ 5.609375 53.953125 15.125 64.078125 \nQ 24.65625 74.21875 41.21875 74.21875 \nQ 47.75 74.21875 53.53125 72.484375 \nQ 59.328125 70.75 64.40625 67.28125 \nz\n\" id=\"DejaVuSans-67\"/>\n     <path id=\"DejaVuSans-32\"/>\n     <path d=\"M 59.515625 10.40625 \nL 59.515625 29.984375 \nL 43.40625 29.984375 \nL 43.40625 38.09375 \nL 69.28125 38.09375 \nL 69.28125 6.78125 \nQ 63.578125 2.734375 56.6875 0.65625 \nQ 49.8125 -1.421875 42 -1.421875 \nQ 24.90625 -1.421875 15.25 8.5625 \nQ 5.609375 18.5625 5.609375 36.375 \nQ 5.609375 54.25 15.25 64.234375 \nQ 24.90625 74.21875 42 74.21875 \nQ 49.125 74.21875 55.546875 72.453125 \nQ 61.96875 70.703125 67.390625 67.28125 \nL 67.390625 56.78125 \nQ 61.921875 61.421875 55.765625 63.765625 \nQ 49.609375 66.109375 42.828125 66.109375 \nQ 29.4375 66.109375 22.71875 58.640625 \nQ 16.015625 51.171875 16.015625 36.375 \nQ 16.015625 21.625 22.71875 14.15625 \nQ 29.4375 6.6875 42.828125 6.6875 \nQ 48.046875 6.6875 52.140625 7.59375 \nQ 56.25 8.5 59.515625 10.40625 \nz\n\" id=\"DejaVuSans-71\"/>\n     <path d=\"M 54.890625 33.015625 \nL 54.890625 0 \nL 45.90625 0 \nL 45.90625 32.71875 \nQ 45.90625 40.484375 42.875 44.328125 \nQ 39.84375 48.1875 33.796875 48.1875 \nQ 26.515625 48.1875 22.3125 43.546875 \nQ 18.109375 38.921875 18.109375 30.90625 \nL 18.109375 0 \nL 9.078125 0 \nL 9.078125 75.984375 \nL 18.109375 75.984375 \nL 18.109375 46.1875 \nQ 21.34375 51.125 25.703125 53.5625 \nQ 30.078125 56 35.796875 56 \nQ 45.21875 56 50.046875 50.171875 \nQ 54.890625 44.34375 54.890625 33.015625 \nz\n\" id=\"DejaVuSans-104\"/>\n    </defs>\n    <g transform=\"translate(117.250312 16.318125)scale(0.12 -0.12)\">\n     <use xlink:href=\"#DejaVuSans-67\"/>\n     <use x=\"69.824219\" xlink:href=\"#DejaVuSans-111\"/>\n     <use x=\"131.005859\" xlink:href=\"#DejaVuSans-109\"/>\n     <use x=\"228.417969\" xlink:href=\"#DejaVuSans-112\"/>\n     <use x=\"291.894531\" xlink:href=\"#DejaVuSans-117\"/>\n     <use x=\"355.273438\" xlink:href=\"#DejaVuSans-116\"/>\n     <use x=\"394.482422\" xlink:href=\"#DejaVuSans-97\"/>\n     <use x=\"455.761719\" xlink:href=\"#DejaVuSans-116\"/>\n     <use x=\"494.970703\" xlink:href=\"#DejaVuSans-105\"/>\n     <use x=\"522.753906\" xlink:href=\"#DejaVuSans-111\"/>\n     <use x=\"583.935547\" xlink:href=\"#DejaVuSans-110\"/>\n     <use x=\"647.314453\" xlink:href=\"#DejaVuSans-32\"/>\n     <use x=\"679.101562\" xlink:href=\"#DejaVuSans-71\"/>\n     <use x=\"756.591797\" xlink:href=\"#DejaVuSans-114\"/>\n     <use x=\"797.705078\" xlink:href=\"#DejaVuSans-97\"/>\n     <use x=\"858.984375\" xlink:href=\"#DejaVuSans-112\"/>\n     <use x=\"922.460938\" xlink:href=\"#DejaVuSans-104\"/>\n    </g>\n   </g>\n  </g>\n </g>\n <defs>\n  <clipPath id=\"p6ae780e2c7\">\n   <rect height=\"250.4\" width=\"338.4\" x=\"7.2\" y=\"22.318125\"/>\n  </clipPath>\n </defs>\n</svg>\n"
          },
          "metadata": {}
        }
      ]
    },
    {
      "cell_type": "markdown",
      "source": [
        "Sans avoir fait quoi que ce soit de spécial, nous pouvons déjà supporter les boucles et conditions puisque celle-ci sont \"aplaties\" automatiquement lorsque de l'exécution du graphe de calcul. "
      ],
      "metadata": {
        "id": "IJl5Yg5XLbZN"
      }
    },
    {
      "cell_type": "code",
      "source": [
        "def f(x):\n",
        "  a = x\n",
        "  for i in range(5):\n",
        "    if i != 3:\n",
        "      a = a + x\n",
        "  return a\n",
        "end_node = f(Node(value=2.))\n",
        "draw_computation_graph(convert_to_networkx(end_node), scale=1e1)  "
      ],
      "metadata": {
        "colab": {
          "base_uri": "https://localhost:8080/",
          "height": 394
        },
        "id": "aT4ku48zKu88",
        "outputId": "aacf901b-2c85-4939-d56c-f04c399e1ace"
      },
      "execution_count": null,
      "outputs": [
        {
          "output_type": "display_data",
          "data": {
            "text/plain": [
              "<Figure size 360x288 with 1 Axes>"
            ],
            "image/svg+xml": "<?xml version=\"1.0\" encoding=\"utf-8\" standalone=\"no\"?>\n<!DOCTYPE svg PUBLIC \"-//W3C//DTD SVG 1.1//EN\"\n  \"http://www.w3.org/Graphics/SVG/1.1/DTD/svg11.dtd\">\n<!-- Created with matplotlib (https://matplotlib.org/) -->\n<svg height=\"279.918125pt\" version=\"1.1\" viewBox=\"0 0 352.8 279.918125\" width=\"352.8pt\" xmlns=\"http://www.w3.org/2000/svg\" xmlns:xlink=\"http://www.w3.org/1999/xlink\">\n <defs>\n  <style type=\"text/css\">\n*{stroke-linecap:butt;stroke-linejoin:round;}\n  </style>\n </defs>\n <g id=\"figure_1\">\n  <g id=\"patch_1\">\n   <path d=\"M 0 279.918125 \nL 352.8 279.918125 \nL 352.8 0 \nL 0 0 \nz\n\" style=\"fill:#ffffff;\"/>\n  </g>\n  <g id=\"axes_1\">\n   <g id=\"patch_2\">\n    <path clip-path=\"url(#p7c0303cdef)\" d=\"M 83.784255 132.188677 \nQ 71.522714 127.888456 60.316182 131.81948 \n\" style=\"fill:none;stroke:#000000;stroke-linecap:round;stroke-opacity:0.9;\"/>\n    <path clip-path=\"url(#p7c0303cdef)\" d=\"M 64.752708 132.382714 \nL 60.316182 131.81948 \nL 63.428685 128.608199 \nL 64.752708 132.382714 \nz\n\" style=\"fill-opacity:0.9;stroke:#000000;stroke-linecap:round;stroke-opacity:0.9;\"/>\n   </g>\n   <g id=\"patch_3\">\n    <path clip-path=\"url(#p7c0303cdef)\" d=\"M 153.701611 132.188677 \nQ 141.440069 127.888456 130.233537 131.81948 \n\" style=\"fill:none;stroke:#000000;stroke-linecap:round;stroke-opacity:0.9;\"/>\n    <path clip-path=\"url(#p7c0303cdef)\" d=\"M 134.670064 132.382714 \nL 130.233537 131.81948 \nL 133.34604 128.608199 \nL 134.670064 132.382714 \nz\n\" style=\"fill-opacity:0.9;stroke:#000000;stroke-linecap:round;stroke-opacity:0.9;\"/>\n   </g>\n   <g id=\"patch_4\">\n    <path clip-path=\"url(#p7c0303cdef)\" d=\"M 223.618966 132.188677 \nQ 211.357425 127.888456 200.150893 131.81948 \n\" style=\"fill:none;stroke:#000000;stroke-linecap:round;stroke-opacity:0.9;\"/>\n    <path clip-path=\"url(#p7c0303cdef)\" d=\"M 204.587419 132.382714 \nL 200.150893 131.81948 \nL 203.263396 128.608199 \nL 204.587419 132.382714 \nz\n\" style=\"fill-opacity:0.9;stroke:#000000;stroke-linecap:round;stroke-opacity:0.9;\"/>\n   </g>\n   <g id=\"patch_5\">\n    <path clip-path=\"url(#p7c0303cdef)\" d=\"M 293.536321 132.188677 \nQ 281.27478 127.888456 270.068248 131.81948 \n\" style=\"fill:none;stroke:#000000;stroke-linecap:round;stroke-opacity:0.9;\"/>\n    <path clip-path=\"url(#p7c0303cdef)\" d=\"M 274.504774 132.382714 \nL 270.068248 131.81948 \nL 273.180751 128.608199 \nL 274.504774 132.382714 \nz\n\" style=\"fill-opacity:0.9;stroke:#000000;stroke-linecap:round;stroke-opacity:0.9;\"/>\n   </g>\n   <g id=\"patch_6\">\n    <path clip-path=\"url(#p7c0303cdef)\" d=\"M 293.536321 132.188677 \nQ 281.27478 127.888456 270.068248 131.81948 \n\" style=\"fill:none;stroke:#000000;stroke-linecap:round;stroke-opacity:0.9;\"/>\n    <path clip-path=\"url(#p7c0303cdef)\" d=\"M 274.504774 132.382714 \nL 270.068248 131.81948 \nL 273.180751 128.608199 \nL 274.504774 132.382714 \nz\n\" style=\"fill-opacity:0.9;stroke:#000000;stroke-linecap:round;stroke-opacity:0.9;\"/>\n   </g>\n   <g id=\"patch_7\">\n    <path clip-path=\"url(#p7c0303cdef)\" d=\"M 295.377712 129.772045 \nQ 246.318649 95.347758 198.174805 129.128063 \n\" style=\"fill:none;stroke:#000000;stroke-linecap:round;stroke-opacity:0.9;\"/>\n    <path clip-path=\"url(#p7c0303cdef)\" d=\"M 202.597928 128.467772 \nL 198.174805 129.128063 \nL 200.300446 125.19339 \nL 202.597928 128.467772 \nz\n\" style=\"fill-opacity:0.9;stroke:#000000;stroke-linecap:round;stroke-opacity:0.9;\"/>\n   </g>\n   <g id=\"patch_8\">\n    <path clip-path=\"url(#p7c0303cdef)\" d=\"M 295.907938 129.161191 \nQ 211.356495 60.997266 127.67544 128.462982 \n\" style=\"fill:none;stroke:#000000;stroke-linecap:round;stroke-opacity:0.9;\"/>\n    <path clip-path=\"url(#p7c0303cdef)\" d=\"M 132.044728 127.5094 \nL 127.67544 128.462982 \nL 129.534147 124.395402 \nL 132.044728 127.5094 \nz\n\" style=\"fill-opacity:0.9;stroke:#000000;stroke-linecap:round;stroke-opacity:0.9;\"/>\n   </g>\n   <g id=\"patch_9\">\n    <path clip-path=\"url(#p7c0303cdef)\" d=\"M 296.162916 128.886877 \nQ 176.400655 26.315223 57.487559 128.158487 \n\" style=\"fill:none;stroke:#000000;stroke-linecap:round;stroke-opacity:0.9;\"/>\n    <path clip-path=\"url(#p7c0303cdef)\" d=\"M 61.8266 127.075566 \nL 57.487559 128.158487 \nL 59.224646 124.037501 \nL 61.8266 127.075566 \nz\n\" style=\"fill-opacity:0.9;stroke:#000000;stroke-linecap:round;stroke-opacity:0.9;\"/>\n   </g>\n   <g id=\"PathCollection_1\">\n    <defs>\n     <path d=\"M 0 27.386128 \nC 7.262886 27.386128 14.229281 24.500553 19.364917 19.364917 \nC 24.500553 14.229281 27.386128 7.262886 27.386128 0 \nC 27.386128 -7.262886 24.500553 -14.229281 19.364917 -19.364917 \nC 14.229281 -24.500553 7.262886 -27.386128 0 -27.386128 \nC -7.262886 -27.386128 -14.229281 -24.500553 -19.364917 -19.364917 \nC -24.500553 -14.229281 -27.386128 -7.262886 -27.386128 0 \nC -27.386128 7.262886 -24.500553 14.229281 -19.364917 19.364917 \nC -14.229281 24.500553 -7.262886 27.386128 0 27.386128 \nz\n\" id=\"me0ae2444f0\" style=\"stroke:#7f7f7f;stroke-opacity:0.9;\"/>\n    </defs>\n    <g clip-path=\"url(#p7c0303cdef)\">\n     <use style=\"fill:#d62728;fill-opacity:0.9;stroke:#7f7f7f;stroke-opacity:0.9;\" x=\"36.565289\" xlink:href=\"#me0ae2444f0\" y=\"147.518125\"/>\n     <use style=\"fill:#d62728;fill-opacity:0.9;stroke:#7f7f7f;stroke-opacity:0.9;\" x=\"106.482645\" xlink:href=\"#me0ae2444f0\" y=\"147.518125\"/>\n     <use style=\"fill:#d62728;fill-opacity:0.9;stroke:#7f7f7f;stroke-opacity:0.9;\" x=\"176.4\" xlink:href=\"#me0ae2444f0\" y=\"147.518125\"/>\n     <use style=\"fill:#d62728;fill-opacity:0.9;stroke:#7f7f7f;stroke-opacity:0.9;\" x=\"246.317355\" xlink:href=\"#me0ae2444f0\" y=\"147.518125\"/>\n     <use style=\"fill:#d62728;fill-opacity:0.9;stroke:#7f7f7f;stroke-opacity:0.9;\" x=\"316.234711\" xlink:href=\"#me0ae2444f0\" y=\"147.518125\"/>\n    </g>\n   </g>\n   <g id=\"text_1\">\n    <g clip-path=\"url(#p7c0303cdef)\">\n     <!-- add -->\n     <defs>\n      <path d=\"M 34.28125 27.484375 \nQ 23.390625 27.484375 19.1875 25 \nQ 14.984375 22.515625 14.984375 16.5 \nQ 14.984375 11.71875 18.140625 8.90625 \nQ 21.296875 6.109375 26.703125 6.109375 \nQ 34.1875 6.109375 38.703125 11.40625 \nQ 43.21875 16.703125 43.21875 25.484375 \nL 43.21875 27.484375 \nz\nM 52.203125 31.203125 \nL 52.203125 0 \nL 43.21875 0 \nL 43.21875 8.296875 \nQ 40.140625 3.328125 35.546875 0.953125 \nQ 30.953125 -1.421875 24.3125 -1.421875 \nQ 15.921875 -1.421875 10.953125 3.296875 \nQ 6 8.015625 6 15.921875 \nQ 6 25.140625 12.171875 29.828125 \nQ 18.359375 34.515625 30.609375 34.515625 \nL 43.21875 34.515625 \nL 43.21875 35.40625 \nQ 43.21875 41.609375 39.140625 45 \nQ 35.0625 48.390625 27.6875 48.390625 \nQ 23 48.390625 18.546875 47.265625 \nQ 14.109375 46.140625 10.015625 43.890625 \nL 10.015625 52.203125 \nQ 14.9375 54.109375 19.578125 55.046875 \nQ 24.21875 56 28.609375 56 \nQ 40.484375 56 46.34375 49.84375 \nQ 52.203125 43.703125 52.203125 31.203125 \nz\n\" id=\"DejaVuSans-97\"/>\n      <path d=\"M 45.40625 46.390625 \nL 45.40625 75.984375 \nL 54.390625 75.984375 \nL 54.390625 0 \nL 45.40625 0 \nL 45.40625 8.203125 \nQ 42.578125 3.328125 38.25 0.953125 \nQ 33.9375 -1.421875 27.875 -1.421875 \nQ 17.96875 -1.421875 11.734375 6.484375 \nQ 5.515625 14.40625 5.515625 27.296875 \nQ 5.515625 40.1875 11.734375 48.09375 \nQ 17.96875 56 27.875 56 \nQ 33.9375 56 38.25 53.625 \nQ 42.578125 51.265625 45.40625 46.390625 \nz\nM 14.796875 27.296875 \nQ 14.796875 17.390625 18.875 11.75 \nQ 22.953125 6.109375 30.078125 6.109375 \nQ 37.203125 6.109375 41.296875 11.75 \nQ 45.40625 17.390625 45.40625 27.296875 \nQ 45.40625 37.203125 41.296875 42.84375 \nQ 37.203125 48.484375 30.078125 48.484375 \nQ 22.953125 48.484375 18.875 42.84375 \nQ 14.796875 37.203125 14.796875 27.296875 \nz\n\" id=\"DejaVuSans-100\"/>\n     </defs>\n     <g style=\"fill:#d2b48c;opacity:0.9;\" transform=\"translate(25.270289 150.829375)scale(0.12 -0.12)\">\n      <use xlink:href=\"#DejaVuSans-97\"/>\n      <use x=\"61.279297\" xlink:href=\"#DejaVuSans-100\"/>\n      <use x=\"124.755859\" xlink:href=\"#DejaVuSans-100\"/>\n     </g>\n    </g>\n   </g>\n   <g id=\"text_2\">\n    <g clip-path=\"url(#p7c0303cdef)\">\n     <!-- add -->\n     <g style=\"fill:#d2b48c;opacity:0.9;\" transform=\"translate(95.187645 150.829375)scale(0.12 -0.12)\">\n      <use xlink:href=\"#DejaVuSans-97\"/>\n      <use x=\"61.279297\" xlink:href=\"#DejaVuSans-100\"/>\n      <use x=\"124.755859\" xlink:href=\"#DejaVuSans-100\"/>\n     </g>\n    </g>\n   </g>\n   <g id=\"text_3\">\n    <g clip-path=\"url(#p7c0303cdef)\">\n     <!-- add -->\n     <g style=\"fill:#d2b48c;opacity:0.9;\" transform=\"translate(165.105 150.829375)scale(0.12 -0.12)\">\n      <use xlink:href=\"#DejaVuSans-97\"/>\n      <use x=\"61.279297\" xlink:href=\"#DejaVuSans-100\"/>\n      <use x=\"124.755859\" xlink:href=\"#DejaVuSans-100\"/>\n     </g>\n    </g>\n   </g>\n   <g id=\"text_4\">\n    <g clip-path=\"url(#p7c0303cdef)\">\n     <!-- add -->\n     <g style=\"fill:#d2b48c;opacity:0.9;\" transform=\"translate(235.022355 150.829375)scale(0.12 -0.12)\">\n      <use xlink:href=\"#DejaVuSans-97\"/>\n      <use x=\"61.279297\" xlink:href=\"#DejaVuSans-100\"/>\n      <use x=\"124.755859\" xlink:href=\"#DejaVuSans-100\"/>\n     </g>\n    </g>\n   </g>\n   <g id=\"text_5\">\n    <g clip-path=\"url(#p7c0303cdef)\">\n     <!-- 2.0 -->\n     <defs>\n      <path d=\"M 19.1875 8.296875 \nL 53.609375 8.296875 \nL 53.609375 0 \nL 7.328125 0 \nL 7.328125 8.296875 \nQ 12.9375 14.109375 22.625 23.890625 \nQ 32.328125 33.6875 34.8125 36.53125 \nQ 39.546875 41.84375 41.421875 45.53125 \nQ 43.3125 49.21875 43.3125 52.78125 \nQ 43.3125 58.59375 39.234375 62.25 \nQ 35.15625 65.921875 28.609375 65.921875 \nQ 23.96875 65.921875 18.8125 64.3125 \nQ 13.671875 62.703125 7.8125 59.421875 \nL 7.8125 69.390625 \nQ 13.765625 71.78125 18.9375 73 \nQ 24.125 74.21875 28.421875 74.21875 \nQ 39.75 74.21875 46.484375 68.546875 \nQ 53.21875 62.890625 53.21875 53.421875 \nQ 53.21875 48.921875 51.53125 44.890625 \nQ 49.859375 40.875 45.40625 35.40625 \nQ 44.1875 33.984375 37.640625 27.21875 \nQ 31.109375 20.453125 19.1875 8.296875 \nz\n\" id=\"DejaVuSans-50\"/>\n      <path d=\"M 10.6875 12.40625 \nL 21 12.40625 \nL 21 0 \nL 10.6875 0 \nz\n\" id=\"DejaVuSans-46\"/>\n      <path d=\"M 31.78125 66.40625 \nQ 24.171875 66.40625 20.328125 58.90625 \nQ 16.5 51.421875 16.5 36.375 \nQ 16.5 21.390625 20.328125 13.890625 \nQ 24.171875 6.390625 31.78125 6.390625 \nQ 39.453125 6.390625 43.28125 13.890625 \nQ 47.125 21.390625 47.125 36.375 \nQ 47.125 51.421875 43.28125 58.90625 \nQ 39.453125 66.40625 31.78125 66.40625 \nz\nM 31.78125 74.21875 \nQ 44.046875 74.21875 50.515625 64.515625 \nQ 56.984375 54.828125 56.984375 36.375 \nQ 56.984375 17.96875 50.515625 8.265625 \nQ 44.046875 -1.421875 31.78125 -1.421875 \nQ 19.53125 -1.421875 13.0625 8.265625 \nQ 6.59375 17.96875 6.59375 36.375 \nQ 6.59375 54.828125 13.0625 64.515625 \nQ 19.53125 74.21875 31.78125 74.21875 \nz\n\" id=\"DejaVuSans-48\"/>\n     </defs>\n     <g style=\"fill:#d2b48c;opacity:0.9;\" transform=\"translate(306.692836 150.829375)scale(0.12 -0.12)\">\n      <use xlink:href=\"#DejaVuSans-50\"/>\n      <use x=\"63.623047\" xlink:href=\"#DejaVuSans-46\"/>\n      <use x=\"95.410156\" xlink:href=\"#DejaVuSans-48\"/>\n     </g>\n    </g>\n   </g>\n   <g id=\"text_6\">\n    <!-- Computation Graph -->\n    <defs>\n     <path d=\"M 64.40625 67.28125 \nL 64.40625 56.890625 \nQ 59.421875 61.53125 53.78125 63.8125 \nQ 48.140625 66.109375 41.796875 66.109375 \nQ 29.296875 66.109375 22.65625 58.46875 \nQ 16.015625 50.828125 16.015625 36.375 \nQ 16.015625 21.96875 22.65625 14.328125 \nQ 29.296875 6.6875 41.796875 6.6875 \nQ 48.140625 6.6875 53.78125 8.984375 \nQ 59.421875 11.28125 64.40625 15.921875 \nL 64.40625 5.609375 \nQ 59.234375 2.09375 53.4375 0.328125 \nQ 47.65625 -1.421875 41.21875 -1.421875 \nQ 24.65625 -1.421875 15.125 8.703125 \nQ 5.609375 18.84375 5.609375 36.375 \nQ 5.609375 53.953125 15.125 64.078125 \nQ 24.65625 74.21875 41.21875 74.21875 \nQ 47.75 74.21875 53.53125 72.484375 \nQ 59.328125 70.75 64.40625 67.28125 \nz\n\" id=\"DejaVuSans-67\"/>\n     <path d=\"M 30.609375 48.390625 \nQ 23.390625 48.390625 19.1875 42.75 \nQ 14.984375 37.109375 14.984375 27.296875 \nQ 14.984375 17.484375 19.15625 11.84375 \nQ 23.34375 6.203125 30.609375 6.203125 \nQ 37.796875 6.203125 41.984375 11.859375 \nQ 46.1875 17.53125 46.1875 27.296875 \nQ 46.1875 37.015625 41.984375 42.703125 \nQ 37.796875 48.390625 30.609375 48.390625 \nz\nM 30.609375 56 \nQ 42.328125 56 49.015625 48.375 \nQ 55.71875 40.765625 55.71875 27.296875 \nQ 55.71875 13.875 49.015625 6.21875 \nQ 42.328125 -1.421875 30.609375 -1.421875 \nQ 18.84375 -1.421875 12.171875 6.21875 \nQ 5.515625 13.875 5.515625 27.296875 \nQ 5.515625 40.765625 12.171875 48.375 \nQ 18.84375 56 30.609375 56 \nz\n\" id=\"DejaVuSans-111\"/>\n     <path d=\"M 52 44.1875 \nQ 55.375 50.25 60.0625 53.125 \nQ 64.75 56 71.09375 56 \nQ 79.640625 56 84.28125 50.015625 \nQ 88.921875 44.046875 88.921875 33.015625 \nL 88.921875 0 \nL 79.890625 0 \nL 79.890625 32.71875 \nQ 79.890625 40.578125 77.09375 44.375 \nQ 74.3125 48.1875 68.609375 48.1875 \nQ 61.625 48.1875 57.5625 43.546875 \nQ 53.515625 38.921875 53.515625 30.90625 \nL 53.515625 0 \nL 44.484375 0 \nL 44.484375 32.71875 \nQ 44.484375 40.625 41.703125 44.40625 \nQ 38.921875 48.1875 33.109375 48.1875 \nQ 26.21875 48.1875 22.15625 43.53125 \nQ 18.109375 38.875 18.109375 30.90625 \nL 18.109375 0 \nL 9.078125 0 \nL 9.078125 54.6875 \nL 18.109375 54.6875 \nL 18.109375 46.1875 \nQ 21.1875 51.21875 25.484375 53.609375 \nQ 29.78125 56 35.6875 56 \nQ 41.65625 56 45.828125 52.96875 \nQ 50 49.953125 52 44.1875 \nz\n\" id=\"DejaVuSans-109\"/>\n     <path d=\"M 18.109375 8.203125 \nL 18.109375 -20.796875 \nL 9.078125 -20.796875 \nL 9.078125 54.6875 \nL 18.109375 54.6875 \nL 18.109375 46.390625 \nQ 20.953125 51.265625 25.265625 53.625 \nQ 29.59375 56 35.59375 56 \nQ 45.5625 56 51.78125 48.09375 \nQ 58.015625 40.1875 58.015625 27.296875 \nQ 58.015625 14.40625 51.78125 6.484375 \nQ 45.5625 -1.421875 35.59375 -1.421875 \nQ 29.59375 -1.421875 25.265625 0.953125 \nQ 20.953125 3.328125 18.109375 8.203125 \nz\nM 48.6875 27.296875 \nQ 48.6875 37.203125 44.609375 42.84375 \nQ 40.53125 48.484375 33.40625 48.484375 \nQ 26.265625 48.484375 22.1875 42.84375 \nQ 18.109375 37.203125 18.109375 27.296875 \nQ 18.109375 17.390625 22.1875 11.75 \nQ 26.265625 6.109375 33.40625 6.109375 \nQ 40.53125 6.109375 44.609375 11.75 \nQ 48.6875 17.390625 48.6875 27.296875 \nz\n\" id=\"DejaVuSans-112\"/>\n     <path d=\"M 8.5 21.578125 \nL 8.5 54.6875 \nL 17.484375 54.6875 \nL 17.484375 21.921875 \nQ 17.484375 14.15625 20.5 10.265625 \nQ 23.53125 6.390625 29.59375 6.390625 \nQ 36.859375 6.390625 41.078125 11.03125 \nQ 45.3125 15.671875 45.3125 23.6875 \nL 45.3125 54.6875 \nL 54.296875 54.6875 \nL 54.296875 0 \nL 45.3125 0 \nL 45.3125 8.40625 \nQ 42.046875 3.421875 37.71875 1 \nQ 33.40625 -1.421875 27.6875 -1.421875 \nQ 18.265625 -1.421875 13.375 4.4375 \nQ 8.5 10.296875 8.5 21.578125 \nz\nM 31.109375 56 \nz\n\" id=\"DejaVuSans-117\"/>\n     <path d=\"M 18.3125 70.21875 \nL 18.3125 54.6875 \nL 36.8125 54.6875 \nL 36.8125 47.703125 \nL 18.3125 47.703125 \nL 18.3125 18.015625 \nQ 18.3125 11.328125 20.140625 9.421875 \nQ 21.96875 7.515625 27.59375 7.515625 \nL 36.8125 7.515625 \nL 36.8125 0 \nL 27.59375 0 \nQ 17.1875 0 13.234375 3.875 \nQ 9.28125 7.765625 9.28125 18.015625 \nL 9.28125 47.703125 \nL 2.6875 47.703125 \nL 2.6875 54.6875 \nL 9.28125 54.6875 \nL 9.28125 70.21875 \nz\n\" id=\"DejaVuSans-116\"/>\n     <path d=\"M 9.421875 54.6875 \nL 18.40625 54.6875 \nL 18.40625 0 \nL 9.421875 0 \nz\nM 9.421875 75.984375 \nL 18.40625 75.984375 \nL 18.40625 64.59375 \nL 9.421875 64.59375 \nz\n\" id=\"DejaVuSans-105\"/>\n     <path d=\"M 54.890625 33.015625 \nL 54.890625 0 \nL 45.90625 0 \nL 45.90625 32.71875 \nQ 45.90625 40.484375 42.875 44.328125 \nQ 39.84375 48.1875 33.796875 48.1875 \nQ 26.515625 48.1875 22.3125 43.546875 \nQ 18.109375 38.921875 18.109375 30.90625 \nL 18.109375 0 \nL 9.078125 0 \nL 9.078125 54.6875 \nL 18.109375 54.6875 \nL 18.109375 46.1875 \nQ 21.34375 51.125 25.703125 53.5625 \nQ 30.078125 56 35.796875 56 \nQ 45.21875 56 50.046875 50.171875 \nQ 54.890625 44.34375 54.890625 33.015625 \nz\n\" id=\"DejaVuSans-110\"/>\n     <path id=\"DejaVuSans-32\"/>\n     <path d=\"M 59.515625 10.40625 \nL 59.515625 29.984375 \nL 43.40625 29.984375 \nL 43.40625 38.09375 \nL 69.28125 38.09375 \nL 69.28125 6.78125 \nQ 63.578125 2.734375 56.6875 0.65625 \nQ 49.8125 -1.421875 42 -1.421875 \nQ 24.90625 -1.421875 15.25 8.5625 \nQ 5.609375 18.5625 5.609375 36.375 \nQ 5.609375 54.25 15.25 64.234375 \nQ 24.90625 74.21875 42 74.21875 \nQ 49.125 74.21875 55.546875 72.453125 \nQ 61.96875 70.703125 67.390625 67.28125 \nL 67.390625 56.78125 \nQ 61.921875 61.421875 55.765625 63.765625 \nQ 49.609375 66.109375 42.828125 66.109375 \nQ 29.4375 66.109375 22.71875 58.640625 \nQ 16.015625 51.171875 16.015625 36.375 \nQ 16.015625 21.625 22.71875 14.15625 \nQ 29.4375 6.6875 42.828125 6.6875 \nQ 48.046875 6.6875 52.140625 7.59375 \nQ 56.25 8.5 59.515625 10.40625 \nz\n\" id=\"DejaVuSans-71\"/>\n     <path d=\"M 41.109375 46.296875 \nQ 39.59375 47.171875 37.8125 47.578125 \nQ 36.03125 48 33.890625 48 \nQ 26.265625 48 22.1875 43.046875 \nQ 18.109375 38.09375 18.109375 28.8125 \nL 18.109375 0 \nL 9.078125 0 \nL 9.078125 54.6875 \nL 18.109375 54.6875 \nL 18.109375 46.1875 \nQ 20.953125 51.171875 25.484375 53.578125 \nQ 30.03125 56 36.53125 56 \nQ 37.453125 56 38.578125 55.875 \nQ 39.703125 55.765625 41.0625 55.515625 \nz\n\" id=\"DejaVuSans-114\"/>\n     <path d=\"M 54.890625 33.015625 \nL 54.890625 0 \nL 45.90625 0 \nL 45.90625 32.71875 \nQ 45.90625 40.484375 42.875 44.328125 \nQ 39.84375 48.1875 33.796875 48.1875 \nQ 26.515625 48.1875 22.3125 43.546875 \nQ 18.109375 38.921875 18.109375 30.90625 \nL 18.109375 0 \nL 9.078125 0 \nL 9.078125 75.984375 \nL 18.109375 75.984375 \nL 18.109375 46.1875 \nQ 21.34375 51.125 25.703125 53.5625 \nQ 30.078125 56 35.796875 56 \nQ 45.21875 56 50.046875 50.171875 \nQ 54.890625 44.34375 54.890625 33.015625 \nz\n\" id=\"DejaVuSans-104\"/>\n    </defs>\n    <g transform=\"translate(117.250312 16.318125)scale(0.12 -0.12)\">\n     <use xlink:href=\"#DejaVuSans-67\"/>\n     <use x=\"69.824219\" xlink:href=\"#DejaVuSans-111\"/>\n     <use x=\"131.005859\" xlink:href=\"#DejaVuSans-109\"/>\n     <use x=\"228.417969\" xlink:href=\"#DejaVuSans-112\"/>\n     <use x=\"291.894531\" xlink:href=\"#DejaVuSans-117\"/>\n     <use x=\"355.273438\" xlink:href=\"#DejaVuSans-116\"/>\n     <use x=\"394.482422\" xlink:href=\"#DejaVuSans-97\"/>\n     <use x=\"455.761719\" xlink:href=\"#DejaVuSans-116\"/>\n     <use x=\"494.970703\" xlink:href=\"#DejaVuSans-105\"/>\n     <use x=\"522.753906\" xlink:href=\"#DejaVuSans-111\"/>\n     <use x=\"583.935547\" xlink:href=\"#DejaVuSans-110\"/>\n     <use x=\"647.314453\" xlink:href=\"#DejaVuSans-32\"/>\n     <use x=\"679.101562\" xlink:href=\"#DejaVuSans-71\"/>\n     <use x=\"756.591797\" xlink:href=\"#DejaVuSans-114\"/>\n     <use x=\"797.705078\" xlink:href=\"#DejaVuSans-97\"/>\n     <use x=\"858.984375\" xlink:href=\"#DejaVuSans-112\"/>\n     <use x=\"922.460938\" xlink:href=\"#DejaVuSans-104\"/>\n    </g>\n   </g>\n  </g>\n </g>\n <defs>\n  <clipPath id=\"p7c0303cdef\">\n   <rect height=\"250.4\" width=\"338.4\" x=\"7.2\" y=\"22.318125\"/>\n  </clipPath>\n </defs>\n</svg>\n"
          },
          "metadata": {}
        }
      ]
    },
    {
      "cell_type": "markdown",
      "source": [
        "# Partie 2: accumulation arrière explicite\n",
        "\n",
        "Parcourez le graph de calcul en ordre topologique inversé en propageant le vecteur adjoint, à partir d'un vecteur graine, à l'aide des opérations vjp. En présence de chemins multiples, sommez les vecteurs adjoints. \n",
        "\n",
        "Vous pouvez implémenter cette fonction avec une boucle et une pile (stack) si vous le souhaitez, ou bien de manière récursive comme décrite ici. La fonction ``visit`` suivante est conçue pour être appelée à partir de ``end_node`` avec le vecteur graine. La récursion se poursuit jusqu'au moment où nous atteignons un nœud de source (sans parents) et retournons le vecteur adjoint reçu sans modification. En visitant chaque nœud, nous prenons la somme des vecteurs adjoints calculés récursivement dans la branche correspondant à chaque argument. Avant de descendre dans une branche, il est nécessaire de s'assurer que l'argument est bien de type ``Node``. Si ce n'est pas le cas, cela signifie que l'argument ne dépend pas de la variable de différentiation, et ne doit donc pas entrer dans le calcul de la somme de la dérivée totale. "
      ],
      "metadata": {
        "id": "R0hDNiRASerl"
      }
    },
    {
      "cell_type": "code",
      "source": [
        "def visit(g, node):\n",
        "  # À IMPLÉMENTER\n",
        "  pass"
      ],
      "metadata": {
        "id": "toPgH-BENZ3x"
      },
      "execution_count": null,
      "outputs": []
    },
    {
      "cell_type": "markdown",
      "source": [
        "Afin de pouvoir ensemencer notre accumulation arrière, nous devoir fournir un vecteur graine provenant d'une base standard. Nous reprenons ici la fonction correspondant définie dans le code d'autograd, qui nous permet de générer les éléments de cette base pour des espaces tensoriels. "
      ],
      "metadata": {
        "id": "CcRviDjc7tnC"
      }
    },
    {
      "cell_type": "code",
      "source": [
        "def standard_basis(shape):\n",
        "  for idxs in onp.ndindex(*shape):\n",
        "      vect = onp.zeros(shape)\n",
        "      vect[idxs] = 1\n",
        "      yield vect"
      ],
      "metadata": {
        "id": "PRNRDwq78fAT"
      },
      "execution_count": null,
      "outputs": []
    },
    {
      "cell_type": "markdown",
      "source": [
        "## Premier test: opération scalaire\n",
        "\n",
        "Pour commencer, testons une fonction simple $f(x) =  \\sin(x^2)$ où $x$ est un scalaire. La dérivée est alors $f'(x) = 2\\cos(x^2)x$"
      ],
      "metadata": {
        "id": "gKqZA1nzQ-yN"
      }
    },
    {
      "cell_type": "code",
      "source": [
        "def f(x):\n",
        "  return ad.sin(ad.power(x, 2.))\n",
        "\n",
        "x = 1.\n",
        "end_node = f(Node(value=x))\n",
        "visit(1., end_node)"
      ],
      "metadata": {
        "colab": {
          "base_uri": "https://localhost:8080/"
        },
        "id": "5W38-K5xRhtq",
        "outputId": "60a52e51-d701-4958-fcb6-0e4aadb00314"
      },
      "execution_count": null,
      "outputs": [
        {
          "output_type": "execute_result",
          "data": {
            "text/plain": [
              "1.0806046117362795"
            ]
          },
          "metadata": {},
          "execution_count": 13
        }
      ]
    },
    {
      "cell_type": "markdown",
      "source": [
        "Nous pouvons vérifier que nous obtenions la même solution que la dérivée analytique:"
      ],
      "metadata": {
        "id": "M_uHCaORYVL6"
      }
    },
    {
      "cell_type": "code",
      "source": [
        "2.*onp.cos(x**2.)"
      ],
      "metadata": {
        "colab": {
          "base_uri": "https://localhost:8080/"
        },
        "id": "yEHcX3_7TBqs",
        "outputId": "c75926ef-0f2e-4880-9e2c-60eb604df350"
      },
      "execution_count": null,
      "outputs": [
        {
          "output_type": "execute_result",
          "data": {
            "text/plain": [
              "1.0806046117362795"
            ]
          },
          "metadata": {},
          "execution_count": 14
        }
      ]
    },
    {
      "cell_type": "markdown",
      "source": [
        "## Deuxième test: produit scalaire\n",
        "\n",
        "Tentons maintenant d'appliquer notre système à des vecteurs, pour le produit scalaire $f(x) = x^\\top x$, $Df(x) = 2x^\\top$"
      ],
      "metadata": {
        "id": "9U6PAi77YdVY"
      }
    },
    {
      "cell_type": "code",
      "source": [
        "def f(x):\n",
        "  return ad.dot(x, x)\n",
        "\n",
        "x = onp.array([2, 3.])\n",
        "end_node = f(Node(value=x))\n",
        "visit(1., end_node)"
      ],
      "metadata": {
        "colab": {
          "base_uri": "https://localhost:8080/"
        },
        "id": "iPgonSHHY96n",
        "outputId": "bbc9bc32-5c3f-4461-cda4-a9e4c8acdaab"
      },
      "execution_count": null,
      "outputs": [
        {
          "output_type": "execute_result",
          "data": {
            "text/plain": [
              "array([4., 6.])"
            ]
          },
          "metadata": {},
          "execution_count": 15
        }
      ]
    },
    {
      "cell_type": "markdown",
      "source": [
        "## Troisième test: produit matriciel\n",
        "\n",
        "Cette fois-ci, nous considérons un produit matriciel de la forme $f(A, B) = A B$. La base standard est maintenant plus complexe, tel que nous allons voir ci-dessous. "
      ],
      "metadata": {
        "id": "D3FcTYKuY_Ba"
      }
    },
    {
      "cell_type": "code",
      "source": [
        "def f(x):\n",
        "  return ad.dot(x, x)\n",
        "x = onp.array([[1, 2.],[3,4]])\n",
        "end_node = f(Node(value=x))\n",
        "onp.reshape(onp.stack([visit(g, end_node) for g in standard_basis((2,2))]), (2, 2, 2, 2))"
      ],
      "metadata": {
        "colab": {
          "base_uri": "https://localhost:8080/"
        },
        "id": "FdwMMEOP47ep",
        "outputId": "5232af6b-23f6-4743-a0d2-8f99a3429cb0"
      },
      "execution_count": null,
      "outputs": [
        {
          "output_type": "execute_result",
          "data": {
            "text/plain": [
              "array([[[[2., 3.],\n",
              "         [2., 0.]],\n",
              "\n",
              "        [[2., 5.],\n",
              "         [0., 2.]]],\n",
              "\n",
              "\n",
              "       [[[3., 0.],\n",
              "         [5., 3.]],\n",
              "\n",
              "        [[0., 3.],\n",
              "         [2., 8.]]]])"
            ]
          },
          "metadata": {},
          "execution_count": 16
        }
      ]
    },
    {
      "cell_type": "markdown",
      "source": [
        "Comparons maintenant avec JAX en passant à l'espace de nom de jax plutôt que de notre implémentation. "
      ],
      "metadata": {
        "id": "idjDjvxtayEr"
      }
    },
    {
      "cell_type": "code",
      "source": [
        "ad = jax.numpy\n",
        "jax.jacobian(lambda x: jnp.dot(x, x))(x)"
      ],
      "metadata": {
        "colab": {
          "base_uri": "https://localhost:8080/"
        },
        "id": "i8FQASJC9sou",
        "outputId": "75dfec32-33e3-4d39-a876-90f5a6ab03c9"
      },
      "execution_count": null,
      "outputs": [
        {
          "output_type": "stream",
          "name": "stderr",
          "text": [
            "WARNING:jax._src.lib.xla_bridge:No GPU/TPU found, falling back to CPU. (Set TF_CPP_MIN_LOG_LEVEL=0 and rerun for more info.)\n"
          ]
        },
        {
          "output_type": "execute_result",
          "data": {
            "text/plain": [
              "DeviceArray([[[[2., 3.],\n",
              "               [2., 0.]],\n",
              "\n",
              "              [[2., 5.],\n",
              "               [0., 2.]]],\n",
              "\n",
              "\n",
              "             [[[3., 0.],\n",
              "               [5., 3.]],\n",
              "\n",
              "              [[0., 3.],\n",
              "               [2., 8.]]]], dtype=float32)"
            ]
          },
          "metadata": {},
          "execution_count": 17
        }
      ]
    },
    {
      "cell_type": "markdown",
      "source": [
        "# Partie 4: application en optimisation\n",
        "\n",
        "Nous allons maintenant tenter de minimiser la fonction $f(x) = x^2$ par descente de gradient (déterminisite)."
      ],
      "metadata": {
        "id": "VO5QEHJpa_Z5"
      }
    },
    {
      "cell_type": "code",
      "source": [
        "ad = Adequation()"
      ],
      "metadata": {
        "id": "3WhPM7TicT6z"
      },
      "execution_count": null,
      "outputs": []
    },
    {
      "cell_type": "code",
      "source": [
        "def f(x):\n",
        "  return x**2."
      ],
      "metadata": {
        "id": "Y-hQOHDlcRkG"
      },
      "execution_count": null,
      "outputs": []
    },
    {
      "cell_type": "code",
      "source": [
        "x = 0.5\n",
        "for _ in range(100):\n",
        "  end_node = f(Node(value=x))\n",
        "  print(x)\n",
        "  grad = visit(1., end_node)\n",
        "  x = x - 1e-1*grad"
      ],
      "metadata": {
        "colab": {
          "base_uri": "https://localhost:8080/"
        },
        "id": "HLxxQj8VcbDN",
        "outputId": "5e15ecfe-b38a-4576-961f-a4cbd231fada"
      },
      "execution_count": null,
      "outputs": [
        {
          "output_type": "stream",
          "name": "stdout",
          "text": [
            "0.5\n",
            "0.4\n",
            "0.32\n",
            "0.256\n",
            "0.2048\n",
            "0.16384\n",
            "0.13107200000000002\n",
            "0.10485760000000002\n",
            "0.08388608000000002\n",
            "0.06710886400000002\n",
            "0.053687091200000016\n",
            "0.04294967296000001\n",
            "0.034359738368000006\n",
            "0.027487790694400004\n",
            "0.021990232555520003\n",
            "0.017592186044416\n",
            "0.014073748835532801\n",
            "0.01125899906842624\n",
            "0.009007199254740993\n",
            "0.007205759403792794\n",
            "0.005764607523034235\n",
            "0.004611686018427388\n",
            "0.0036893488147419105\n",
            "0.0029514790517935286\n",
            "0.002361183241434823\n",
            "0.0018889465931478584\n",
            "0.0015111572745182867\n",
            "0.0012089258196146294\n",
            "0.0009671406556917035\n",
            "0.0007737125245533628\n",
            "0.0006189700196426903\n",
            "0.0004951760157141523\n",
            "0.0003961408125713218\n",
            "0.0003169126500570575\n",
            "0.00025353012004564597\n",
            "0.0002028240960365168\n",
            "0.00016225927682921344\n",
            "0.00012980742146337075\n",
            "0.0001038459371706966\n",
            "8.307674973655728e-05\n",
            "6.646139978924582e-05\n",
            "5.3169119831396656e-05\n",
            "4.253529586511732e-05\n",
            "3.4028236692093856e-05\n",
            "2.7222589353675086e-05\n",
            "2.1778071482940068e-05\n",
            "1.7422457186352053e-05\n",
            "1.3937965749081642e-05\n",
            "1.1150372599265315e-05\n",
            "8.920298079412252e-06\n",
            "7.136238463529802e-06\n",
            "5.708990770823841e-06\n",
            "4.567192616659073e-06\n",
            "3.6537540933272587e-06\n",
            "2.9230032746618068e-06\n",
            "2.3384026197294455e-06\n",
            "1.8707220957835564e-06\n",
            "1.4965776766268452e-06\n",
            "1.1972621413014761e-06\n",
            "9.57809713041181e-07\n",
            "7.662477704329448e-07\n",
            "6.129982163463559e-07\n",
            "4.903985730770847e-07\n",
            "3.9231885846166773e-07\n",
            "3.138550867693342e-07\n",
            "2.5108406941546737e-07\n",
            "2.0086725553237389e-07\n",
            "1.606938044258991e-07\n",
            "1.2855504354071928e-07\n",
            "1.0284403483257543e-07\n",
            "8.227522786606034e-08\n",
            "6.582018229284828e-08\n",
            "5.265614583427862e-08\n",
            "4.2124916667422894e-08\n",
            "3.369993333393832e-08\n",
            "2.6959946667150655e-08\n",
            "2.1567957333720523e-08\n",
            "1.7254365866976418e-08\n",
            "1.3803492693581134e-08\n",
            "1.1042794154864907e-08\n",
            "8.834235323891926e-09\n",
            "7.067388259113541e-09\n",
            "5.653910607290833e-09\n",
            "4.5231284858326665e-09\n",
            "3.6185027886661333e-09\n",
            "2.8948022309329065e-09\n",
            "2.3158417847463253e-09\n",
            "1.8526734277970602e-09\n",
            "1.4821387422376482e-09\n",
            "1.1857109937901185e-09\n",
            "9.485687950320949e-10\n",
            "7.58855036025676e-10\n",
            "6.070840288205407e-10\n",
            "4.856672230564326e-10\n",
            "3.885337784451461e-10\n",
            "3.108270227561169e-10\n",
            "2.486616182048935e-10\n",
            "1.989292945639148e-10\n",
            "1.5914343565113184e-10\n",
            "1.2731474852090549e-10\n"
          ]
        }
      ]
    },
    {
      "cell_type": "markdown",
      "source": [
        "## Deuxième application: régression linéaire \n",
        "\n",
        "Considérons maintenant un problème de régression linéaire."
      ],
      "metadata": {
        "id": "mDYW6G8Iuz-a"
      }
    },
    {
      "cell_type": "code",
      "source": [
        "x = onp.linspace(0, 10, 100)\n",
        "y = 2.*x + onp.random.normal(0, 1, 100)"
      ],
      "metadata": {
        "id": "irrkDeETTN4o"
      },
      "execution_count": null,
      "outputs": []
    },
    {
      "cell_type": "markdown",
      "source": [
        "Implémentons maintenant l'erreur quadratique moyenne. "
      ],
      "metadata": {
        "id": "zPAzhRWagx1h"
      }
    },
    {
      "cell_type": "code",
      "source": [
        "def loss(w, x, y):\n",
        "  # À IMPLÉMENTER\n",
        "  pass"
      ],
      "metadata": {
        "id": "2wsZypg9u7i0"
      },
      "execution_count": null,
      "outputs": []
    },
    {
      "cell_type": "markdown",
      "source": [
        "La procédure de descent de gradient suivante devrait pouvoir retrouver le coefficient d'origine de la droite d'origine. "
      ],
      "metadata": {
        "id": "wE_x5l3BhB65"
      }
    },
    {
      "cell_type": "code",
      "source": [
        "w = 0.5\n",
        "niter = 100\n",
        "errors = onp.zeros((niter))\n",
        "for i in range(niter):\n",
        "  end_node = loss(Node(value=w), x, y)\n",
        "  grad = visit(1., end_node)\n",
        "  w = w - 1e-3*grad\n",
        "  errors[i] = end_node.value\n",
        "plt.plot(errors)\n",
        "plt.title('Training curve')\n",
        "plt.xlabel('Iterations')\n",
        "plt.ylabel('MSE')"
      ],
      "metadata": {
        "colab": {
          "base_uri": "https://localhost:8080/",
          "height": 408
        },
        "id": "GFfsBHyib8pD",
        "outputId": "ee94066b-d7c9-4a78-cf71-42c313a9a3d1"
      },
      "execution_count": null,
      "outputs": [
        {
          "output_type": "execute_result",
          "data": {
            "text/plain": [
              "Text(0, 0.5, 'MSE')"
            ]
          },
          "metadata": {},
          "execution_count": 23
        },
        {
          "output_type": "display_data",
          "data": {
            "text/plain": [
              "<Figure size 432x288 with 1 Axes>"
            ],
            "image/svg+xml": "<?xml version=\"1.0\" encoding=\"utf-8\" standalone=\"no\"?>\n<!DOCTYPE svg PUBLIC \"-//W3C//DTD SVG 1.1//EN\"\n  \"http://www.w3.org/Graphics/SVG/1.1/DTD/svg11.dtd\">\n<!-- Created with matplotlib (https://matplotlib.org/) -->\n<svg height=\"277.314375pt\" version=\"1.1\" viewBox=\"0 0 382.603125 277.314375\" width=\"382.603125pt\" xmlns=\"http://www.w3.org/2000/svg\" xmlns:xlink=\"http://www.w3.org/1999/xlink\">\n <defs>\n  <style type=\"text/css\">\n*{stroke-linecap:butt;stroke-linejoin:round;}\n  </style>\n </defs>\n <g id=\"figure_1\">\n  <g id=\"patch_1\">\n   <path d=\"M 0 277.314375 \nL 382.603125 277.314375 \nL 382.603125 0 \nL 0 0 \nz\n\" style=\"fill:none;\"/>\n  </g>\n  <g id=\"axes_1\">\n   <g id=\"patch_2\">\n    <path d=\"M 40.603125 239.758125 \nL 375.403125 239.758125 \nL 375.403125 22.318125 \nL 40.603125 22.318125 \nz\n\" style=\"fill:#ffffff;\"/>\n   </g>\n   <g id=\"matplotlib.axis_1\">\n    <g id=\"xtick_1\">\n     <g id=\"line2d_1\">\n      <defs>\n       <path d=\"M 0 0 \nL 0 3.5 \n\" id=\"ma5bc2bdb83\" style=\"stroke:#000000;stroke-width:0.8;\"/>\n      </defs>\n      <g>\n       <use style=\"stroke:#000000;stroke-width:0.8;\" x=\"55.821307\" xlink:href=\"#ma5bc2bdb83\" y=\"239.758125\"/>\n      </g>\n     </g>\n     <g id=\"text_1\">\n      <!-- 0 -->\n      <defs>\n       <path d=\"M 31.78125 66.40625 \nQ 24.171875 66.40625 20.328125 58.90625 \nQ 16.5 51.421875 16.5 36.375 \nQ 16.5 21.390625 20.328125 13.890625 \nQ 24.171875 6.390625 31.78125 6.390625 \nQ 39.453125 6.390625 43.28125 13.890625 \nQ 47.125 21.390625 47.125 36.375 \nQ 47.125 51.421875 43.28125 58.90625 \nQ 39.453125 66.40625 31.78125 66.40625 \nz\nM 31.78125 74.21875 \nQ 44.046875 74.21875 50.515625 64.515625 \nQ 56.984375 54.828125 56.984375 36.375 \nQ 56.984375 17.96875 50.515625 8.265625 \nQ 44.046875 -1.421875 31.78125 -1.421875 \nQ 19.53125 -1.421875 13.0625 8.265625 \nQ 6.59375 17.96875 6.59375 36.375 \nQ 6.59375 54.828125 13.0625 64.515625 \nQ 19.53125 74.21875 31.78125 74.21875 \nz\n\" id=\"DejaVuSans-48\"/>\n      </defs>\n      <g transform=\"translate(52.640057 254.356562)scale(0.1 -0.1)\">\n       <use xlink:href=\"#DejaVuSans-48\"/>\n      </g>\n     </g>\n    </g>\n    <g id=\"xtick_2\">\n     <g id=\"line2d_2\">\n      <g>\n       <use style=\"stroke:#000000;stroke-width:0.8;\" x=\"117.30891\" xlink:href=\"#ma5bc2bdb83\" y=\"239.758125\"/>\n      </g>\n     </g>\n     <g id=\"text_2\">\n      <!-- 20 -->\n      <defs>\n       <path d=\"M 19.1875 8.296875 \nL 53.609375 8.296875 \nL 53.609375 0 \nL 7.328125 0 \nL 7.328125 8.296875 \nQ 12.9375 14.109375 22.625 23.890625 \nQ 32.328125 33.6875 34.8125 36.53125 \nQ 39.546875 41.84375 41.421875 45.53125 \nQ 43.3125 49.21875 43.3125 52.78125 \nQ 43.3125 58.59375 39.234375 62.25 \nQ 35.15625 65.921875 28.609375 65.921875 \nQ 23.96875 65.921875 18.8125 64.3125 \nQ 13.671875 62.703125 7.8125 59.421875 \nL 7.8125 69.390625 \nQ 13.765625 71.78125 18.9375 73 \nQ 24.125 74.21875 28.421875 74.21875 \nQ 39.75 74.21875 46.484375 68.546875 \nQ 53.21875 62.890625 53.21875 53.421875 \nQ 53.21875 48.921875 51.53125 44.890625 \nQ 49.859375 40.875 45.40625 35.40625 \nQ 44.1875 33.984375 37.640625 27.21875 \nQ 31.109375 20.453125 19.1875 8.296875 \nz\n\" id=\"DejaVuSans-50\"/>\n      </defs>\n      <g transform=\"translate(110.94641 254.356562)scale(0.1 -0.1)\">\n       <use xlink:href=\"#DejaVuSans-50\"/>\n       <use x=\"63.623047\" xlink:href=\"#DejaVuSans-48\"/>\n      </g>\n     </g>\n    </g>\n    <g id=\"xtick_3\">\n     <g id=\"line2d_3\">\n      <g>\n       <use style=\"stroke:#000000;stroke-width:0.8;\" x=\"178.796513\" xlink:href=\"#ma5bc2bdb83\" y=\"239.758125\"/>\n      </g>\n     </g>\n     <g id=\"text_3\">\n      <!-- 40 -->\n      <defs>\n       <path d=\"M 37.796875 64.3125 \nL 12.890625 25.390625 \nL 37.796875 25.390625 \nz\nM 35.203125 72.90625 \nL 47.609375 72.90625 \nL 47.609375 25.390625 \nL 58.015625 25.390625 \nL 58.015625 17.1875 \nL 47.609375 17.1875 \nL 47.609375 0 \nL 37.796875 0 \nL 37.796875 17.1875 \nL 4.890625 17.1875 \nL 4.890625 26.703125 \nz\n\" id=\"DejaVuSans-52\"/>\n      </defs>\n      <g transform=\"translate(172.434013 254.356562)scale(0.1 -0.1)\">\n       <use xlink:href=\"#DejaVuSans-52\"/>\n       <use x=\"63.623047\" xlink:href=\"#DejaVuSans-48\"/>\n      </g>\n     </g>\n    </g>\n    <g id=\"xtick_4\">\n     <g id=\"line2d_4\">\n      <g>\n       <use style=\"stroke:#000000;stroke-width:0.8;\" x=\"240.284117\" xlink:href=\"#ma5bc2bdb83\" y=\"239.758125\"/>\n      </g>\n     </g>\n     <g id=\"text_4\">\n      <!-- 60 -->\n      <defs>\n       <path d=\"M 33.015625 40.375 \nQ 26.375 40.375 22.484375 35.828125 \nQ 18.609375 31.296875 18.609375 23.390625 \nQ 18.609375 15.53125 22.484375 10.953125 \nQ 26.375 6.390625 33.015625 6.390625 \nQ 39.65625 6.390625 43.53125 10.953125 \nQ 47.40625 15.53125 47.40625 23.390625 \nQ 47.40625 31.296875 43.53125 35.828125 \nQ 39.65625 40.375 33.015625 40.375 \nz\nM 52.59375 71.296875 \nL 52.59375 62.3125 \nQ 48.875 64.0625 45.09375 64.984375 \nQ 41.3125 65.921875 37.59375 65.921875 \nQ 27.828125 65.921875 22.671875 59.328125 \nQ 17.53125 52.734375 16.796875 39.40625 \nQ 19.671875 43.65625 24.015625 45.921875 \nQ 28.375 48.1875 33.59375 48.1875 \nQ 44.578125 48.1875 50.953125 41.515625 \nQ 57.328125 34.859375 57.328125 23.390625 \nQ 57.328125 12.15625 50.6875 5.359375 \nQ 44.046875 -1.421875 33.015625 -1.421875 \nQ 20.359375 -1.421875 13.671875 8.265625 \nQ 6.984375 17.96875 6.984375 36.375 \nQ 6.984375 53.65625 15.1875 63.9375 \nQ 23.390625 74.21875 37.203125 74.21875 \nQ 40.921875 74.21875 44.703125 73.484375 \nQ 48.484375 72.75 52.59375 71.296875 \nz\n\" id=\"DejaVuSans-54\"/>\n      </defs>\n      <g transform=\"translate(233.921617 254.356562)scale(0.1 -0.1)\">\n       <use xlink:href=\"#DejaVuSans-54\"/>\n       <use x=\"63.623047\" xlink:href=\"#DejaVuSans-48\"/>\n      </g>\n     </g>\n    </g>\n    <g id=\"xtick_5\">\n     <g id=\"line2d_5\">\n      <g>\n       <use style=\"stroke:#000000;stroke-width:0.8;\" x=\"301.77172\" xlink:href=\"#ma5bc2bdb83\" y=\"239.758125\"/>\n      </g>\n     </g>\n     <g id=\"text_5\">\n      <!-- 80 -->\n      <defs>\n       <path d=\"M 31.78125 34.625 \nQ 24.75 34.625 20.71875 30.859375 \nQ 16.703125 27.09375 16.703125 20.515625 \nQ 16.703125 13.921875 20.71875 10.15625 \nQ 24.75 6.390625 31.78125 6.390625 \nQ 38.8125 6.390625 42.859375 10.171875 \nQ 46.921875 13.96875 46.921875 20.515625 \nQ 46.921875 27.09375 42.890625 30.859375 \nQ 38.875 34.625 31.78125 34.625 \nz\nM 21.921875 38.8125 \nQ 15.578125 40.375 12.03125 44.71875 \nQ 8.5 49.078125 8.5 55.328125 \nQ 8.5 64.0625 14.71875 69.140625 \nQ 20.953125 74.21875 31.78125 74.21875 \nQ 42.671875 74.21875 48.875 69.140625 \nQ 55.078125 64.0625 55.078125 55.328125 \nQ 55.078125 49.078125 51.53125 44.71875 \nQ 48 40.375 41.703125 38.8125 \nQ 48.828125 37.15625 52.796875 32.3125 \nQ 56.78125 27.484375 56.78125 20.515625 \nQ 56.78125 9.90625 50.3125 4.234375 \nQ 43.84375 -1.421875 31.78125 -1.421875 \nQ 19.734375 -1.421875 13.25 4.234375 \nQ 6.78125 9.90625 6.78125 20.515625 \nQ 6.78125 27.484375 10.78125 32.3125 \nQ 14.796875 37.15625 21.921875 38.8125 \nz\nM 18.3125 54.390625 \nQ 18.3125 48.734375 21.84375 45.5625 \nQ 25.390625 42.390625 31.78125 42.390625 \nQ 38.140625 42.390625 41.71875 45.5625 \nQ 45.3125 48.734375 45.3125 54.390625 \nQ 45.3125 60.0625 41.71875 63.234375 \nQ 38.140625 66.40625 31.78125 66.40625 \nQ 25.390625 66.40625 21.84375 63.234375 \nQ 18.3125 60.0625 18.3125 54.390625 \nz\n\" id=\"DejaVuSans-56\"/>\n      </defs>\n      <g transform=\"translate(295.40922 254.356562)scale(0.1 -0.1)\">\n       <use xlink:href=\"#DejaVuSans-56\"/>\n       <use x=\"63.623047\" xlink:href=\"#DejaVuSans-48\"/>\n      </g>\n     </g>\n    </g>\n    <g id=\"xtick_6\">\n     <g id=\"line2d_6\">\n      <g>\n       <use style=\"stroke:#000000;stroke-width:0.8;\" x=\"363.259323\" xlink:href=\"#ma5bc2bdb83\" y=\"239.758125\"/>\n      </g>\n     </g>\n     <g id=\"text_6\">\n      <!-- 100 -->\n      <defs>\n       <path d=\"M 12.40625 8.296875 \nL 28.515625 8.296875 \nL 28.515625 63.921875 \nL 10.984375 60.40625 \nL 10.984375 69.390625 \nL 28.421875 72.90625 \nL 38.28125 72.90625 \nL 38.28125 8.296875 \nL 54.390625 8.296875 \nL 54.390625 0 \nL 12.40625 0 \nz\n\" id=\"DejaVuSans-49\"/>\n      </defs>\n      <g transform=\"translate(353.715573 254.356562)scale(0.1 -0.1)\">\n       <use xlink:href=\"#DejaVuSans-49\"/>\n       <use x=\"63.623047\" xlink:href=\"#DejaVuSans-48\"/>\n       <use x=\"127.246094\" xlink:href=\"#DejaVuSans-48\"/>\n      </g>\n     </g>\n    </g>\n    <g id=\"text_7\">\n     <!-- Iterations -->\n     <defs>\n      <path d=\"M 9.8125 72.90625 \nL 19.671875 72.90625 \nL 19.671875 0 \nL 9.8125 0 \nz\n\" id=\"DejaVuSans-73\"/>\n      <path d=\"M 18.3125 70.21875 \nL 18.3125 54.6875 \nL 36.8125 54.6875 \nL 36.8125 47.703125 \nL 18.3125 47.703125 \nL 18.3125 18.015625 \nQ 18.3125 11.328125 20.140625 9.421875 \nQ 21.96875 7.515625 27.59375 7.515625 \nL 36.8125 7.515625 \nL 36.8125 0 \nL 27.59375 0 \nQ 17.1875 0 13.234375 3.875 \nQ 9.28125 7.765625 9.28125 18.015625 \nL 9.28125 47.703125 \nL 2.6875 47.703125 \nL 2.6875 54.6875 \nL 9.28125 54.6875 \nL 9.28125 70.21875 \nz\n\" id=\"DejaVuSans-116\"/>\n      <path d=\"M 56.203125 29.59375 \nL 56.203125 25.203125 \nL 14.890625 25.203125 \nQ 15.484375 15.921875 20.484375 11.0625 \nQ 25.484375 6.203125 34.421875 6.203125 \nQ 39.59375 6.203125 44.453125 7.46875 \nQ 49.3125 8.734375 54.109375 11.28125 \nL 54.109375 2.78125 \nQ 49.265625 0.734375 44.1875 -0.34375 \nQ 39.109375 -1.421875 33.890625 -1.421875 \nQ 20.796875 -1.421875 13.15625 6.1875 \nQ 5.515625 13.8125 5.515625 26.8125 \nQ 5.515625 40.234375 12.765625 48.109375 \nQ 20.015625 56 32.328125 56 \nQ 43.359375 56 49.78125 48.890625 \nQ 56.203125 41.796875 56.203125 29.59375 \nz\nM 47.21875 32.234375 \nQ 47.125 39.59375 43.09375 43.984375 \nQ 39.0625 48.390625 32.421875 48.390625 \nQ 24.90625 48.390625 20.390625 44.140625 \nQ 15.875 39.890625 15.1875 32.171875 \nz\n\" id=\"DejaVuSans-101\"/>\n      <path d=\"M 41.109375 46.296875 \nQ 39.59375 47.171875 37.8125 47.578125 \nQ 36.03125 48 33.890625 48 \nQ 26.265625 48 22.1875 43.046875 \nQ 18.109375 38.09375 18.109375 28.8125 \nL 18.109375 0 \nL 9.078125 0 \nL 9.078125 54.6875 \nL 18.109375 54.6875 \nL 18.109375 46.1875 \nQ 20.953125 51.171875 25.484375 53.578125 \nQ 30.03125 56 36.53125 56 \nQ 37.453125 56 38.578125 55.875 \nQ 39.703125 55.765625 41.0625 55.515625 \nz\n\" id=\"DejaVuSans-114\"/>\n      <path d=\"M 34.28125 27.484375 \nQ 23.390625 27.484375 19.1875 25 \nQ 14.984375 22.515625 14.984375 16.5 \nQ 14.984375 11.71875 18.140625 8.90625 \nQ 21.296875 6.109375 26.703125 6.109375 \nQ 34.1875 6.109375 38.703125 11.40625 \nQ 43.21875 16.703125 43.21875 25.484375 \nL 43.21875 27.484375 \nz\nM 52.203125 31.203125 \nL 52.203125 0 \nL 43.21875 0 \nL 43.21875 8.296875 \nQ 40.140625 3.328125 35.546875 0.953125 \nQ 30.953125 -1.421875 24.3125 -1.421875 \nQ 15.921875 -1.421875 10.953125 3.296875 \nQ 6 8.015625 6 15.921875 \nQ 6 25.140625 12.171875 29.828125 \nQ 18.359375 34.515625 30.609375 34.515625 \nL 43.21875 34.515625 \nL 43.21875 35.40625 \nQ 43.21875 41.609375 39.140625 45 \nQ 35.0625 48.390625 27.6875 48.390625 \nQ 23 48.390625 18.546875 47.265625 \nQ 14.109375 46.140625 10.015625 43.890625 \nL 10.015625 52.203125 \nQ 14.9375 54.109375 19.578125 55.046875 \nQ 24.21875 56 28.609375 56 \nQ 40.484375 56 46.34375 49.84375 \nQ 52.203125 43.703125 52.203125 31.203125 \nz\n\" id=\"DejaVuSans-97\"/>\n      <path d=\"M 9.421875 54.6875 \nL 18.40625 54.6875 \nL 18.40625 0 \nL 9.421875 0 \nz\nM 9.421875 75.984375 \nL 18.40625 75.984375 \nL 18.40625 64.59375 \nL 9.421875 64.59375 \nz\n\" id=\"DejaVuSans-105\"/>\n      <path d=\"M 30.609375 48.390625 \nQ 23.390625 48.390625 19.1875 42.75 \nQ 14.984375 37.109375 14.984375 27.296875 \nQ 14.984375 17.484375 19.15625 11.84375 \nQ 23.34375 6.203125 30.609375 6.203125 \nQ 37.796875 6.203125 41.984375 11.859375 \nQ 46.1875 17.53125 46.1875 27.296875 \nQ 46.1875 37.015625 41.984375 42.703125 \nQ 37.796875 48.390625 30.609375 48.390625 \nz\nM 30.609375 56 \nQ 42.328125 56 49.015625 48.375 \nQ 55.71875 40.765625 55.71875 27.296875 \nQ 55.71875 13.875 49.015625 6.21875 \nQ 42.328125 -1.421875 30.609375 -1.421875 \nQ 18.84375 -1.421875 12.171875 6.21875 \nQ 5.515625 13.875 5.515625 27.296875 \nQ 5.515625 40.765625 12.171875 48.375 \nQ 18.84375 56 30.609375 56 \nz\n\" id=\"DejaVuSans-111\"/>\n      <path d=\"M 54.890625 33.015625 \nL 54.890625 0 \nL 45.90625 0 \nL 45.90625 32.71875 \nQ 45.90625 40.484375 42.875 44.328125 \nQ 39.84375 48.1875 33.796875 48.1875 \nQ 26.515625 48.1875 22.3125 43.546875 \nQ 18.109375 38.921875 18.109375 30.90625 \nL 18.109375 0 \nL 9.078125 0 \nL 9.078125 54.6875 \nL 18.109375 54.6875 \nL 18.109375 46.1875 \nQ 21.34375 51.125 25.703125 53.5625 \nQ 30.078125 56 35.796875 56 \nQ 45.21875 56 50.046875 50.171875 \nQ 54.890625 44.34375 54.890625 33.015625 \nz\n\" id=\"DejaVuSans-110\"/>\n      <path d=\"M 44.28125 53.078125 \nL 44.28125 44.578125 \nQ 40.484375 46.53125 36.375 47.5 \nQ 32.28125 48.484375 27.875 48.484375 \nQ 21.1875 48.484375 17.84375 46.4375 \nQ 14.5 44.390625 14.5 40.28125 \nQ 14.5 37.15625 16.890625 35.375 \nQ 19.28125 33.59375 26.515625 31.984375 \nL 29.59375 31.296875 \nQ 39.15625 29.25 43.1875 25.515625 \nQ 47.21875 21.78125 47.21875 15.09375 \nQ 47.21875 7.46875 41.1875 3.015625 \nQ 35.15625 -1.421875 24.609375 -1.421875 \nQ 20.21875 -1.421875 15.453125 -0.5625 \nQ 10.6875 0.296875 5.421875 2 \nL 5.421875 11.28125 \nQ 10.40625 8.6875 15.234375 7.390625 \nQ 20.0625 6.109375 24.8125 6.109375 \nQ 31.15625 6.109375 34.5625 8.28125 \nQ 37.984375 10.453125 37.984375 14.40625 \nQ 37.984375 18.0625 35.515625 20.015625 \nQ 33.0625 21.96875 24.703125 23.78125 \nL 21.578125 24.515625 \nQ 13.234375 26.265625 9.515625 29.90625 \nQ 5.8125 33.546875 5.8125 39.890625 \nQ 5.8125 47.609375 11.28125 51.796875 \nQ 16.75 56 26.8125 56 \nQ 31.78125 56 36.171875 55.265625 \nQ 40.578125 54.546875 44.28125 53.078125 \nz\n\" id=\"DejaVuSans-115\"/>\n     </defs>\n     <g transform=\"translate(184.189844 268.034687)scale(0.1 -0.1)\">\n      <use xlink:href=\"#DejaVuSans-73\"/>\n      <use x=\"29.492188\" xlink:href=\"#DejaVuSans-116\"/>\n      <use x=\"68.701172\" xlink:href=\"#DejaVuSans-101\"/>\n      <use x=\"130.224609\" xlink:href=\"#DejaVuSans-114\"/>\n      <use x=\"171.337891\" xlink:href=\"#DejaVuSans-97\"/>\n      <use x=\"232.617188\" xlink:href=\"#DejaVuSans-116\"/>\n      <use x=\"271.826172\" xlink:href=\"#DejaVuSans-105\"/>\n      <use x=\"299.609375\" xlink:href=\"#DejaVuSans-111\"/>\n      <use x=\"360.791016\" xlink:href=\"#DejaVuSans-110\"/>\n      <use x=\"424.169922\" xlink:href=\"#DejaVuSans-115\"/>\n     </g>\n    </g>\n   </g>\n   <g id=\"matplotlib.axis_2\">\n    <g id=\"ytick_1\">\n     <g id=\"line2d_7\">\n      <defs>\n       <path d=\"M 0 0 \nL -3.5 0 \n\" id=\"mc501ead063\" style=\"stroke:#000000;stroke-width:0.8;\"/>\n      </defs>\n      <g>\n       <use style=\"stroke:#000000;stroke-width:0.8;\" x=\"40.603125\" xlink:href=\"#mc501ead063\" y=\"232.653025\"/>\n      </g>\n     </g>\n     <g id=\"text_8\">\n      <!-- 0 -->\n      <g transform=\"translate(27.240625 236.452244)scale(0.1 -0.1)\">\n       <use xlink:href=\"#DejaVuSans-48\"/>\n      </g>\n     </g>\n    </g>\n    <g id=\"ytick_2\">\n     <g id=\"line2d_8\">\n      <g>\n       <use style=\"stroke:#000000;stroke-width:0.8;\" x=\"40.603125\" xlink:href=\"#mc501ead063\" y=\"206.416891\"/>\n      </g>\n     </g>\n     <g id=\"text_9\">\n      <!-- 10 -->\n      <g transform=\"translate(20.878125 210.21611)scale(0.1 -0.1)\">\n       <use xlink:href=\"#DejaVuSans-49\"/>\n       <use x=\"63.623047\" xlink:href=\"#DejaVuSans-48\"/>\n      </g>\n     </g>\n    </g>\n    <g id=\"ytick_3\">\n     <g id=\"line2d_9\">\n      <g>\n       <use style=\"stroke:#000000;stroke-width:0.8;\" x=\"40.603125\" xlink:href=\"#mc501ead063\" y=\"180.180757\"/>\n      </g>\n     </g>\n     <g id=\"text_10\">\n      <!-- 20 -->\n      <g transform=\"translate(20.878125 183.979975)scale(0.1 -0.1)\">\n       <use xlink:href=\"#DejaVuSans-50\"/>\n       <use x=\"63.623047\" xlink:href=\"#DejaVuSans-48\"/>\n      </g>\n     </g>\n    </g>\n    <g id=\"ytick_4\">\n     <g id=\"line2d_10\">\n      <g>\n       <use style=\"stroke:#000000;stroke-width:0.8;\" x=\"40.603125\" xlink:href=\"#mc501ead063\" y=\"153.944622\"/>\n      </g>\n     </g>\n     <g id=\"text_11\">\n      <!-- 30 -->\n      <defs>\n       <path d=\"M 40.578125 39.3125 \nQ 47.65625 37.796875 51.625 33 \nQ 55.609375 28.21875 55.609375 21.1875 \nQ 55.609375 10.40625 48.1875 4.484375 \nQ 40.765625 -1.421875 27.09375 -1.421875 \nQ 22.515625 -1.421875 17.65625 -0.515625 \nQ 12.796875 0.390625 7.625 2.203125 \nL 7.625 11.71875 \nQ 11.71875 9.328125 16.59375 8.109375 \nQ 21.484375 6.890625 26.8125 6.890625 \nQ 36.078125 6.890625 40.9375 10.546875 \nQ 45.796875 14.203125 45.796875 21.1875 \nQ 45.796875 27.640625 41.28125 31.265625 \nQ 36.765625 34.90625 28.71875 34.90625 \nL 20.21875 34.90625 \nL 20.21875 43.015625 \nL 29.109375 43.015625 \nQ 36.375 43.015625 40.234375 45.921875 \nQ 44.09375 48.828125 44.09375 54.296875 \nQ 44.09375 59.90625 40.109375 62.90625 \nQ 36.140625 65.921875 28.71875 65.921875 \nQ 24.65625 65.921875 20.015625 65.03125 \nQ 15.375 64.15625 9.8125 62.3125 \nL 9.8125 71.09375 \nQ 15.4375 72.65625 20.34375 73.4375 \nQ 25.25 74.21875 29.59375 74.21875 \nQ 40.828125 74.21875 47.359375 69.109375 \nQ 53.90625 64.015625 53.90625 55.328125 \nQ 53.90625 49.265625 50.4375 45.09375 \nQ 46.96875 40.921875 40.578125 39.3125 \nz\n\" id=\"DejaVuSans-51\"/>\n      </defs>\n      <g transform=\"translate(20.878125 157.743841)scale(0.1 -0.1)\">\n       <use xlink:href=\"#DejaVuSans-51\"/>\n       <use x=\"63.623047\" xlink:href=\"#DejaVuSans-48\"/>\n      </g>\n     </g>\n    </g>\n    <g id=\"ytick_5\">\n     <g id=\"line2d_11\">\n      <g>\n       <use style=\"stroke:#000000;stroke-width:0.8;\" x=\"40.603125\" xlink:href=\"#mc501ead063\" y=\"127.708488\"/>\n      </g>\n     </g>\n     <g id=\"text_12\">\n      <!-- 40 -->\n      <g transform=\"translate(20.878125 131.507707)scale(0.1 -0.1)\">\n       <use xlink:href=\"#DejaVuSans-52\"/>\n       <use x=\"63.623047\" xlink:href=\"#DejaVuSans-48\"/>\n      </g>\n     </g>\n    </g>\n    <g id=\"ytick_6\">\n     <g id=\"line2d_12\">\n      <g>\n       <use style=\"stroke:#000000;stroke-width:0.8;\" x=\"40.603125\" xlink:href=\"#mc501ead063\" y=\"101.472354\"/>\n      </g>\n     </g>\n     <g id=\"text_13\">\n      <!-- 50 -->\n      <defs>\n       <path d=\"M 10.796875 72.90625 \nL 49.515625 72.90625 \nL 49.515625 64.59375 \nL 19.828125 64.59375 \nL 19.828125 46.734375 \nQ 21.96875 47.46875 24.109375 47.828125 \nQ 26.265625 48.1875 28.421875 48.1875 \nQ 40.625 48.1875 47.75 41.5 \nQ 54.890625 34.8125 54.890625 23.390625 \nQ 54.890625 11.625 47.5625 5.09375 \nQ 40.234375 -1.421875 26.90625 -1.421875 \nQ 22.3125 -1.421875 17.546875 -0.640625 \nQ 12.796875 0.140625 7.71875 1.703125 \nL 7.71875 11.625 \nQ 12.109375 9.234375 16.796875 8.0625 \nQ 21.484375 6.890625 26.703125 6.890625 \nQ 35.15625 6.890625 40.078125 11.328125 \nQ 45.015625 15.765625 45.015625 23.390625 \nQ 45.015625 31 40.078125 35.4375 \nQ 35.15625 39.890625 26.703125 39.890625 \nQ 22.75 39.890625 18.8125 39.015625 \nQ 14.890625 38.140625 10.796875 36.28125 \nz\n\" id=\"DejaVuSans-53\"/>\n      </defs>\n      <g transform=\"translate(20.878125 105.271572)scale(0.1 -0.1)\">\n       <use xlink:href=\"#DejaVuSans-53\"/>\n       <use x=\"63.623047\" xlink:href=\"#DejaVuSans-48\"/>\n      </g>\n     </g>\n    </g>\n    <g id=\"ytick_7\">\n     <g id=\"line2d_13\">\n      <g>\n       <use style=\"stroke:#000000;stroke-width:0.8;\" x=\"40.603125\" xlink:href=\"#mc501ead063\" y=\"75.236219\"/>\n      </g>\n     </g>\n     <g id=\"text_14\">\n      <!-- 60 -->\n      <g transform=\"translate(20.878125 79.035438)scale(0.1 -0.1)\">\n       <use xlink:href=\"#DejaVuSans-54\"/>\n       <use x=\"63.623047\" xlink:href=\"#DejaVuSans-48\"/>\n      </g>\n     </g>\n    </g>\n    <g id=\"ytick_8\">\n     <g id=\"line2d_14\">\n      <g>\n       <use style=\"stroke:#000000;stroke-width:0.8;\" x=\"40.603125\" xlink:href=\"#mc501ead063\" y=\"49.000085\"/>\n      </g>\n     </g>\n     <g id=\"text_15\">\n      <!-- 70 -->\n      <defs>\n       <path d=\"M 8.203125 72.90625 \nL 55.078125 72.90625 \nL 55.078125 68.703125 \nL 28.609375 0 \nL 18.3125 0 \nL 43.21875 64.59375 \nL 8.203125 64.59375 \nz\n\" id=\"DejaVuSans-55\"/>\n      </defs>\n      <g transform=\"translate(20.878125 52.799304)scale(0.1 -0.1)\">\n       <use xlink:href=\"#DejaVuSans-55\"/>\n       <use x=\"63.623047\" xlink:href=\"#DejaVuSans-48\"/>\n      </g>\n     </g>\n    </g>\n    <g id=\"ytick_9\">\n     <g id=\"line2d_15\">\n      <g>\n       <use style=\"stroke:#000000;stroke-width:0.8;\" x=\"40.603125\" xlink:href=\"#mc501ead063\" y=\"22.76395\"/>\n      </g>\n     </g>\n     <g id=\"text_16\">\n      <!-- 80 -->\n      <g transform=\"translate(20.878125 26.563169)scale(0.1 -0.1)\">\n       <use xlink:href=\"#DejaVuSans-56\"/>\n       <use x=\"63.623047\" xlink:href=\"#DejaVuSans-48\"/>\n      </g>\n     </g>\n    </g>\n    <g id=\"text_17\">\n     <!-- MSE -->\n     <defs>\n      <path d=\"M 9.8125 72.90625 \nL 24.515625 72.90625 \nL 43.109375 23.296875 \nL 61.8125 72.90625 \nL 76.515625 72.90625 \nL 76.515625 0 \nL 66.890625 0 \nL 66.890625 64.015625 \nL 48.09375 14.015625 \nL 38.1875 14.015625 \nL 19.390625 64.015625 \nL 19.390625 0 \nL 9.8125 0 \nz\n\" id=\"DejaVuSans-77\"/>\n      <path d=\"M 53.515625 70.515625 \nL 53.515625 60.890625 \nQ 47.90625 63.578125 42.921875 64.890625 \nQ 37.9375 66.21875 33.296875 66.21875 \nQ 25.25 66.21875 20.875 63.09375 \nQ 16.5 59.96875 16.5 54.203125 \nQ 16.5 49.359375 19.40625 46.890625 \nQ 22.3125 44.4375 30.421875 42.921875 \nL 36.375 41.703125 \nQ 47.40625 39.59375 52.65625 34.296875 \nQ 57.90625 29 57.90625 20.125 \nQ 57.90625 9.515625 50.796875 4.046875 \nQ 43.703125 -1.421875 29.984375 -1.421875 \nQ 24.8125 -1.421875 18.96875 -0.25 \nQ 13.140625 0.921875 6.890625 3.21875 \nL 6.890625 13.375 \nQ 12.890625 10.015625 18.65625 8.296875 \nQ 24.421875 6.59375 29.984375 6.59375 \nQ 38.421875 6.59375 43.015625 9.90625 \nQ 47.609375 13.234375 47.609375 19.390625 \nQ 47.609375 24.75 44.3125 27.78125 \nQ 41.015625 30.8125 33.5 32.328125 \nL 27.484375 33.5 \nQ 16.453125 35.6875 11.515625 40.375 \nQ 6.59375 45.0625 6.59375 53.421875 \nQ 6.59375 63.09375 13.40625 68.65625 \nQ 20.21875 74.21875 32.171875 74.21875 \nQ 37.3125 74.21875 42.625 73.28125 \nQ 47.953125 72.359375 53.515625 70.515625 \nz\n\" id=\"DejaVuSans-83\"/>\n      <path d=\"M 9.8125 72.90625 \nL 55.90625 72.90625 \nL 55.90625 64.59375 \nL 19.671875 64.59375 \nL 19.671875 43.015625 \nL 54.390625 43.015625 \nL 54.390625 34.71875 \nL 19.671875 34.71875 \nL 19.671875 8.296875 \nL 56.78125 8.296875 \nL 56.78125 0 \nL 9.8125 0 \nz\n\" id=\"DejaVuSans-69\"/>\n     </defs>\n     <g transform=\"translate(14.798438 141.685781)rotate(-90)scale(0.1 -0.1)\">\n      <use xlink:href=\"#DejaVuSans-77\"/>\n      <use x=\"86.279297\" xlink:href=\"#DejaVuSans-83\"/>\n      <use x=\"149.755859\" xlink:href=\"#DejaVuSans-69\"/>\n     </g>\n    </g>\n   </g>\n   <g id=\"line2d_16\">\n    <path clip-path=\"url(#p54ce465129)\" d=\"M 55.821307 32.201761 \nL 58.895687 57.803824 \nL 61.970067 80.089977 \nL 65.044447 99.489687 \nL 68.118827 116.3768 \nL 71.193208 131.07674 \nL 74.267588 143.872784 \nL 77.341968 155.011519 \nL 80.416348 164.707595 \nL 83.490728 173.147862 \nL 86.565108 180.494968 \nL 89.639489 186.890498 \nL 92.713869 192.457695 \nL 95.788249 197.303844 \nL 98.862629 201.522334 \nL 101.937009 205.194455 \nL 105.011389 208.390974 \nL 108.08577 211.173488 \nL 111.16015 213.595619 \nL 114.23453 215.704042 \nL 117.30891 217.539387 \nL 120.38329 219.137024 \nL 123.45767 220.527739 \nL 126.532051 221.738333 \nL 129.606431 222.792133 \nL 132.680811 223.709448 \nL 135.755191 224.507956 \nL 138.829571 225.203042 \nL 141.903951 225.808103 \nL 144.978332 226.334798 \nL 148.052712 226.793277 \nL 151.127092 227.192375 \nL 154.201472 227.539783 \nL 157.275852 227.842195 \nL 160.350232 228.10544 \nL 163.424613 228.334591 \nL 166.498993 228.534062 \nL 169.573373 228.707698 \nL 172.647753 228.858845 \nL 175.722133 228.990417 \nL 178.796513 229.104947 \nL 181.870894 229.204644 \nL 184.945274 229.291428 \nL 188.019654 229.366972 \nL 191.094034 229.432732 \nL 194.168414 229.489975 \nL 197.242794 229.539804 \nL 200.317175 229.583179 \nL 203.391555 229.620937 \nL 206.465935 229.653804 \nL 209.540315 229.682414 \nL 212.614695 229.707319 \nL 215.689075 229.728998 \nL 218.763456 229.74787 \nL 221.837836 229.764297 \nL 224.912216 229.778596 \nL 227.986596 229.791044 \nL 231.060976 229.801879 \nL 234.135356 229.811311 \nL 237.209737 229.819522 \nL 240.284117 229.826669 \nL 243.358497 229.83289 \nL 246.432877 229.838306 \nL 249.507257 229.84302 \nL 252.581637 229.847123 \nL 255.656018 229.850695 \nL 258.730398 229.853805 \nL 261.804778 229.856512 \nL 264.879158 229.858868 \nL 267.953538 229.860919 \nL 271.027918 229.862704 \nL 274.102299 229.864258 \nL 277.176679 229.865611 \nL 280.251059 229.866789 \nL 283.325439 229.867814 \nL 286.399819 229.868706 \nL 289.474199 229.869483 \nL 292.54858 229.870159 \nL 295.62296 229.870748 \nL 298.69734 229.87126 \nL 301.77172 229.871706 \nL 304.8461 229.872094 \nL 307.92048 229.872432 \nL 310.994861 229.872726 \nL 314.069241 229.872982 \nL 317.143621 229.873205 \nL 320.218001 229.873399 \nL 323.292381 229.873568 \nL 326.366761 229.873715 \nL 329.441142 229.873843 \nL 332.515522 229.873955 \nL 335.589902 229.874052 \nL 338.664282 229.874136 \nL 341.738662 229.87421 \nL 344.813042 229.874274 \nL 347.887423 229.874329 \nL 350.961803 229.874378 \nL 354.036183 229.87442 \nL 357.110563 229.874457 \nL 360.184943 229.874489 \n\" style=\"fill:none;stroke:#1f77b4;stroke-linecap:square;stroke-width:1.5;\"/>\n   </g>\n   <g id=\"patch_3\">\n    <path d=\"M 40.603125 239.758125 \nL 40.603125 22.318125 \n\" style=\"fill:none;stroke:#000000;stroke-linecap:square;stroke-linejoin:miter;stroke-width:0.8;\"/>\n   </g>\n   <g id=\"patch_4\">\n    <path d=\"M 375.403125 239.758125 \nL 375.403125 22.318125 \n\" style=\"fill:none;stroke:#000000;stroke-linecap:square;stroke-linejoin:miter;stroke-width:0.8;\"/>\n   </g>\n   <g id=\"patch_5\">\n    <path d=\"M 40.603125 239.758125 \nL 375.403125 239.758125 \n\" style=\"fill:none;stroke:#000000;stroke-linecap:square;stroke-linejoin:miter;stroke-width:0.8;\"/>\n   </g>\n   <g id=\"patch_6\">\n    <path d=\"M 40.603125 22.318125 \nL 375.403125 22.318125 \n\" style=\"fill:none;stroke:#000000;stroke-linecap:square;stroke-linejoin:miter;stroke-width:0.8;\"/>\n   </g>\n   <g id=\"text_18\">\n    <!-- Training curve -->\n    <defs>\n     <path d=\"M -0.296875 72.90625 \nL 61.375 72.90625 \nL 61.375 64.59375 \nL 35.5 64.59375 \nL 35.5 0 \nL 25.59375 0 \nL 25.59375 64.59375 \nL -0.296875 64.59375 \nz\n\" id=\"DejaVuSans-84\"/>\n     <path d=\"M 45.40625 27.984375 \nQ 45.40625 37.75 41.375 43.109375 \nQ 37.359375 48.484375 30.078125 48.484375 \nQ 22.859375 48.484375 18.828125 43.109375 \nQ 14.796875 37.75 14.796875 27.984375 \nQ 14.796875 18.265625 18.828125 12.890625 \nQ 22.859375 7.515625 30.078125 7.515625 \nQ 37.359375 7.515625 41.375 12.890625 \nQ 45.40625 18.265625 45.40625 27.984375 \nz\nM 54.390625 6.78125 \nQ 54.390625 -7.171875 48.1875 -13.984375 \nQ 42 -20.796875 29.203125 -20.796875 \nQ 24.46875 -20.796875 20.265625 -20.09375 \nQ 16.0625 -19.390625 12.109375 -17.921875 \nL 12.109375 -9.1875 \nQ 16.0625 -11.328125 19.921875 -12.34375 \nQ 23.78125 -13.375 27.78125 -13.375 \nQ 36.625 -13.375 41.015625 -8.765625 \nQ 45.40625 -4.15625 45.40625 5.171875 \nL 45.40625 9.625 \nQ 42.625 4.78125 38.28125 2.390625 \nQ 33.9375 0 27.875 0 \nQ 17.828125 0 11.671875 7.65625 \nQ 5.515625 15.328125 5.515625 27.984375 \nQ 5.515625 40.671875 11.671875 48.328125 \nQ 17.828125 56 27.875 56 \nQ 33.9375 56 38.28125 53.609375 \nQ 42.625 51.21875 45.40625 46.390625 \nL 45.40625 54.6875 \nL 54.390625 54.6875 \nz\n\" id=\"DejaVuSans-103\"/>\n     <path id=\"DejaVuSans-32\"/>\n     <path d=\"M 48.78125 52.59375 \nL 48.78125 44.1875 \nQ 44.96875 46.296875 41.140625 47.34375 \nQ 37.3125 48.390625 33.40625 48.390625 \nQ 24.65625 48.390625 19.8125 42.84375 \nQ 14.984375 37.3125 14.984375 27.296875 \nQ 14.984375 17.28125 19.8125 11.734375 \nQ 24.65625 6.203125 33.40625 6.203125 \nQ 37.3125 6.203125 41.140625 7.25 \nQ 44.96875 8.296875 48.78125 10.40625 \nL 48.78125 2.09375 \nQ 45.015625 0.34375 40.984375 -0.53125 \nQ 36.96875 -1.421875 32.421875 -1.421875 \nQ 20.0625 -1.421875 12.78125 6.34375 \nQ 5.515625 14.109375 5.515625 27.296875 \nQ 5.515625 40.671875 12.859375 48.328125 \nQ 20.21875 56 33.015625 56 \nQ 37.15625 56 41.109375 55.140625 \nQ 45.0625 54.296875 48.78125 52.59375 \nz\n\" id=\"DejaVuSans-99\"/>\n     <path d=\"M 8.5 21.578125 \nL 8.5 54.6875 \nL 17.484375 54.6875 \nL 17.484375 21.921875 \nQ 17.484375 14.15625 20.5 10.265625 \nQ 23.53125 6.390625 29.59375 6.390625 \nQ 36.859375 6.390625 41.078125 11.03125 \nQ 45.3125 15.671875 45.3125 23.6875 \nL 45.3125 54.6875 \nL 54.296875 54.6875 \nL 54.296875 0 \nL 45.3125 0 \nL 45.3125 8.40625 \nQ 42.046875 3.421875 37.71875 1 \nQ 33.40625 -1.421875 27.6875 -1.421875 \nQ 18.265625 -1.421875 13.375 4.4375 \nQ 8.5 10.296875 8.5 21.578125 \nz\nM 31.109375 56 \nz\n\" id=\"DejaVuSans-117\"/>\n     <path d=\"M 2.984375 54.6875 \nL 12.5 54.6875 \nL 29.59375 8.796875 \nL 46.6875 54.6875 \nL 56.203125 54.6875 \nL 35.6875 0 \nL 23.484375 0 \nz\n\" id=\"DejaVuSans-118\"/>\n    </defs>\n    <g transform=\"translate(165.614062 16.318125)scale(0.12 -0.12)\">\n     <use xlink:href=\"#DejaVuSans-84\"/>\n     <use x=\"46.333984\" xlink:href=\"#DejaVuSans-114\"/>\n     <use x=\"87.447266\" xlink:href=\"#DejaVuSans-97\"/>\n     <use x=\"148.726562\" xlink:href=\"#DejaVuSans-105\"/>\n     <use x=\"176.509766\" xlink:href=\"#DejaVuSans-110\"/>\n     <use x=\"239.888672\" xlink:href=\"#DejaVuSans-105\"/>\n     <use x=\"267.671875\" xlink:href=\"#DejaVuSans-110\"/>\n     <use x=\"331.050781\" xlink:href=\"#DejaVuSans-103\"/>\n     <use x=\"394.527344\" xlink:href=\"#DejaVuSans-32\"/>\n     <use x=\"426.314453\" xlink:href=\"#DejaVuSans-99\"/>\n     <use x=\"481.294922\" xlink:href=\"#DejaVuSans-117\"/>\n     <use x=\"544.673828\" xlink:href=\"#DejaVuSans-114\"/>\n     <use x=\"585.787109\" xlink:href=\"#DejaVuSans-118\"/>\n     <use x=\"644.966797\" xlink:href=\"#DejaVuSans-101\"/>\n    </g>\n   </g>\n  </g>\n </g>\n <defs>\n  <clipPath id=\"p54ce465129\">\n   <rect height=\"217.44\" width=\"334.8\" x=\"40.603125\" y=\"22.318125\"/>\n  </clipPath>\n </defs>\n</svg>\n"
          },
          "metadata": {
            "needs_background": "light"
          }
        }
      ]
    },
    {
      "cell_type": "code",
      "source": [
        "plt.plot(x, onp.dot(x, w), c='r')\n",
        "plt.scatter(x, y)\n",
        "plt.legend(['fit', 'data'])"
      ],
      "metadata": {
        "colab": {
          "base_uri": "https://localhost:8080/",
          "height": 370
        },
        "id": "bA3CbHYtYsX6",
        "outputId": "9d9b4cb1-c590-40d0-9bd1-d97247b9df01"
      },
      "execution_count": null,
      "outputs": [
        {
          "output_type": "execute_result",
          "data": {
            "text/plain": [
              "<matplotlib.legend.Legend at 0x7fed1442da00>"
            ]
          },
          "metadata": {},
          "execution_count": 24
        },
        {
          "output_type": "display_data",
          "data": {
            "text/plain": [
              "<Figure size 432x288 with 1 Axes>"
            ],
            "image/svg+xml": "<?xml version=\"1.0\" encoding=\"utf-8\" standalone=\"no\"?>\n<!DOCTYPE svg PUBLIC \"-//W3C//DTD SVG 1.1//EN\"\n  \"http://www.w3.org/Graphics/SVG/1.1/DTD/svg11.dtd\">\n<!-- Created with matplotlib (https://matplotlib.org/) -->\n<svg height=\"248.518125pt\" version=\"1.1\" viewBox=\"0 0 378.465625 248.518125\" width=\"378.465625pt\" xmlns=\"http://www.w3.org/2000/svg\" xmlns:xlink=\"http://www.w3.org/1999/xlink\">\n <defs>\n  <style type=\"text/css\">\n*{stroke-linecap:butt;stroke-linejoin:round;}\n  </style>\n </defs>\n <g id=\"figure_1\">\n  <g id=\"patch_1\">\n   <path d=\"M 0 248.518125 \nL 378.465625 248.518125 \nL 378.465625 0 \nL 0 0 \nz\n\" style=\"fill:none;\"/>\n  </g>\n  <g id=\"axes_1\">\n   <g id=\"patch_2\">\n    <path d=\"M 36.465625 224.64 \nL 371.265625 224.64 \nL 371.265625 7.2 \nL 36.465625 7.2 \nz\n\" style=\"fill:#ffffff;\"/>\n   </g>\n   <g id=\"PathCollection_1\">\n    <defs>\n     <path d=\"M 0 3 \nC 0.795609 3 1.55874 2.683901 2.12132 2.12132 \nC 2.683901 1.55874 3 0.795609 3 0 \nC 3 -0.795609 2.683901 -1.55874 2.12132 -2.12132 \nC 1.55874 -2.683901 0.795609 -3 0 -3 \nC -0.795609 -3 -1.55874 -2.683901 -2.12132 -2.12132 \nC -2.683901 -1.55874 -3 -0.795609 -3 0 \nC -3 0.795609 -2.683901 1.55874 -2.12132 2.12132 \nC -1.55874 2.683901 -0.795609 3 0 3 \nz\n\" id=\"m4e76df0f54\" style=\"stroke:#1f77b4;\"/>\n    </defs>\n    <g clip-path=\"url(#p53d7bcc501)\">\n     <use style=\"fill:#1f77b4;stroke:#1f77b4;\" x=\"51.683807\" xlink:href=\"#m4e76df0f54\" y=\"207.391798\"/>\n     <use style=\"fill:#1f77b4;stroke:#1f77b4;\" x=\"54.758187\" xlink:href=\"#m4e76df0f54\" y=\"212.391554\"/>\n     <use style=\"fill:#1f77b4;stroke:#1f77b4;\" x=\"57.832567\" xlink:href=\"#m4e76df0f54\" y=\"206.728557\"/>\n     <use style=\"fill:#1f77b4;stroke:#1f77b4;\" x=\"60.906947\" xlink:href=\"#m4e76df0f54\" y=\"203.575489\"/>\n     <use style=\"fill:#1f77b4;stroke:#1f77b4;\" x=\"63.981327\" xlink:href=\"#m4e76df0f54\" y=\"206.332545\"/>\n     <use style=\"fill:#1f77b4;stroke:#1f77b4;\" x=\"67.055708\" xlink:href=\"#m4e76df0f54\" y=\"202.815201\"/>\n     <use style=\"fill:#1f77b4;stroke:#1f77b4;\" x=\"70.130088\" xlink:href=\"#m4e76df0f54\" y=\"194.163905\"/>\n     <use style=\"fill:#1f77b4;stroke:#1f77b4;\" x=\"73.204468\" xlink:href=\"#m4e76df0f54\" y=\"205.120951\"/>\n     <use style=\"fill:#1f77b4;stroke:#1f77b4;\" x=\"76.278848\" xlink:href=\"#m4e76df0f54\" y=\"210.741746\"/>\n     <use style=\"fill:#1f77b4;stroke:#1f77b4;\" x=\"79.353228\" xlink:href=\"#m4e76df0f54\" y=\"196.524035\"/>\n     <use style=\"fill:#1f77b4;stroke:#1f77b4;\" x=\"82.427608\" xlink:href=\"#m4e76df0f54\" y=\"193.539527\"/>\n     <use style=\"fill:#1f77b4;stroke:#1f77b4;\" x=\"85.501989\" xlink:href=\"#m4e76df0f54\" y=\"183.040369\"/>\n     <use style=\"fill:#1f77b4;stroke:#1f77b4;\" x=\"88.576369\" xlink:href=\"#m4e76df0f54\" y=\"196.420529\"/>\n     <use style=\"fill:#1f77b4;stroke:#1f77b4;\" x=\"91.650749\" xlink:href=\"#m4e76df0f54\" y=\"172.777505\"/>\n     <use style=\"fill:#1f77b4;stroke:#1f77b4;\" x=\"94.725129\" xlink:href=\"#m4e76df0f54\" y=\"183.081641\"/>\n     <use style=\"fill:#1f77b4;stroke:#1f77b4;\" x=\"97.799509\" xlink:href=\"#m4e76df0f54\" y=\"192.464005\"/>\n     <use style=\"fill:#1f77b4;stroke:#1f77b4;\" x=\"100.873889\" xlink:href=\"#m4e76df0f54\" y=\"189.603523\"/>\n     <use style=\"fill:#1f77b4;stroke:#1f77b4;\" x=\"103.94827\" xlink:href=\"#m4e76df0f54\" y=\"185.402922\"/>\n     <use style=\"fill:#1f77b4;stroke:#1f77b4;\" x=\"107.02265\" xlink:href=\"#m4e76df0f54\" y=\"181.028936\"/>\n     <use style=\"fill:#1f77b4;stroke:#1f77b4;\" x=\"110.09703\" xlink:href=\"#m4e76df0f54\" y=\"186.853425\"/>\n     <use style=\"fill:#1f77b4;stroke:#1f77b4;\" x=\"113.17141\" xlink:href=\"#m4e76df0f54\" y=\"172.749093\"/>\n     <use style=\"fill:#1f77b4;stroke:#1f77b4;\" x=\"116.24579\" xlink:href=\"#m4e76df0f54\" y=\"175.103904\"/>\n     <use style=\"fill:#1f77b4;stroke:#1f77b4;\" x=\"119.32017\" xlink:href=\"#m4e76df0f54\" y=\"190.249587\"/>\n     <use style=\"fill:#1f77b4;stroke:#1f77b4;\" x=\"122.394551\" xlink:href=\"#m4e76df0f54\" y=\"149.25788\"/>\n     <use style=\"fill:#1f77b4;stroke:#1f77b4;\" x=\"125.468931\" xlink:href=\"#m4e76df0f54\" y=\"161.556158\"/>\n     <use style=\"fill:#1f77b4;stroke:#1f77b4;\" x=\"128.543311\" xlink:href=\"#m4e76df0f54\" y=\"166.130814\"/>\n     <use style=\"fill:#1f77b4;stroke:#1f77b4;\" x=\"131.617691\" xlink:href=\"#m4e76df0f54\" y=\"165.455822\"/>\n     <use style=\"fill:#1f77b4;stroke:#1f77b4;\" x=\"134.692071\" xlink:href=\"#m4e76df0f54\" y=\"156.216596\"/>\n     <use style=\"fill:#1f77b4;stroke:#1f77b4;\" x=\"137.766451\" xlink:href=\"#m4e76df0f54\" y=\"162.435764\"/>\n     <use style=\"fill:#1f77b4;stroke:#1f77b4;\" x=\"140.840832\" xlink:href=\"#m4e76df0f54\" y=\"154.176038\"/>\n     <use style=\"fill:#1f77b4;stroke:#1f77b4;\" x=\"143.915212\" xlink:href=\"#m4e76df0f54\" y=\"158.643667\"/>\n     <use style=\"fill:#1f77b4;stroke:#1f77b4;\" x=\"146.989592\" xlink:href=\"#m4e76df0f54\" y=\"161.747851\"/>\n     <use style=\"fill:#1f77b4;stroke:#1f77b4;\" x=\"150.063972\" xlink:href=\"#m4e76df0f54\" y=\"142.407952\"/>\n     <use style=\"fill:#1f77b4;stroke:#1f77b4;\" x=\"153.138352\" xlink:href=\"#m4e76df0f54\" y=\"150.392741\"/>\n     <use style=\"fill:#1f77b4;stroke:#1f77b4;\" x=\"156.212732\" xlink:href=\"#m4e76df0f54\" y=\"142.775969\"/>\n     <use style=\"fill:#1f77b4;stroke:#1f77b4;\" x=\"159.287113\" xlink:href=\"#m4e76df0f54\" y=\"158.239233\"/>\n     <use style=\"fill:#1f77b4;stroke:#1f77b4;\" x=\"162.361493\" xlink:href=\"#m4e76df0f54\" y=\"136.70893\"/>\n     <use style=\"fill:#1f77b4;stroke:#1f77b4;\" x=\"165.435873\" xlink:href=\"#m4e76df0f54\" y=\"139.201818\"/>\n     <use style=\"fill:#1f77b4;stroke:#1f77b4;\" x=\"168.510253\" xlink:href=\"#m4e76df0f54\" y=\"158.863537\"/>\n     <use style=\"fill:#1f77b4;stroke:#1f77b4;\" x=\"171.584633\" xlink:href=\"#m4e76df0f54\" y=\"138.652218\"/>\n     <use style=\"fill:#1f77b4;stroke:#1f77b4;\" x=\"174.659013\" xlink:href=\"#m4e76df0f54\" y=\"142.720753\"/>\n     <use style=\"fill:#1f77b4;stroke:#1f77b4;\" x=\"177.733394\" xlink:href=\"#m4e76df0f54\" y=\"129.25424\"/>\n     <use style=\"fill:#1f77b4;stroke:#1f77b4;\" x=\"180.807774\" xlink:href=\"#m4e76df0f54\" y=\"125.785278\"/>\n     <use style=\"fill:#1f77b4;stroke:#1f77b4;\" x=\"183.882154\" xlink:href=\"#m4e76df0f54\" y=\"134.051145\"/>\n     <use style=\"fill:#1f77b4;stroke:#1f77b4;\" x=\"186.956534\" xlink:href=\"#m4e76df0f54\" y=\"118.127711\"/>\n     <use style=\"fill:#1f77b4;stroke:#1f77b4;\" x=\"190.030914\" xlink:href=\"#m4e76df0f54\" y=\"122.38929\"/>\n     <use style=\"fill:#1f77b4;stroke:#1f77b4;\" x=\"193.105294\" xlink:href=\"#m4e76df0f54\" y=\"151.219396\"/>\n     <use style=\"fill:#1f77b4;stroke:#1f77b4;\" x=\"196.179675\" xlink:href=\"#m4e76df0f54\" y=\"126.057753\"/>\n     <use style=\"fill:#1f77b4;stroke:#1f77b4;\" x=\"199.254055\" xlink:href=\"#m4e76df0f54\" y=\"106.089838\"/>\n     <use style=\"fill:#1f77b4;stroke:#1f77b4;\" x=\"202.328435\" xlink:href=\"#m4e76df0f54\" y=\"119.521922\"/>\n     <use style=\"fill:#1f77b4;stroke:#1f77b4;\" x=\"205.402815\" xlink:href=\"#m4e76df0f54\" y=\"134.34566\"/>\n     <use style=\"fill:#1f77b4;stroke:#1f77b4;\" x=\"208.477195\" xlink:href=\"#m4e76df0f54\" y=\"123.737047\"/>\n     <use style=\"fill:#1f77b4;stroke:#1f77b4;\" x=\"211.551575\" xlink:href=\"#m4e76df0f54\" y=\"125.485266\"/>\n     <use style=\"fill:#1f77b4;stroke:#1f77b4;\" x=\"214.625956\" xlink:href=\"#m4e76df0f54\" y=\"120.629763\"/>\n     <use style=\"fill:#1f77b4;stroke:#1f77b4;\" x=\"217.700336\" xlink:href=\"#m4e76df0f54\" y=\"89.972651\"/>\n     <use style=\"fill:#1f77b4;stroke:#1f77b4;\" x=\"220.774716\" xlink:href=\"#m4e76df0f54\" y=\"105.777371\"/>\n     <use style=\"fill:#1f77b4;stroke:#1f77b4;\" x=\"223.849096\" xlink:href=\"#m4e76df0f54\" y=\"121.895153\"/>\n     <use style=\"fill:#1f77b4;stroke:#1f77b4;\" x=\"226.923476\" xlink:href=\"#m4e76df0f54\" y=\"89.921193\"/>\n     <use style=\"fill:#1f77b4;stroke:#1f77b4;\" x=\"229.997856\" xlink:href=\"#m4e76df0f54\" y=\"73.640936\"/>\n     <use style=\"fill:#1f77b4;stroke:#1f77b4;\" x=\"233.072237\" xlink:href=\"#m4e76df0f54\" y=\"99.533538\"/>\n     <use style=\"fill:#1f77b4;stroke:#1f77b4;\" x=\"236.146617\" xlink:href=\"#m4e76df0f54\" y=\"94.194714\"/>\n     <use style=\"fill:#1f77b4;stroke:#1f77b4;\" x=\"239.220997\" xlink:href=\"#m4e76df0f54\" y=\"100.72461\"/>\n     <use style=\"fill:#1f77b4;stroke:#1f77b4;\" x=\"242.295377\" xlink:href=\"#m4e76df0f54\" y=\"93.671883\"/>\n     <use style=\"fill:#1f77b4;stroke:#1f77b4;\" x=\"245.369757\" xlink:href=\"#m4e76df0f54\" y=\"92.215502\"/>\n     <use style=\"fill:#1f77b4;stroke:#1f77b4;\" x=\"248.444137\" xlink:href=\"#m4e76df0f54\" y=\"101.988771\"/>\n     <use style=\"fill:#1f77b4;stroke:#1f77b4;\" x=\"251.518518\" xlink:href=\"#m4e76df0f54\" y=\"92.671488\"/>\n     <use style=\"fill:#1f77b4;stroke:#1f77b4;\" x=\"254.592898\" xlink:href=\"#m4e76df0f54\" y=\"62.453852\"/>\n     <use style=\"fill:#1f77b4;stroke:#1f77b4;\" x=\"257.667278\" xlink:href=\"#m4e76df0f54\" y=\"78.119362\"/>\n     <use style=\"fill:#1f77b4;stroke:#1f77b4;\" x=\"260.741658\" xlink:href=\"#m4e76df0f54\" y=\"91.001706\"/>\n     <use style=\"fill:#1f77b4;stroke:#1f77b4;\" x=\"263.816038\" xlink:href=\"#m4e76df0f54\" y=\"79.256038\"/>\n     <use style=\"fill:#1f77b4;stroke:#1f77b4;\" x=\"266.890418\" xlink:href=\"#m4e76df0f54\" y=\"65.993794\"/>\n     <use style=\"fill:#1f77b4;stroke:#1f77b4;\" x=\"269.964799\" xlink:href=\"#m4e76df0f54\" y=\"76.008212\"/>\n     <use style=\"fill:#1f77b4;stroke:#1f77b4;\" x=\"273.039179\" xlink:href=\"#m4e76df0f54\" y=\"70.551812\"/>\n     <use style=\"fill:#1f77b4;stroke:#1f77b4;\" x=\"276.113559\" xlink:href=\"#m4e76df0f54\" y=\"88.650889\"/>\n     <use style=\"fill:#1f77b4;stroke:#1f77b4;\" x=\"279.187939\" xlink:href=\"#m4e76df0f54\" y=\"70.749567\"/>\n     <use style=\"fill:#1f77b4;stroke:#1f77b4;\" x=\"282.262319\" xlink:href=\"#m4e76df0f54\" y=\"65.24816\"/>\n     <use style=\"fill:#1f77b4;stroke:#1f77b4;\" x=\"285.336699\" xlink:href=\"#m4e76df0f54\" y=\"71.447753\"/>\n     <use style=\"fill:#1f77b4;stroke:#1f77b4;\" x=\"288.41108\" xlink:href=\"#m4e76df0f54\" y=\"58.527946\"/>\n     <use style=\"fill:#1f77b4;stroke:#1f77b4;\" x=\"291.48546\" xlink:href=\"#m4e76df0f54\" y=\"65.439939\"/>\n     <use style=\"fill:#1f77b4;stroke:#1f77b4;\" x=\"294.55984\" xlink:href=\"#m4e76df0f54\" y=\"62.480179\"/>\n     <use style=\"fill:#1f77b4;stroke:#1f77b4;\" x=\"297.63422\" xlink:href=\"#m4e76df0f54\" y=\"51.827419\"/>\n     <use style=\"fill:#1f77b4;stroke:#1f77b4;\" x=\"300.7086\" xlink:href=\"#m4e76df0f54\" y=\"53.007049\"/>\n     <use style=\"fill:#1f77b4;stroke:#1f77b4;\" x=\"303.78298\" xlink:href=\"#m4e76df0f54\" y=\"53.753106\"/>\n     <use style=\"fill:#1f77b4;stroke:#1f77b4;\" x=\"306.857361\" xlink:href=\"#m4e76df0f54\" y=\"68.542649\"/>\n     <use style=\"fill:#1f77b4;stroke:#1f77b4;\" x=\"309.931741\" xlink:href=\"#m4e76df0f54\" y=\"31.625377\"/>\n     <use style=\"fill:#1f77b4;stroke:#1f77b4;\" x=\"313.006121\" xlink:href=\"#m4e76df0f54\" y=\"52.684084\"/>\n     <use style=\"fill:#1f77b4;stroke:#1f77b4;\" x=\"316.080501\" xlink:href=\"#m4e76df0f54\" y=\"41.278748\"/>\n     <use style=\"fill:#1f77b4;stroke:#1f77b4;\" x=\"319.154881\" xlink:href=\"#m4e76df0f54\" y=\"48.74276\"/>\n     <use style=\"fill:#1f77b4;stroke:#1f77b4;\" x=\"322.229261\" xlink:href=\"#m4e76df0f54\" y=\"21.247399\"/>\n     <use style=\"fill:#1f77b4;stroke:#1f77b4;\" x=\"325.303642\" xlink:href=\"#m4e76df0f54\" y=\"24.775986\"/>\n     <use style=\"fill:#1f77b4;stroke:#1f77b4;\" x=\"328.378022\" xlink:href=\"#m4e76df0f54\" y=\"47.442217\"/>\n     <use style=\"fill:#1f77b4;stroke:#1f77b4;\" x=\"331.452402\" xlink:href=\"#m4e76df0f54\" y=\"29.734198\"/>\n     <use style=\"fill:#1f77b4;stroke:#1f77b4;\" x=\"334.526782\" xlink:href=\"#m4e76df0f54\" y=\"17.083636\"/>\n     <use style=\"fill:#1f77b4;stroke:#1f77b4;\" x=\"337.601162\" xlink:href=\"#m4e76df0f54\" y=\"39.762869\"/>\n     <use style=\"fill:#1f77b4;stroke:#1f77b4;\" x=\"340.675542\" xlink:href=\"#m4e76df0f54\" y=\"28.808028\"/>\n     <use style=\"fill:#1f77b4;stroke:#1f77b4;\" x=\"343.749923\" xlink:href=\"#m4e76df0f54\" y=\"17.512806\"/>\n     <use style=\"fill:#1f77b4;stroke:#1f77b4;\" x=\"346.824303\" xlink:href=\"#m4e76df0f54\" y=\"17.604855\"/>\n     <use style=\"fill:#1f77b4;stroke:#1f77b4;\" x=\"349.898683\" xlink:href=\"#m4e76df0f54\" y=\"46.358127\"/>\n     <use style=\"fill:#1f77b4;stroke:#1f77b4;\" x=\"352.973063\" xlink:href=\"#m4e76df0f54\" y=\"33.636008\"/>\n     <use style=\"fill:#1f77b4;stroke:#1f77b4;\" x=\"356.047443\" xlink:href=\"#m4e76df0f54\" y=\"22.463947\"/>\n    </g>\n   </g>\n   <g id=\"matplotlib.axis_1\">\n    <g id=\"xtick_1\">\n     <g id=\"line2d_1\">\n      <defs>\n       <path d=\"M 0 0 \nL 0 3.5 \n\" id=\"m6d0ae448c3\" style=\"stroke:#000000;stroke-width:0.8;\"/>\n      </defs>\n      <g>\n       <use style=\"stroke:#000000;stroke-width:0.8;\" x=\"51.683807\" xlink:href=\"#m6d0ae448c3\" y=\"224.64\"/>\n      </g>\n     </g>\n     <g id=\"text_1\">\n      <!-- 0 -->\n      <defs>\n       <path d=\"M 31.78125 66.40625 \nQ 24.171875 66.40625 20.328125 58.90625 \nQ 16.5 51.421875 16.5 36.375 \nQ 16.5 21.390625 20.328125 13.890625 \nQ 24.171875 6.390625 31.78125 6.390625 \nQ 39.453125 6.390625 43.28125 13.890625 \nQ 47.125 21.390625 47.125 36.375 \nQ 47.125 51.421875 43.28125 58.90625 \nQ 39.453125 66.40625 31.78125 66.40625 \nz\nM 31.78125 74.21875 \nQ 44.046875 74.21875 50.515625 64.515625 \nQ 56.984375 54.828125 56.984375 36.375 \nQ 56.984375 17.96875 50.515625 8.265625 \nQ 44.046875 -1.421875 31.78125 -1.421875 \nQ 19.53125 -1.421875 13.0625 8.265625 \nQ 6.59375 17.96875 6.59375 36.375 \nQ 6.59375 54.828125 13.0625 64.515625 \nQ 19.53125 74.21875 31.78125 74.21875 \nz\n\" id=\"DejaVuSans-48\"/>\n      </defs>\n      <g transform=\"translate(48.502557 239.238437)scale(0.1 -0.1)\">\n       <use xlink:href=\"#DejaVuSans-48\"/>\n      </g>\n     </g>\n    </g>\n    <g id=\"xtick_2\">\n     <g id=\"line2d_2\">\n      <g>\n       <use style=\"stroke:#000000;stroke-width:0.8;\" x=\"112.556534\" xlink:href=\"#m6d0ae448c3\" y=\"224.64\"/>\n      </g>\n     </g>\n     <g id=\"text_2\">\n      <!-- 2 -->\n      <defs>\n       <path d=\"M 19.1875 8.296875 \nL 53.609375 8.296875 \nL 53.609375 0 \nL 7.328125 0 \nL 7.328125 8.296875 \nQ 12.9375 14.109375 22.625 23.890625 \nQ 32.328125 33.6875 34.8125 36.53125 \nQ 39.546875 41.84375 41.421875 45.53125 \nQ 43.3125 49.21875 43.3125 52.78125 \nQ 43.3125 58.59375 39.234375 62.25 \nQ 35.15625 65.921875 28.609375 65.921875 \nQ 23.96875 65.921875 18.8125 64.3125 \nQ 13.671875 62.703125 7.8125 59.421875 \nL 7.8125 69.390625 \nQ 13.765625 71.78125 18.9375 73 \nQ 24.125 74.21875 28.421875 74.21875 \nQ 39.75 74.21875 46.484375 68.546875 \nQ 53.21875 62.890625 53.21875 53.421875 \nQ 53.21875 48.921875 51.53125 44.890625 \nQ 49.859375 40.875 45.40625 35.40625 \nQ 44.1875 33.984375 37.640625 27.21875 \nQ 31.109375 20.453125 19.1875 8.296875 \nz\n\" id=\"DejaVuSans-50\"/>\n      </defs>\n      <g transform=\"translate(109.375284 239.238437)scale(0.1 -0.1)\">\n       <use xlink:href=\"#DejaVuSans-50\"/>\n      </g>\n     </g>\n    </g>\n    <g id=\"xtick_3\">\n     <g id=\"line2d_3\">\n      <g>\n       <use style=\"stroke:#000000;stroke-width:0.8;\" x=\"173.429261\" xlink:href=\"#m6d0ae448c3\" y=\"224.64\"/>\n      </g>\n     </g>\n     <g id=\"text_3\">\n      <!-- 4 -->\n      <defs>\n       <path d=\"M 37.796875 64.3125 \nL 12.890625 25.390625 \nL 37.796875 25.390625 \nz\nM 35.203125 72.90625 \nL 47.609375 72.90625 \nL 47.609375 25.390625 \nL 58.015625 25.390625 \nL 58.015625 17.1875 \nL 47.609375 17.1875 \nL 47.609375 0 \nL 37.796875 0 \nL 37.796875 17.1875 \nL 4.890625 17.1875 \nL 4.890625 26.703125 \nz\n\" id=\"DejaVuSans-52\"/>\n      </defs>\n      <g transform=\"translate(170.248011 239.238437)scale(0.1 -0.1)\">\n       <use xlink:href=\"#DejaVuSans-52\"/>\n      </g>\n     </g>\n    </g>\n    <g id=\"xtick_4\">\n     <g id=\"line2d_4\">\n      <g>\n       <use style=\"stroke:#000000;stroke-width:0.8;\" x=\"234.301989\" xlink:href=\"#m6d0ae448c3\" y=\"224.64\"/>\n      </g>\n     </g>\n     <g id=\"text_4\">\n      <!-- 6 -->\n      <defs>\n       <path d=\"M 33.015625 40.375 \nQ 26.375 40.375 22.484375 35.828125 \nQ 18.609375 31.296875 18.609375 23.390625 \nQ 18.609375 15.53125 22.484375 10.953125 \nQ 26.375 6.390625 33.015625 6.390625 \nQ 39.65625 6.390625 43.53125 10.953125 \nQ 47.40625 15.53125 47.40625 23.390625 \nQ 47.40625 31.296875 43.53125 35.828125 \nQ 39.65625 40.375 33.015625 40.375 \nz\nM 52.59375 71.296875 \nL 52.59375 62.3125 \nQ 48.875 64.0625 45.09375 64.984375 \nQ 41.3125 65.921875 37.59375 65.921875 \nQ 27.828125 65.921875 22.671875 59.328125 \nQ 17.53125 52.734375 16.796875 39.40625 \nQ 19.671875 43.65625 24.015625 45.921875 \nQ 28.375 48.1875 33.59375 48.1875 \nQ 44.578125 48.1875 50.953125 41.515625 \nQ 57.328125 34.859375 57.328125 23.390625 \nQ 57.328125 12.15625 50.6875 5.359375 \nQ 44.046875 -1.421875 33.015625 -1.421875 \nQ 20.359375 -1.421875 13.671875 8.265625 \nQ 6.984375 17.96875 6.984375 36.375 \nQ 6.984375 53.65625 15.1875 63.9375 \nQ 23.390625 74.21875 37.203125 74.21875 \nQ 40.921875 74.21875 44.703125 73.484375 \nQ 48.484375 72.75 52.59375 71.296875 \nz\n\" id=\"DejaVuSans-54\"/>\n      </defs>\n      <g transform=\"translate(231.120739 239.238437)scale(0.1 -0.1)\">\n       <use xlink:href=\"#DejaVuSans-54\"/>\n      </g>\n     </g>\n    </g>\n    <g id=\"xtick_5\">\n     <g id=\"line2d_5\">\n      <g>\n       <use style=\"stroke:#000000;stroke-width:0.8;\" x=\"295.174716\" xlink:href=\"#m6d0ae448c3\" y=\"224.64\"/>\n      </g>\n     </g>\n     <g id=\"text_5\">\n      <!-- 8 -->\n      <defs>\n       <path d=\"M 31.78125 34.625 \nQ 24.75 34.625 20.71875 30.859375 \nQ 16.703125 27.09375 16.703125 20.515625 \nQ 16.703125 13.921875 20.71875 10.15625 \nQ 24.75 6.390625 31.78125 6.390625 \nQ 38.8125 6.390625 42.859375 10.171875 \nQ 46.921875 13.96875 46.921875 20.515625 \nQ 46.921875 27.09375 42.890625 30.859375 \nQ 38.875 34.625 31.78125 34.625 \nz\nM 21.921875 38.8125 \nQ 15.578125 40.375 12.03125 44.71875 \nQ 8.5 49.078125 8.5 55.328125 \nQ 8.5 64.0625 14.71875 69.140625 \nQ 20.953125 74.21875 31.78125 74.21875 \nQ 42.671875 74.21875 48.875 69.140625 \nQ 55.078125 64.0625 55.078125 55.328125 \nQ 55.078125 49.078125 51.53125 44.71875 \nQ 48 40.375 41.703125 38.8125 \nQ 48.828125 37.15625 52.796875 32.3125 \nQ 56.78125 27.484375 56.78125 20.515625 \nQ 56.78125 9.90625 50.3125 4.234375 \nQ 43.84375 -1.421875 31.78125 -1.421875 \nQ 19.734375 -1.421875 13.25 4.234375 \nQ 6.78125 9.90625 6.78125 20.515625 \nQ 6.78125 27.484375 10.78125 32.3125 \nQ 14.796875 37.15625 21.921875 38.8125 \nz\nM 18.3125 54.390625 \nQ 18.3125 48.734375 21.84375 45.5625 \nQ 25.390625 42.390625 31.78125 42.390625 \nQ 38.140625 42.390625 41.71875 45.5625 \nQ 45.3125 48.734375 45.3125 54.390625 \nQ 45.3125 60.0625 41.71875 63.234375 \nQ 38.140625 66.40625 31.78125 66.40625 \nQ 25.390625 66.40625 21.84375 63.234375 \nQ 18.3125 60.0625 18.3125 54.390625 \nz\n\" id=\"DejaVuSans-56\"/>\n      </defs>\n      <g transform=\"translate(291.993466 239.238437)scale(0.1 -0.1)\">\n       <use xlink:href=\"#DejaVuSans-56\"/>\n      </g>\n     </g>\n    </g>\n    <g id=\"xtick_6\">\n     <g id=\"line2d_6\">\n      <g>\n       <use style=\"stroke:#000000;stroke-width:0.8;\" x=\"356.047443\" xlink:href=\"#m6d0ae448c3\" y=\"224.64\"/>\n      </g>\n     </g>\n     <g id=\"text_6\">\n      <!-- 10 -->\n      <defs>\n       <path d=\"M 12.40625 8.296875 \nL 28.515625 8.296875 \nL 28.515625 63.921875 \nL 10.984375 60.40625 \nL 10.984375 69.390625 \nL 28.421875 72.90625 \nL 38.28125 72.90625 \nL 38.28125 8.296875 \nL 54.390625 8.296875 \nL 54.390625 0 \nL 12.40625 0 \nz\n\" id=\"DejaVuSans-49\"/>\n      </defs>\n      <g transform=\"translate(349.684943 239.238437)scale(0.1 -0.1)\">\n       <use xlink:href=\"#DejaVuSans-49\"/>\n       <use x=\"63.623047\" xlink:href=\"#DejaVuSans-48\"/>\n      </g>\n     </g>\n    </g>\n   </g>\n   <g id=\"matplotlib.axis_2\">\n    <g id=\"ytick_1\">\n     <g id=\"line2d_7\">\n      <defs>\n       <path d=\"M 0 0 \nL -3.5 0 \n\" id=\"m02f438eb19\" style=\"stroke:#000000;stroke-width:0.8;\"/>\n      </defs>\n      <g>\n       <use style=\"stroke:#000000;stroke-width:0.8;\" x=\"36.465625\" xlink:href=\"#m02f438eb19\" y=\"214.756364\"/>\n      </g>\n     </g>\n     <g id=\"text_7\">\n      <!-- 0.0 -->\n      <defs>\n       <path d=\"M 10.6875 12.40625 \nL 21 12.40625 \nL 21 0 \nL 10.6875 0 \nz\n\" id=\"DejaVuSans-46\"/>\n      </defs>\n      <g transform=\"translate(13.5625 218.555582)scale(0.1 -0.1)\">\n       <use xlink:href=\"#DejaVuSans-48\"/>\n       <use x=\"63.623047\" xlink:href=\"#DejaVuSans-46\"/>\n       <use x=\"95.410156\" xlink:href=\"#DejaVuSans-48\"/>\n      </g>\n     </g>\n    </g>\n    <g id=\"ytick_2\">\n     <g id=\"line2d_8\">\n      <g>\n       <use style=\"stroke:#000000;stroke-width:0.8;\" x=\"36.465625\" xlink:href=\"#m02f438eb19\" y=\"190.421434\"/>\n      </g>\n     </g>\n     <g id=\"text_8\">\n      <!-- 2.5 -->\n      <defs>\n       <path d=\"M 10.796875 72.90625 \nL 49.515625 72.90625 \nL 49.515625 64.59375 \nL 19.828125 64.59375 \nL 19.828125 46.734375 \nQ 21.96875 47.46875 24.109375 47.828125 \nQ 26.265625 48.1875 28.421875 48.1875 \nQ 40.625 48.1875 47.75 41.5 \nQ 54.890625 34.8125 54.890625 23.390625 \nQ 54.890625 11.625 47.5625 5.09375 \nQ 40.234375 -1.421875 26.90625 -1.421875 \nQ 22.3125 -1.421875 17.546875 -0.640625 \nQ 12.796875 0.140625 7.71875 1.703125 \nL 7.71875 11.625 \nQ 12.109375 9.234375 16.796875 8.0625 \nQ 21.484375 6.890625 26.703125 6.890625 \nQ 35.15625 6.890625 40.078125 11.328125 \nQ 45.015625 15.765625 45.015625 23.390625 \nQ 45.015625 31 40.078125 35.4375 \nQ 35.15625 39.890625 26.703125 39.890625 \nQ 22.75 39.890625 18.8125 39.015625 \nQ 14.890625 38.140625 10.796875 36.28125 \nz\n\" id=\"DejaVuSans-53\"/>\n      </defs>\n      <g transform=\"translate(13.5625 194.220652)scale(0.1 -0.1)\">\n       <use xlink:href=\"#DejaVuSans-50\"/>\n       <use x=\"63.623047\" xlink:href=\"#DejaVuSans-46\"/>\n       <use x=\"95.410156\" xlink:href=\"#DejaVuSans-53\"/>\n      </g>\n     </g>\n    </g>\n    <g id=\"ytick_3\">\n     <g id=\"line2d_9\">\n      <g>\n       <use style=\"stroke:#000000;stroke-width:0.8;\" x=\"36.465625\" xlink:href=\"#m02f438eb19\" y=\"166.086503\"/>\n      </g>\n     </g>\n     <g id=\"text_9\">\n      <!-- 5.0 -->\n      <g transform=\"translate(13.5625 169.885722)scale(0.1 -0.1)\">\n       <use xlink:href=\"#DejaVuSans-53\"/>\n       <use x=\"63.623047\" xlink:href=\"#DejaVuSans-46\"/>\n       <use x=\"95.410156\" xlink:href=\"#DejaVuSans-48\"/>\n      </g>\n     </g>\n    </g>\n    <g id=\"ytick_4\">\n     <g id=\"line2d_10\">\n      <g>\n       <use style=\"stroke:#000000;stroke-width:0.8;\" x=\"36.465625\" xlink:href=\"#m02f438eb19\" y=\"141.751573\"/>\n      </g>\n     </g>\n     <g id=\"text_10\">\n      <!-- 7.5 -->\n      <defs>\n       <path d=\"M 8.203125 72.90625 \nL 55.078125 72.90625 \nL 55.078125 68.703125 \nL 28.609375 0 \nL 18.3125 0 \nL 43.21875 64.59375 \nL 8.203125 64.59375 \nz\n\" id=\"DejaVuSans-55\"/>\n      </defs>\n      <g transform=\"translate(13.5625 145.550792)scale(0.1 -0.1)\">\n       <use xlink:href=\"#DejaVuSans-55\"/>\n       <use x=\"63.623047\" xlink:href=\"#DejaVuSans-46\"/>\n       <use x=\"95.410156\" xlink:href=\"#DejaVuSans-53\"/>\n      </g>\n     </g>\n    </g>\n    <g id=\"ytick_5\">\n     <g id=\"line2d_11\">\n      <g>\n       <use style=\"stroke:#000000;stroke-width:0.8;\" x=\"36.465625\" xlink:href=\"#m02f438eb19\" y=\"117.416643\"/>\n      </g>\n     </g>\n     <g id=\"text_11\">\n      <!-- 10.0 -->\n      <g transform=\"translate(7.2 121.215862)scale(0.1 -0.1)\">\n       <use xlink:href=\"#DejaVuSans-49\"/>\n       <use x=\"63.623047\" xlink:href=\"#DejaVuSans-48\"/>\n       <use x=\"127.246094\" xlink:href=\"#DejaVuSans-46\"/>\n       <use x=\"159.033203\" xlink:href=\"#DejaVuSans-48\"/>\n      </g>\n     </g>\n    </g>\n    <g id=\"ytick_6\">\n     <g id=\"line2d_12\">\n      <g>\n       <use style=\"stroke:#000000;stroke-width:0.8;\" x=\"36.465625\" xlink:href=\"#m02f438eb19\" y=\"93.081713\"/>\n      </g>\n     </g>\n     <g id=\"text_12\">\n      <!-- 12.5 -->\n      <g transform=\"translate(7.2 96.880932)scale(0.1 -0.1)\">\n       <use xlink:href=\"#DejaVuSans-49\"/>\n       <use x=\"63.623047\" xlink:href=\"#DejaVuSans-50\"/>\n       <use x=\"127.246094\" xlink:href=\"#DejaVuSans-46\"/>\n       <use x=\"159.033203\" xlink:href=\"#DejaVuSans-53\"/>\n      </g>\n     </g>\n    </g>\n    <g id=\"ytick_7\">\n     <g id=\"line2d_13\">\n      <g>\n       <use style=\"stroke:#000000;stroke-width:0.8;\" x=\"36.465625\" xlink:href=\"#m02f438eb19\" y=\"68.746783\"/>\n      </g>\n     </g>\n     <g id=\"text_13\">\n      <!-- 15.0 -->\n      <g transform=\"translate(7.2 72.546002)scale(0.1 -0.1)\">\n       <use xlink:href=\"#DejaVuSans-49\"/>\n       <use x=\"63.623047\" xlink:href=\"#DejaVuSans-53\"/>\n       <use x=\"127.246094\" xlink:href=\"#DejaVuSans-46\"/>\n       <use x=\"159.033203\" xlink:href=\"#DejaVuSans-48\"/>\n      </g>\n     </g>\n    </g>\n    <g id=\"ytick_8\">\n     <g id=\"line2d_14\">\n      <g>\n       <use style=\"stroke:#000000;stroke-width:0.8;\" x=\"36.465625\" xlink:href=\"#m02f438eb19\" y=\"44.411853\"/>\n      </g>\n     </g>\n     <g id=\"text_14\">\n      <!-- 17.5 -->\n      <g transform=\"translate(7.2 48.211072)scale(0.1 -0.1)\">\n       <use xlink:href=\"#DejaVuSans-49\"/>\n       <use x=\"63.623047\" xlink:href=\"#DejaVuSans-55\"/>\n       <use x=\"127.246094\" xlink:href=\"#DejaVuSans-46\"/>\n       <use x=\"159.033203\" xlink:href=\"#DejaVuSans-53\"/>\n      </g>\n     </g>\n    </g>\n    <g id=\"ytick_9\">\n     <g id=\"line2d_15\">\n      <g>\n       <use style=\"stroke:#000000;stroke-width:0.8;\" x=\"36.465625\" xlink:href=\"#m02f438eb19\" y=\"20.076923\"/>\n      </g>\n     </g>\n     <g id=\"text_15\">\n      <!-- 20.0 -->\n      <g transform=\"translate(7.2 23.876141)scale(0.1 -0.1)\">\n       <use xlink:href=\"#DejaVuSans-50\"/>\n       <use x=\"63.623047\" xlink:href=\"#DejaVuSans-48\"/>\n       <use x=\"127.246094\" xlink:href=\"#DejaVuSans-46\"/>\n       <use x=\"159.033203\" xlink:href=\"#DejaVuSans-48\"/>\n      </g>\n     </g>\n    </g>\n   </g>\n   <g id=\"line2d_16\">\n    <path clip-path=\"url(#p53d7bcc501)\" d=\"M 51.683807 214.756364 \nL 54.758187 212.791682 \nL 57.832567 210.826999 \nL 60.906947 208.862317 \nL 63.981327 206.897635 \nL 67.055708 204.932953 \nL 70.130088 202.968271 \nL 73.204468 201.003589 \nL 76.278848 199.038907 \nL 79.353228 197.074225 \nL 82.427608 195.109543 \nL 85.501989 193.144861 \nL 88.576369 191.180178 \nL 91.650749 189.215496 \nL 94.725129 187.250814 \nL 97.799509 185.286132 \nL 100.873889 183.32145 \nL 103.94827 181.356768 \nL 107.02265 179.392086 \nL 110.09703 177.427404 \nL 113.17141 175.462722 \nL 116.24579 173.49804 \nL 119.32017 171.533358 \nL 122.394551 169.568675 \nL 125.468931 167.603993 \nL 128.543311 165.639311 \nL 131.617691 163.674629 \nL 134.692071 161.709947 \nL 137.766451 159.745265 \nL 140.840832 157.780583 \nL 143.915212 155.815901 \nL 146.989592 153.851219 \nL 150.063972 151.886537 \nL 153.138352 149.921854 \nL 156.212732 147.957172 \nL 159.287113 145.99249 \nL 162.361493 144.027808 \nL 165.435873 142.063126 \nL 168.510253 140.098444 \nL 171.584633 138.133762 \nL 174.659013 136.16908 \nL 177.733394 134.204398 \nL 180.807774 132.239716 \nL 183.882154 130.275033 \nL 186.956534 128.310351 \nL 190.030914 126.345669 \nL 193.105294 124.380987 \nL 196.179675 122.416305 \nL 199.254055 120.451623 \nL 202.328435 118.486941 \nL 205.402815 116.522259 \nL 208.477195 114.557577 \nL 211.551575 112.592895 \nL 214.625956 110.628213 \nL 217.700336 108.66353 \nL 220.774716 106.698848 \nL 223.849096 104.734166 \nL 226.923476 102.769484 \nL 229.997856 100.804802 \nL 233.072237 98.84012 \nL 236.146617 96.875438 \nL 239.220997 94.910756 \nL 242.295377 92.946074 \nL 245.369757 90.981392 \nL 248.444137 89.016709 \nL 251.518518 87.052027 \nL 254.592898 85.087345 \nL 257.667278 83.122663 \nL 260.741658 81.157981 \nL 263.816038 79.193299 \nL 266.890418 77.228617 \nL 269.964799 75.263935 \nL 273.039179 73.299253 \nL 276.113559 71.334571 \nL 279.187939 69.369889 \nL 282.262319 67.405206 \nL 285.336699 65.440524 \nL 288.41108 63.475842 \nL 291.48546 61.51116 \nL 294.55984 59.546478 \nL 297.63422 57.581796 \nL 300.7086 55.617114 \nL 303.78298 53.652432 \nL 306.857361 51.68775 \nL 309.931741 49.723068 \nL 313.006121 47.758385 \nL 316.080501 45.793703 \nL 319.154881 43.829021 \nL 322.229261 41.864339 \nL 325.303642 39.899657 \nL 328.378022 37.934975 \nL 331.452402 35.970293 \nL 334.526782 34.005611 \nL 337.601162 32.040929 \nL 340.675542 30.076247 \nL 343.749923 28.111564 \nL 346.824303 26.146882 \nL 349.898683 24.1822 \nL 352.973063 22.217518 \nL 356.047443 20.252836 \n\" style=\"fill:none;stroke:#ff0000;stroke-linecap:square;stroke-width:1.5;\"/>\n   </g>\n   <g id=\"patch_3\">\n    <path d=\"M 36.465625 224.64 \nL 36.465625 7.2 \n\" style=\"fill:none;stroke:#000000;stroke-linecap:square;stroke-linejoin:miter;stroke-width:0.8;\"/>\n   </g>\n   <g id=\"patch_4\">\n    <path d=\"M 371.265625 224.64 \nL 371.265625 7.2 \n\" style=\"fill:none;stroke:#000000;stroke-linecap:square;stroke-linejoin:miter;stroke-width:0.8;\"/>\n   </g>\n   <g id=\"patch_5\">\n    <path d=\"M 36.465625 224.64 \nL 371.265625 224.64 \n\" style=\"fill:none;stroke:#000000;stroke-linecap:square;stroke-linejoin:miter;stroke-width:0.8;\"/>\n   </g>\n   <g id=\"patch_6\">\n    <path d=\"M 36.465625 7.2 \nL 371.265625 7.2 \n\" style=\"fill:none;stroke:#000000;stroke-linecap:square;stroke-linejoin:miter;stroke-width:0.8;\"/>\n   </g>\n   <g id=\"legend_1\">\n    <g id=\"patch_7\">\n     <path d=\"M 43.465625 44.55625 \nL 97.990625 44.55625 \nQ 99.990625 44.55625 99.990625 42.55625 \nL 99.990625 14.2 \nQ 99.990625 12.2 97.990625 12.2 \nL 43.465625 12.2 \nQ 41.465625 12.2 41.465625 14.2 \nL 41.465625 42.55625 \nQ 41.465625 44.55625 43.465625 44.55625 \nz\n\" style=\"fill:#ffffff;opacity:0.8;stroke:#cccccc;stroke-linejoin:miter;\"/>\n    </g>\n    <g id=\"line2d_17\">\n     <path d=\"M 45.465625 20.298437 \nL 65.465625 20.298437 \n\" style=\"fill:none;stroke:#ff0000;stroke-linecap:square;stroke-width:1.5;\"/>\n    </g>\n    <g id=\"line2d_18\"/>\n    <g id=\"text_16\">\n     <!-- fit -->\n     <defs>\n      <path d=\"M 37.109375 75.984375 \nL 37.109375 68.5 \nL 28.515625 68.5 \nQ 23.6875 68.5 21.796875 66.546875 \nQ 19.921875 64.59375 19.921875 59.515625 \nL 19.921875 54.6875 \nL 34.71875 54.6875 \nL 34.71875 47.703125 \nL 19.921875 47.703125 \nL 19.921875 0 \nL 10.890625 0 \nL 10.890625 47.703125 \nL 2.296875 47.703125 \nL 2.296875 54.6875 \nL 10.890625 54.6875 \nL 10.890625 58.5 \nQ 10.890625 67.625 15.140625 71.796875 \nQ 19.390625 75.984375 28.609375 75.984375 \nz\n\" id=\"DejaVuSans-102\"/>\n      <path d=\"M 9.421875 54.6875 \nL 18.40625 54.6875 \nL 18.40625 0 \nL 9.421875 0 \nz\nM 9.421875 75.984375 \nL 18.40625 75.984375 \nL 18.40625 64.59375 \nL 9.421875 64.59375 \nz\n\" id=\"DejaVuSans-105\"/>\n      <path d=\"M 18.3125 70.21875 \nL 18.3125 54.6875 \nL 36.8125 54.6875 \nL 36.8125 47.703125 \nL 18.3125 47.703125 \nL 18.3125 18.015625 \nQ 18.3125 11.328125 20.140625 9.421875 \nQ 21.96875 7.515625 27.59375 7.515625 \nL 36.8125 7.515625 \nL 36.8125 0 \nL 27.59375 0 \nQ 17.1875 0 13.234375 3.875 \nQ 9.28125 7.765625 9.28125 18.015625 \nL 9.28125 47.703125 \nL 2.6875 47.703125 \nL 2.6875 54.6875 \nL 9.28125 54.6875 \nL 9.28125 70.21875 \nz\n\" id=\"DejaVuSans-116\"/>\n     </defs>\n     <g transform=\"translate(73.465625 23.798437)scale(0.1 -0.1)\">\n      <use xlink:href=\"#DejaVuSans-102\"/>\n      <use x=\"35.205078\" xlink:href=\"#DejaVuSans-105\"/>\n      <use x=\"62.988281\" xlink:href=\"#DejaVuSans-116\"/>\n     </g>\n    </g>\n    <g id=\"PathCollection_2\">\n     <g>\n      <use style=\"fill:#1f77b4;stroke:#1f77b4;\" x=\"55.465625\" xlink:href=\"#m4e76df0f54\" y=\"35.851562\"/>\n     </g>\n    </g>\n    <g id=\"text_17\">\n     <!-- data -->\n     <defs>\n      <path d=\"M 45.40625 46.390625 \nL 45.40625 75.984375 \nL 54.390625 75.984375 \nL 54.390625 0 \nL 45.40625 0 \nL 45.40625 8.203125 \nQ 42.578125 3.328125 38.25 0.953125 \nQ 33.9375 -1.421875 27.875 -1.421875 \nQ 17.96875 -1.421875 11.734375 6.484375 \nQ 5.515625 14.40625 5.515625 27.296875 \nQ 5.515625 40.1875 11.734375 48.09375 \nQ 17.96875 56 27.875 56 \nQ 33.9375 56 38.25 53.625 \nQ 42.578125 51.265625 45.40625 46.390625 \nz\nM 14.796875 27.296875 \nQ 14.796875 17.390625 18.875 11.75 \nQ 22.953125 6.109375 30.078125 6.109375 \nQ 37.203125 6.109375 41.296875 11.75 \nQ 45.40625 17.390625 45.40625 27.296875 \nQ 45.40625 37.203125 41.296875 42.84375 \nQ 37.203125 48.484375 30.078125 48.484375 \nQ 22.953125 48.484375 18.875 42.84375 \nQ 14.796875 37.203125 14.796875 27.296875 \nz\n\" id=\"DejaVuSans-100\"/>\n      <path d=\"M 34.28125 27.484375 \nQ 23.390625 27.484375 19.1875 25 \nQ 14.984375 22.515625 14.984375 16.5 \nQ 14.984375 11.71875 18.140625 8.90625 \nQ 21.296875 6.109375 26.703125 6.109375 \nQ 34.1875 6.109375 38.703125 11.40625 \nQ 43.21875 16.703125 43.21875 25.484375 \nL 43.21875 27.484375 \nz\nM 52.203125 31.203125 \nL 52.203125 0 \nL 43.21875 0 \nL 43.21875 8.296875 \nQ 40.140625 3.328125 35.546875 0.953125 \nQ 30.953125 -1.421875 24.3125 -1.421875 \nQ 15.921875 -1.421875 10.953125 3.296875 \nQ 6 8.015625 6 15.921875 \nQ 6 25.140625 12.171875 29.828125 \nQ 18.359375 34.515625 30.609375 34.515625 \nL 43.21875 34.515625 \nL 43.21875 35.40625 \nQ 43.21875 41.609375 39.140625 45 \nQ 35.0625 48.390625 27.6875 48.390625 \nQ 23 48.390625 18.546875 47.265625 \nQ 14.109375 46.140625 10.015625 43.890625 \nL 10.015625 52.203125 \nQ 14.9375 54.109375 19.578125 55.046875 \nQ 24.21875 56 28.609375 56 \nQ 40.484375 56 46.34375 49.84375 \nQ 52.203125 43.703125 52.203125 31.203125 \nz\n\" id=\"DejaVuSans-97\"/>\n     </defs>\n     <g transform=\"translate(73.465625 38.476562)scale(0.1 -0.1)\">\n      <use xlink:href=\"#DejaVuSans-100\"/>\n      <use x=\"63.476562\" xlink:href=\"#DejaVuSans-97\"/>\n      <use x=\"124.755859\" xlink:href=\"#DejaVuSans-116\"/>\n      <use x=\"163.964844\" xlink:href=\"#DejaVuSans-97\"/>\n     </g>\n    </g>\n   </g>\n  </g>\n </g>\n <defs>\n  <clipPath id=\"p53d7bcc501\">\n   <rect height=\"217.44\" width=\"334.8\" x=\"36.465625\" y=\"7.2\"/>\n  </clipPath>\n </defs>\n</svg>\n"
          },
          "metadata": {
            "needs_background": "light"
          }
        }
      ]
    },
    {
      "cell_type": "markdown",
      "source": [
        "# Partie 5: extensions\n",
        "\n",
        "Soit une fonction à plusieurs arguments de la forme $f(x, y, z)$. Expliquez comment nous pouvons utiliser l'approche développée ici pour calculer la dérivée partielle de cette fonction par rapport à tout argument, autre que seulement le premier, ou bien au-delà des fonctions à un seul argument de la forme $f(x)$. Tous les morceaux devraient être en place sans avoir à changer quoique ce soit dans ``trace`` ou ``visit`` pour y arriver. Il suffit ici de généraliser les étapes manuelles d'appel à ``visit`` et de création de bases standard à l'aide de ``standard_basis``.\n",
        "\n",
        "Maintenant, implémentez une fonction ``grad`` permet de calculer le gradient d'une fonction par rapport à un argument donné ``argnum``."
      ],
      "metadata": {
        "id": "8bcYgCMekaRt"
      }
    },
    {
      "cell_type": "code",
      "source": [
        "def jacobian(func, argnum):\n",
        "  def jacfun(*primals):\n",
        "      # À IMPLÉMENTER\n",
        "    pass\n",
        "  return jacfun"
      ],
      "metadata": {
        "id": "q7kimqxJlgko"
      },
      "execution_count": null,
      "outputs": []
    },
    {
      "cell_type": "markdown",
      "source": [
        "Proposez un exemple pour vérifier votre réponse. "
      ],
      "metadata": {
        "id": "0MXnmlaFmA9I"
      }
    },
    {
      "cell_type": "code",
      "source": [
        "# À IMPLÉMENTER"
      ],
      "metadata": {
        "id": "Vi0ep2w2tWrp"
      },
      "execution_count": null,
      "outputs": []
    }
  ]
}